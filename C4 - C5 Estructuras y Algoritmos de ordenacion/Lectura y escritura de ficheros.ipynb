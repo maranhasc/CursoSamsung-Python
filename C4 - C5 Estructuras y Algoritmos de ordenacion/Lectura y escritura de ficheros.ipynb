{
 "cells": [
  {
   "cell_type": "markdown",
   "metadata": {},
   "source": [
    "## Lectura y escritura de ficheros"
   ]
  },
  {
   "cell_type": "markdown",
   "metadata": {},
   "source": [
    "### 1. Reading and writing text files:"
   ]
  },
  {
   "cell_type": "code",
   "execution_count": 13,
   "metadata": {},
   "outputs": [],
   "source": [
    "import os"
   ]
  },
  {
   "cell_type": "code",
   "execution_count": 15,
   "metadata": {},
   "outputs": [
    {
     "data": {
      "text/plain": [
       "'C:\\\\Users\\\\pgcv01'"
      ]
     },
     "execution_count": 15,
     "metadata": {},
     "output_type": "execute_result"
    }
   ],
   "source": [
    "# ADD CODE. Get the current working directory (use getpwd of the os library)\n",
    "os.getcwd()"
   ]
  },
  {
   "cell_type": "code",
   "execution_count": 27,
   "metadata": {},
   "outputs": [
    {
     "name": "stdout",
     "output_type": "stream",
     "text": [
      "C:\\Users\\pgcv01\\AppData\n",
      "C:\\Users\\pgcv01\n"
     ]
    }
   ],
   "source": [
    "# ADD CODE. Go to the directory where the file named \"my_file.txt\" is located (use chdir)\n",
    "os.chdir(\"C:\\\\Users\\\\pgcv01\\AppData\")\n",
    "print(os.getcwd())\n",
    "\n",
    "os.chdir(\"C:\\\\Users\\\\pgcv01\")\n",
    "print(os.getcwd())"
   ]
  },
  {
   "cell_type": "code",
   "execution_count": 18,
   "metadata": {},
   "outputs": [
    {
     "name": "stdout",
     "output_type": "stream",
     "text": [
      "This is a new file\n",
      "otra\n",
      "dos\n",
      "tres\n",
      "\n"
     ]
    }
   ],
   "source": [
    "# ADD CODE. Open the text file \"my_file.txt\" in read mode.\n",
    "f = open(\"fichero.txt\", 'r')   \n",
    "\n",
    "# ADD CODE. Read in all at once.\n",
    "leer = f.read()  \n",
    "\n",
    "# ADD CODE. Print out all at once.\n",
    "print(leer)              \n",
    "\n",
    "# ADD CODE. Close the file using the \"close\" function of the handle f\n",
    "f.close()               "
   ]
  },
  {
   "cell_type": "code",
   "execution_count": 21,
   "metadata": {},
   "outputs": [
    {
     "name": "stdout",
     "output_type": "stream",
     "text": [
      "This is a new file"
     ]
    }
   ],
   "source": [
    "# ADD CODE. Open the text file \"my_file.txt\" in read mode.\n",
    "f = open(\"fichero.txt\", 'r')   \n",
    "# ADD CODE. Read all the lines of the file\n",
    "all = f.readlines()  \n",
    "# ADD CODE. Print out line by line.\n",
    "for i in all:\n",
    "     print(i, end='')             \n",
    "\n",
    "# ADD CODE. Close the file using the \"close\" function of the handle f\n",
    "f.close()"
   ]
  },
  {
   "cell_type": "code",
   "execution_count": 20,
   "metadata": {},
   "outputs": [],
   "source": [
    "# ADD CODE. Open the text file \"new_file.txt\" in write mode.\n",
    "f = open(\"fichero.txt\", 'w') \n",
    "# ADD CODE. Write the sentence 'This is a new file.'\n",
    "f.write('This is a new file') \n",
    "# ADD CODE. Close the file.\n",
    "\n",
    "f.close()    "
   ]
  },
  {
   "cell_type": "code",
   "execution_count": 22,
   "metadata": {},
   "outputs": [],
   "source": [
    "# ADD CODE. Open the text file \"new_file.txt\" in write mode.\n",
    "f = open(\"fichero.txt\", 'w')                   # It opens again the same file in write mode. (Overwrite)\n",
    "# ADD CODE. Write the sentence 'This is another file!'\n",
    "f.write('This is another file') \n",
    "# ADD CODE. Close the file.\n",
    "f.close() "
   ]
  },
  {
   "cell_type": "code",
   "execution_count": null,
   "metadata": {},
   "outputs": [],
   "source": [
    "# ADD CODE. Open the text file \"new_file.txt\" in append mode.\n",
    "f = ...\n",
    "# ADD CODE. Write the sentence 'This is the end!'\n",
    "...                      # The sentence will be appended at the end of the file.\n",
    "# ADD CODE. Close the file.\n",
    "..."
   ]
  },
  {
   "cell_type": "markdown",
   "metadata": {},
   "source": [
    "### 2. Using the Pickle library:"
   ]
  },
  {
   "cell_type": "code",
   "execution_count": 23,
   "metadata": {},
   "outputs": [],
   "source": [
    "# Import the library.\n",
    "import pickle"
   ]
  },
  {
   "cell_type": "code",
   "execution_count": 24,
   "metadata": {},
   "outputs": [
    {
     "name": "stdout",
     "output_type": "stream",
     "text": [
      "[1, 2, 3, {'Name': 'John', 'Age': 25, 'Score': 9}]\n"
     ]
    }
   ],
   "source": [
    "x = [1,2,3, {'Name':'John', 'Age':25, 'Score':9}]         # An object.\n",
    "print(x)"
   ]
  },
  {
   "cell_type": "code",
   "execution_count": 25,
   "metadata": {},
   "outputs": [],
   "source": [
    "# ADD CODE. Use the \"dump\" function\n",
    "f= open('my_pickle.pkl','wb')\n",
    "pickle.dump (x,f)                # To be pickled.\n",
    "f.close()"
   ]
  },
  {
   "cell_type": "code",
   "execution_count": null,
   "metadata": {},
   "outputs": [],
   "source": [
    "# ADD CODE. Delete the \"x\" variable\n",
    "...\n",
    "# ADD CODE. Print the \"x\" variable. It should provides an error\n",
    "..."
   ]
  },
  {
   "cell_type": "code",
   "execution_count": null,
   "metadata": {},
   "outputs": [],
   "source": [
    "# ADD CODE. Use the \"load\" function\n",
    "new_x = pickle. ...(open('my_pickle.pkl','rb'))           # Bring back the pickled object.\n",
    "..."
   ]
  }
 ],
 "metadata": {
  "kernelspec": {
   "display_name": "Python 3 (ipykernel)",
   "language": "python",
   "name": "python3"
  },
  "language_info": {
   "codemirror_mode": {
    "name": "ipython",
    "version": 3
   },
   "file_extension": ".py",
   "mimetype": "text/x-python",
   "name": "python",
   "nbconvert_exporter": "python",
   "pygments_lexer": "ipython3",
   "version": "3.10.9"
  }
 },
 "nbformat": 4,
 "nbformat_minor": 2
}
