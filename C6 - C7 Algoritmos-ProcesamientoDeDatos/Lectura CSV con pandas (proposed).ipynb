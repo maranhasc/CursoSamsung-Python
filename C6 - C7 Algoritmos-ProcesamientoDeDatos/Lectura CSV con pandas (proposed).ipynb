{
 "cells": [
  {
   "cell_type": "markdown",
   "id": "084403bc",
   "metadata": {},
   "source": [
    "# Lectura CSV con pandas"
   ]
  },
  {
   "cell_type": "code",
   "execution_count": null,
   "id": "e0af66a1",
   "metadata": {},
   "outputs": [],
   "source": [
    "# ADD CODE. Import the pandas library\n",
    "..."
   ]
  },
  {
   "cell_type": "code",
   "execution_count": null,
   "id": "b9dc07cb",
   "metadata": {},
   "outputs": [],
   "source": [
    "# ADD CODE. Read the file test.csv \n",
    "titanic = ...\n"
   ]
  },
  {
   "cell_type": "code",
   "execution_count": null,
   "id": "29a02aea",
   "metadata": {},
   "outputs": [],
   "source": [
    "# ADD CODE. Show the type of the data (use type function)\n",
    "..."
   ]
  },
  {
   "cell_type": "code",
   "execution_count": null,
   "id": "fb031db1",
   "metadata": {},
   "outputs": [],
   "source": [
    "# ADD CODE. Show some rows of the dataframe (use head)\n",
    "titanic. ..."
   ]
  },
  {
   "cell_type": "code",
   "execution_count": null,
   "id": "9dc5867a",
   "metadata": {},
   "outputs": [],
   "source": [
    "# ADD CODE. Show info about rhe dataframe (use info)\n",
    "..."
   ]
  },
  {
   "cell_type": "code",
   "execution_count": null,
   "id": "646ff997",
   "metadata": {},
   "outputs": [],
   "source": [
    "# ADD CODE. Show statistical information about the data (use describe)\n",
    "..."
   ]
  },
  {
   "cell_type": "code",
   "execution_count": null,
   "id": "4a79602b",
   "metadata": {},
   "outputs": [],
   "source": [
    "# ADD CODE. Remove the third row of the data (use drop)\n",
    "..."
   ]
  },
  {
   "cell_type": "code",
   "execution_count": null,
   "id": "a050bdf8",
   "metadata": {},
   "outputs": [],
   "source": [
    "# ADD CODE. Remove the \"Parch\" column of the data (use drop) \n",
    "..."
   ]
  },
  {
   "cell_type": "code",
   "execution_count": null,
   "id": "87c15b19",
   "metadata": {},
   "outputs": [],
   "source": [
    "# ADD CODE. Remain the rows from 1 to 10 (use iloc)\n",
    "index = ..."
   ]
  },
  {
   "cell_type": "code",
   "execution_count": null,
   "id": "e43f6a48",
   "metadata": {},
   "outputs": [],
   "source": [
    "# ADD CODE. Show the type of the previous variable\n",
    "..."
   ]
  },
  {
   "cell_type": "code",
   "execution_count": null,
   "id": "a5122bfc",
   "metadata": {},
   "outputs": [],
   "source": [
    "# ADD CODE. Show the column \"Name\"\n",
    "index. ..."
   ]
  },
  {
   "cell_type": "code",
   "execution_count": null,
   "id": "f21963fa",
   "metadata": {},
   "outputs": [],
   "source": [
    "# ADD CODE. Select the columns 'PassengerId', 'Pclass', 'Name', 'Sex', 'Age', 'Fare'\n",
    "df = titanic[...]"
   ]
  },
  {
   "cell_type": "code",
   "execution_count": null,
   "id": "bc38a06e",
   "metadata": {},
   "outputs": [],
   "source": [
    "# ADD CODE. Select the rows whose age is higher than 50\n",
    "mayores50 = ...\n"
   ]
  },
  {
   "cell_type": "code",
   "execution_count": null,
   "id": "bf21a823",
   "metadata": {},
   "outputs": [],
   "source": [
    "# ADD CODE. Show the number of rows of previous dataframe (mayores50)\n",
    "..."
   ]
  },
  {
   "cell_type": "code",
   "execution_count": null,
   "id": "24a5316d",
   "metadata": {},
   "outputs": [],
   "source": [
    "# ADD CODE. Show the mean of the age column of previous dataframe (mayores50)\n",
    "..."
   ]
  },
  {
   "cell_type": "code",
   "execution_count": null,
   "id": "c7e15530",
   "metadata": {},
   "outputs": [],
   "source": [
    "# ADD CODE. Show in a double loop the information of each cell\n",
    "for i in ...:\n",
    "    for j in ...:\n",
    "        ..."
   ]
  }
 ],
 "metadata": {
  "kernelspec": {
   "display_name": "Python 3 (ipykernel)",
   "language": "python",
   "name": "python3"
  },
  "language_info": {
   "codemirror_mode": {
    "name": "ipython",
    "version": 3
   },
   "file_extension": ".py",
   "mimetype": "text/x-python",
   "name": "python",
   "nbconvert_exporter": "python",
   "pygments_lexer": "ipython3",
   "version": "3.11.3"
  }
 },
 "nbformat": 4,
 "nbformat_minor": 5
}
