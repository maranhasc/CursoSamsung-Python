{
 "cells": [
  {
   "cell_type": "markdown",
   "metadata": {},
   "source": [
    "## Simple class II"
   ]
  },
  {
   "cell_type": "markdown",
   "metadata": {},
   "source": [
    "### 1. Class inheritance:"
   ]
  },
  {
   "cell_type": "code",
   "execution_count": 2,
   "metadata": {},
   "outputs": [],
   "source": [
    "# ADD CODE. Define a Pet class. The constructor requires the name of the pet. \n",
    "# A class variable \"counter\" will be defined. It will be incremented in the constructor method and decremented in\n",
    "# the destructor method.\n",
    "class Pet:\n",
    "        counter = 0\n",
    "        def __init__(self, name):\n",
    "            self.name =name\n",
    "            Pet.counter += 1\n",
    "        def __del__(self):\n",
    "            Pet.counter -= 1"
   ]
  },
  {
   "cell_type": "markdown",
   "metadata": {},
   "source": [
    "Cat and Dog inherit from the Pet class: "
   ]
  },
  {
   "cell_type": "code",
   "execution_count": 3,
   "metadata": {},
   "outputs": [],
   "source": [
    "class Cat(Pet):              # ADD CODE. Indicates that the cat class inherits from the pet class             \n",
    "    def purr(self):\n",
    "        print(self.name + ' is purring...')\n",
    "        \n",
    "class Dog(Pet):              # ADD CODE. Indicates that the dog class inherits from the pet class\n",
    "    def bark(self):\n",
    "        print(self.name + ' is barking...')"
   ]
  },
  {
   "cell_type": "code",
   "execution_count": 5,
   "metadata": {},
   "outputs": [],
   "source": [
    "a_cat = Cat('Kity')                      # ADD CODE. Create a cat with name \"Kitty\"\n",
    "a_dog = Dog ('Fido')                     # ADD CODE. Create a dog with name \"Fido\" "
   ]
  },
  {
   "cell_type": "code",
   "execution_count": 8,
   "metadata": {},
   "outputs": [
    {
     "name": "stdout",
     "output_type": "stream",
     "text": [
      "Kity is purring...\n",
      "Fido is barking...\n"
     ]
    }
   ],
   "source": [
    "# ADD CODE. Call the method \"purr\" of the cat\n",
    "a_cat.purr()\n",
    "a_dog.bark()"
   ]
  },
  {
   "cell_type": "code",
   "execution_count": null,
   "metadata": {},
   "outputs": [],
   "source": [
    "# ADD CODE. Call the method \"bark\" of the dog"
   ]
  },
  {
   "cell_type": "markdown",
   "metadata": {},
   "source": [
    "Shitzu and Beagle inherit from the Dog class:"
   ]
  },
  {
   "cell_type": "code",
   "execution_count": 12,
   "metadata": {},
   "outputs": [],
   "source": [
    "# ADD CODE. Define a Shitzu class that inherits from the Dog class. \n",
    "# It has two methods \"sleep\" and \"play\" which show a message. \n",
    "# For instance, the sleep method can show: \"Ruby sleeps 10 hours a day\". \n",
    "class Shitzu(Dog):\n",
    "    def Sleep(self):\n",
    "        print(self.name + \"Duerme mucho\")\n",
    "    def Play(self):\n",
    "        Print(self.name + \"Juega pco\" )\n",
    "\n",
    "# ADD CODE. Define a Beagle class that inherits from the Dog class. \n",
    "# It has the same methods that the previous class with the same behaviour. \n",
    "class Beagle(Dog):\n",
    "    def Sleep(self, name):\n",
    "        print(self.name + \"Duerme poco\")\n",
    "    def Play(self):\n",
    "        Print(self.name + \"Juega mucho\")\n",
    "        \n",
    "\n"
   ]
  },
  {
   "cell_type": "code",
   "execution_count": 13,
   "metadata": {},
   "outputs": [],
   "source": [
    "# ADD CODE. Create three dog objects of the previous class. Remember that the constructor call is the same \n",
    "# as in the Pet superclass. \n",
    "a_beagle = Beagle('pepe')"
   ]
  },
  {
   "cell_type": "code",
   "execution_count": 14,
   "metadata": {},
   "outputs": [
    {
     "ename": "NameError",
     "evalue": "name 'Print' is not defined",
     "output_type": "error",
     "traceback": [
      "\u001b[1;31m---------------------------------------------------------------------------\u001b[0m",
      "\u001b[1;31mNameError\u001b[0m                                 Traceback (most recent call last)",
      "Cell \u001b[1;32mIn[14], line 2\u001b[0m\n\u001b[0;32m      1\u001b[0m \u001b[38;5;66;03m# ADD CODE. Call the methods of the previous objects (sleep and play)\u001b[39;00m\n\u001b[1;32m----> 2\u001b[0m \u001b[43ma_beagle\u001b[49m\u001b[38;5;241;43m.\u001b[39;49m\u001b[43mPlay\u001b[49m\u001b[43m(\u001b[49m\u001b[43m)\u001b[49m\n",
      "Cell \u001b[1;32mIn[12], line 16\u001b[0m, in \u001b[0;36mBeagle.Play\u001b[1;34m(self)\u001b[0m\n\u001b[0;32m     15\u001b[0m \u001b[38;5;28;01mdef\u001b[39;00m \u001b[38;5;21mPlay\u001b[39m(\u001b[38;5;28mself\u001b[39m):\n\u001b[1;32m---> 16\u001b[0m     \u001b[43mPrint\u001b[49m(\u001b[38;5;28mself\u001b[39m\u001b[38;5;241m.\u001b[39mname \u001b[38;5;241m+\u001b[39m \u001b[38;5;124m\"\u001b[39m\u001b[38;5;124mJuega mucho\u001b[39m\u001b[38;5;124m\"\u001b[39m)\n",
      "\u001b[1;31mNameError\u001b[0m: name 'Print' is not defined"
     ]
    }
   ],
   "source": [
    "# ADD CODE. Call the methods of the previous objects (sleep and play)\n",
    "a_beagle.Play()\n"
   ]
  },
  {
   "cell_type": "code",
   "execution_count": null,
   "metadata": {},
   "outputs": [],
   "source": [
    "# ADD CODE. Show the counter of the Pet class"
   ]
  },
  {
   "cell_type": "code",
   "execution_count": null,
   "metadata": {},
   "outputs": [],
   "source": [
    "# ADD CODE. Delete a dog object"
   ]
  },
  {
   "cell_type": "code",
   "execution_count": null,
   "metadata": {},
   "outputs": [],
   "source": [
    "# ADD CODE. Show the counter again"
   ]
  }
 ],
 "metadata": {
  "kernelspec": {
   "display_name": "Python 3 (ipykernel)",
   "language": "python",
   "name": "python3"
  },
  "language_info": {
   "codemirror_mode": {
    "name": "ipython",
    "version": 3
   },
   "file_extension": ".py",
   "mimetype": "text/x-python",
   "name": "python",
   "nbconvert_exporter": "python",
   "pygments_lexer": "ipython3",
   "version": "3.10.9"
  }
 },
 "nbformat": 4,
 "nbformat_minor": 2
}
