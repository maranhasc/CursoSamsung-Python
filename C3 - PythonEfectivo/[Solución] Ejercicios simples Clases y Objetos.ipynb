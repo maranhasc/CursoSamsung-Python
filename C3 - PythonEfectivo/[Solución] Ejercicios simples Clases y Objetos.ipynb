{
 "cells": [
  {
   "cell_type": "markdown",
   "id": "5c0188f5",
   "metadata": {},
   "source": [
    "# Ejercicios simples Clases y objetos"
   ]
  },
  {
   "cell_type": "markdown",
   "id": "da96ffcd",
   "metadata": {},
   "source": [
    "---\n",
    "## Ejercicio 1\n",
    "\n",
    "Crea una clase **Persona** que tenga los siguientes atributos:\n",
    "\n",
    "- *nombre*: una cadena de texto que representa el nombre de la persona.\n",
    "- *edad*: un número entero que representa la edad de la persona.\n",
    "\n",
    "La clase debe tener un método llamado *saludar* que imprima un saludo con el nombre de la persona."
   ]
  },
  {
   "cell_type": "code",
   "execution_count": 30,
   "id": "fd9b5e5c",
   "metadata": {},
   "outputs": [],
   "source": [
    "class Persona:\n",
    "    def __init__(self,nombre,edad):\n",
    "        self.nombre = nombre\n",
    "        self.edad = edad\n",
    "    def saludar(self):\n",
    "        print(\"Hola, mi nombre es\", self.nombre)"
   ]
  },
  {
   "cell_type": "markdown",
   "id": "92734285",
   "metadata": {},
   "source": [
    "### Uso de la clase\n",
    "Crea un objeto de la clase **Persona** con nombre *Juan* y edad *25*. Accede a los atributos del objeto y muéstralos por pantalla y utiliza el método *saludar* para imprimir un saludo personalizado."
   ]
  },
  {
   "cell_type": "code",
   "execution_count": 31,
   "id": "5d19f7c6",
   "metadata": {},
   "outputs": [
    {
     "name": "stdout",
     "output_type": "stream",
     "text": [
      "Juan 25\n",
      "Hola, mi nombre es Juan\n"
     ]
    }
   ],
   "source": [
    "p = Persona(\"Juan\", 25)\n",
    "print(p.nombre, p.edad)\n",
    "p.saludar()"
   ]
  },
  {
   "cell_type": "markdown",
   "id": "5afb5c0c",
   "metadata": {},
   "source": [
    "---\n",
    "## Ejercicio 2 \n",
    "\n",
    "Crea una clase llamada **Rectangulo** que tenga los siguientes atributos:\n",
    "\n",
    "- *base*: un número que representa la longitud de la base del rectángulo.\n",
    "- *altura*: un número que representa la altura del rectángulo.\n",
    "\n",
    "La clase debe tener dos **métodos**:\n",
    "\n",
    "- *calcularArea*: calcula y devuelve el área del rectángulo.\n",
    "- *calcularPerimetro*: calcula y devuelve el perímetro del rectángulo."
   ]
  },
  {
   "cell_type": "code",
   "execution_count": 32,
   "id": "622bcf58",
   "metadata": {},
   "outputs": [],
   "source": [
    "class Rectangulo:\n",
    "    def __init__(self,base,altura):\n",
    "        self.base = base\n",
    "        self. altura = altura\n",
    "    def calcularArea(self):\n",
    "        return self.base*self.altura\n",
    "    def calcularPerimetro(self):\n",
    "        return 2*(self.base + self.altura)"
   ]
  },
  {
   "cell_type": "markdown",
   "id": "ba93bb80",
   "metadata": {},
   "source": [
    "### Uso de la clase\n",
    "\n",
    "Crea un objeto de la clase **Rectangulo** con una base de 4 y una altura de 6. Luego, utiliza los métodos *calcularArea* y *calcularPerimetro* para obtener el área y el perímetro del rectángulo, respectivamente, y mostrarlos por pantalla."
   ]
  },
  {
   "cell_type": "code",
   "execution_count": 33,
   "id": "423ebee8",
   "metadata": {},
   "outputs": [
    {
     "name": "stdout",
     "output_type": "stream",
     "text": [
      "El área del rectángulo es 24\n",
      "El perímetro del rectángulo es 20\n"
     ]
    }
   ],
   "source": [
    "r = Rectangulo(4,6)\n",
    "area = r.calcularArea()\n",
    "perimetro = r.calcularPerimetro()\n",
    "print(\"El área del rectángulo es\", area)\n",
    "print(\"El perímetro del rectángulo es\", perimetro)\n"
   ]
  },
  {
   "cell_type": "markdown",
   "id": "b0414ccb",
   "metadata": {},
   "source": [
    "---\n",
    "## Ejercicio 3\n",
    "\n",
    "Crea una clase llamada **CuentaBancaria** que tenga los siguientes atributos:\n",
    "\n",
    "- *titular*: una cadena de texto que representa el titular de la cuenta.\n",
    "- *saldo*: un número que representa el saldo actual de la cuenta (valor predeterminado: 0).\n",
    "\n",
    "La clase debe tener los siguientes **métodos**:\n",
    "\n",
    "- *depositar*: recibe una cantidad y la suma al saldo actual. Además, imprime un mensaje indicando la cantidad depositada y el saldo actual.\n",
    "- *retirar*: recibe una cantidad y la resta al saldo actual, pero solo si hay saldo suficiente. Si no, imprime un mensaje de *Saldo insuficiente*. Luego, imprime el saldo actual.\n",
    "- *verificarSaldo*: recibe una cantidad y verifica si hay saldo suficiente para realizar una transacción. Devuelve True si hay saldo suficiente, o False en caso contrario.\n"
   ]
  },
  {
   "cell_type": "code",
   "execution_count": 34,
   "id": "3ed54ffd",
   "metadata": {},
   "outputs": [],
   "source": [
    "class CuentaBancaria:\n",
    "    def __init__(self,titular,saldo=0):\n",
    "        self.titular = titular\n",
    "        self.saldo = saldo\n",
    "    def depositar(self,cantidad):\n",
    "        self.saldo += cantidad\n",
    "        print(\"Se ha depositado la cantidad de\",cantidad,\"y el saldo actualizado es\", self.saldo)\n",
    "    def retirar(self,cantidad):\n",
    "        if self.verificarSaldo(cantidad):\n",
    "            self.saldo -= cantidad\n",
    "        else:\n",
    "            print(\"Saldo insuficiente\")\n",
    "        print(\"El saldo actual es\",self.saldo)\n",
    "    def verificarSaldo(self, cantidad):\n",
    "        return self.saldo >= cantidad"
   ]
  },
  {
   "cell_type": "markdown",
   "id": "96d6079a",
   "metadata": {},
   "source": [
    "### Uso de la clase\n",
    "\n",
    "Crea un objeto de la clase **CuentaBancaria** con titular \"Antonio\" y saldo inicial de 0. Luego, utiliza los métodos *depositar* y *retirar* para realizar transacciones en la cuenta. Cada vez que se realiza una operación, se imprime un mensaje indicando la cantidad depositada o retirada, así como el saldo actual. Además, se realiza una verificación para asegurarse de que haya saldo suficiente antes de realizar una operación de retiro."
   ]
  },
  {
   "cell_type": "code",
   "execution_count": 35,
   "id": "bf3ae0c6",
   "metadata": {},
   "outputs": [
    {
     "name": "stdout",
     "output_type": "stream",
     "text": [
      "El saldo de la cuenta es 0\n",
      "Se ha depositado la cantidad de 500 y el saldo actualizado es 500\n",
      "El saldo actual es 250\n",
      "Se ha depositado la cantidad de 50 y el saldo actualizado es 300\n",
      "Saldo insuficiente\n",
      "El saldo actual es 300\n"
     ]
    }
   ],
   "source": [
    "c = CuentaBancaria(\"Antonio\")\n",
    "print(\"El saldo de la cuenta es\", c.saldo)\n",
    "c.depositar(500)\n",
    "c.retirar(250)\n",
    "c.depositar(50)\n",
    "c.retirar(325)"
   ]
  }
 ],
 "metadata": {
  "kernelspec": {
   "display_name": "Python 3 (ipykernel)",
   "language": "python",
   "name": "python3"
  },
  "language_info": {
   "codemirror_mode": {
    "name": "ipython",
    "version": 3
   },
   "file_extension": ".py",
   "mimetype": "text/x-python",
   "name": "python",
   "nbconvert_exporter": "python",
   "pygments_lexer": "ipython3",
   "version": "3.11.3"
  }
 },
 "nbformat": 4,
 "nbformat_minor": 5
}
