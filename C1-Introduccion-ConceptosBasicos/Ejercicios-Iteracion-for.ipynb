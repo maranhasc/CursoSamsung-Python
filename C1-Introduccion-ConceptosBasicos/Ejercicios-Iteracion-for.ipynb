{
 "cells": [
  {
   "cell_type": "markdown",
   "id": "acfb8132",
   "metadata": {},
   "source": [
    "# Ejercicios básicos de Python - Iteración definida (bucle `for`)\n",
    "\n",
    "\n",
    "## Factorial de un número\n",
    "\n",
    "El factorial de un número $n \\gt 0$ es igual al producto de todos los números desde el 1 hasta $n$, inclusive. Por ejemplo, el facorial de $4$ es $1 \\times 2 \\times 3 \\times 4$. Por definición, el factorial de $0$ vale 1.\n",
    "Escribe un programa que calcule el factorial de un número."
   ]
  },
  {
   "cell_type": "code",
   "execution_count": null,
   "id": "20da0f43",
   "metadata": {},
   "outputs": [],
   "source": []
  },
  {
   "cell_type": "markdown",
   "id": "c74a45b0",
   "metadata": {},
   "source": [
    "## Divisores de un número\n",
    "\n",
    "Escribe un programa que escriba todos los divisores de un número positivo. Por ejemplo, los divisores de $20$ son $1$, $2$, $4$, $5$, $10$ y $20$."
   ]
  },
  {
   "cell_type": "code",
   "execution_count": null,
   "id": "bb97b6b4",
   "metadata": {},
   "outputs": [],
   "source": [
    "numero_positivo = int(input(\"Introduce un número positivo: \"))\n",
    "\n",
    "for i in range (1, numero_positivo + 1, 1): # d = candidato a divisor\n",
    "    if numero_positivo % i == 0: # ¿d es divisor?\n",
    "        print(i, end = \" \")"
   ]
  },
  {
   "cell_type": "markdown",
   "id": "9c76b7ce",
   "metadata": {},
   "source": [
    "## Número primo\n",
    "\n",
    "Un número $n \\gt 1$ es primo si solo tiene dos divisores: él mismo y la unidad. Escribe un programa que dado un número indique si es primo o no."
   ]
  },
  {
   "cell_type": "code",
   "execution_count": null,
   "id": "9cc6d74c",
   "metadata": {},
   "outputs": [],
   "source": [
    "numero = int(input(\"Introduce un número: \"))\n",
    "\n",
    "contador_divisores = 0    # ¿cuántos divisores tengo?\n",
    "for i in range(1, numero + 1):\n",
    "    if numero % i == 0:\n",
    "        contador_divisores += 1\n",
    "\n",
    "if contador_divisores == 2:\n",
    "    print(\"El numero\", numero, \"es primo\")\n",
    "else:\n",
    "    print(\"El numero\", numero, \"no es primo\")"
   ]
  },
  {
   "cell_type": "markdown",
   "id": "874139ea",
   "metadata": {},
   "source": [
    "## Números perfectos\n",
    "\n",
    "Un número es perfecto si coincide con la suma de sus divisores propios; es decir, si coincide con la suma de los divisores que son menores que él. Por ejemplo, $28$ es un número perfecto porque $28 = 1 + 2 + 4 + 7 + 14$. Escribe un programa que imprima los números perfectos entre 1 y 10000."
   ]
  },
  {
   "cell_type": "code",
   "execution_count": null,
   "id": "b48f2057",
   "metadata": {},
   "outputs": [],
   "source": []
  },
  {
   "cell_type": "markdown",
   "id": "4402878a",
   "metadata": {},
   "source": [
    "## Cinco por línea\n",
    "\n",
    "Escribe un procedimiento que escriba por pantalla todos los enteros entre 1000 y 2000, de modo que aparezcan 5 enteros en cada línea, salvo en la última, en la que pueden aparecer menos si no hay suficientes números."
   ]
  },
  {
   "cell_type": "code",
   "execution_count": null,
   "id": "cc85506d",
   "metadata": {},
   "outputs": [],
   "source": []
  },
  {
   "cell_type": "markdown",
   "id": "b63ac144",
   "metadata": {},
   "source": [
    "## Suma de las cifras de un número\n",
    "\n",
    "Escribe un programa que sume las cifras de un número. Por ejemplo, para $5127$ debe devolver $15$, ya que $5 + 1 + 2  +7 = 15$."
   ]
  },
  {
   "cell_type": "code",
   "execution_count": null,
   "id": "c4c46d62",
   "metadata": {},
   "outputs": [],
   "source": []
  },
  {
   "cell_type": "markdown",
   "id": "50d031d8",
   "metadata": {},
   "source": [
    "## Media aritmética de una lista\n",
    "\n",
    "Escribe un programa que calcule la media aritmética de una lista de números. Por ejemplo, para la lista `[13, 8, 9, 45, 1, 0, 0, 6, 12]` se debe obtener `10.44`."
   ]
  },
  {
   "cell_type": "code",
   "execution_count": null,
   "id": "58cc53bb",
   "metadata": {},
   "outputs": [],
   "source": [
    "lista = [13, 8, 9, 45, 1, 0, 0, 6, 12]\n",
    "\n",
    "suma = 0\n",
    "longitud_lista = 0\n",
    "\n",
    "for elemento in lista:\n",
    "    suma += elemento\n",
    "    longitud_lista += 1\n",
    "    \n",
    "print(\"La media es: {:5.2f}\".format(suma / longitud_lista)) \n",
    "\n",
    "print(longitud_lista)\n",
    "print(len(lista))       # la función predefinida len devuelve la longitud de una lista"
   ]
  },
  {
   "cell_type": "markdown",
   "id": "88569d06",
   "metadata": {},
   "source": [
    "## Máximo de una lista\n",
    "\n",
    "Escribe un programa que calcule el máximo de una lista de números. Por ejemplo, para la lista `[13, 8, 9, 45, 1, 0, 0, 6, 12]` se debe obtener `45`.\n",
    "\n"
   ]
  },
  {
   "cell_type": "code",
   "execution_count": null,
   "id": "e0865ee4",
   "metadata": {},
   "outputs": [],
   "source": [
    "# lista = [13, 8, 9, 45, 1, 0, 0, 6, 12]\n",
    "\n",
    "# lista = []\n",
    "\n",
    "lista = [-7 , -1 , -3]\n",
    "\n",
    "if len(lista) == 0:\n",
    "    print(\"error, la llista vacía no tiene máximo\")\n",
    "else:\n",
    "    numero_mayor = lista[0]  # mayor hasta el momento: el primero de la lista (no está vacía)\n",
    "    for elemento in lista:\n",
    "        if numero_mayor < elemento:\n",
    "            numero_mayor = elemento\n",
    "        \n",
    "    print('El número mayor es:', numero_mayor)"
   ]
  },
  {
   "cell_type": "markdown",
   "id": "894353dc",
   "metadata": {},
   "source": [
    "## Nota de una gimnasta\n",
    "\n",
    "La nota de una gimnasta en los juegos olímpicos se obtiene a partir de las calificaciones (entre 0.0 y 10.0) emitidas por seis jueces del siguiente modo: se descartan la nota más alta y la más baja y se calcula el promedio de las otras cuatro. Escribe un programa que dada una lista con las seis calificaciones devuelva la nota final según el método descrito."
   ]
  },
  {
   "cell_type": "code",
   "execution_count": null,
   "id": "bae051c6",
   "metadata": {},
   "outputs": [],
   "source": []
  },
  {
   "cell_type": "markdown",
   "id": "91bb66d5",
   "metadata": {},
   "source": [
    "## Baraja española\n",
    "\n",
    "Las cartas de la baraja española se organizan en cuatro palos: oros, copas, espadas y bastos. Para cada palo hay naipes, con los valores del 1 al 7, más sota, caballo y rey. Escribe un programa que imprima en pantalla los 40 naipes que forman una baraja española."
   ]
  },
  {
   "cell_type": "code",
   "execution_count": null,
   "id": "f4446fe4",
   "metadata": {},
   "outputs": [],
   "source": []
  }
 ],
 "metadata": {
  "kernelspec": {
   "display_name": "Python 3 (ipykernel)",
   "language": "python",
   "name": "python3"
  },
  "language_info": {
   "codemirror_mode": {
    "name": "ipython",
    "version": 3
   },
   "file_extension": ".py",
   "mimetype": "text/x-python",
   "name": "python",
   "nbconvert_exporter": "python",
   "pygments_lexer": "ipython3",
   "version": "3.11.3"
  }
 },
 "nbformat": 4,
 "nbformat_minor": 5
}
