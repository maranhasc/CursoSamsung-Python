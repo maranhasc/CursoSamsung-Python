{
 "cells": [
  {
   "attachments": {},
   "cell_type": "markdown",
   "id": "67f01fe6",
   "metadata": {},
   "source": [
    "# Ejercicios de expresiones en Python\n",
    "\n",
    "1. ¿Cuántos segundos hay en 42 minutos y 42 segundos?"
   ]
  },
  {
   "cell_type": "code",
   "execution_count": null,
   "id": "5ee34674",
   "metadata": {},
   "outputs": [],
   "source": []
  },
  {
   "attachments": {},
   "cell_type": "markdown",
   "id": "67427c43",
   "metadata": {},
   "source": [
    "2. ¿Cuántas millas hay en 10 kilómetros? Pista: hay 1.61 kilómetros en una milla."
   ]
  },
  {
   "cell_type": "code",
   "execution_count": null,
   "id": "78d3e0c0",
   "metadata": {},
   "outputs": [],
   "source": []
  },
  {
   "attachments": {},
   "cell_type": "markdown",
   "id": "ffcd6107",
   "metadata": {},
   "source": [
    "3. Si completas una carrera de 10 kilómetros en 42 minutos y 42 segundos, ¿Cuál es tu velocidad media en millas por hora?"
   ]
  },
  {
   "cell_type": "code",
   "execution_count": null,
   "id": "86203b1b",
   "metadata": {},
   "outputs": [],
   "source": []
  },
  {
   "attachments": {},
   "cell_type": "markdown",
   "id": "83432287",
   "metadata": {},
   "source": [
    "4. El volumen de una esfera de radio $r$ es $\\frac{4}{3} \\pi r^3$. ¿Qué volumen tiene una esfera de radio 5?"
   ]
  },
  {
   "cell_type": "code",
   "execution_count": null,
   "id": "dd6a2cd9",
   "metadata": {},
   "outputs": [],
   "source": []
  },
  {
   "attachments": {},
   "cell_type": "markdown",
   "id": "4e5c3a25",
   "metadata": {},
   "source": [
    "5. El precio de venta del libro \"Python para pythonistas\" es de 24.95   euros, pero las librerías tienen un descuento del 40%. Los costes de envío ascienden a 3 euros por la primera copia y 75 céntimos por cada copia extra. ¿Cuánto pagará una biblioteca que encargue 60 copias?"
   ]
  },
  {
   "cell_type": "code",
   "execution_count": null,
   "id": "329b448d",
   "metadata": {},
   "outputs": [],
   "source": []
  },
  {
   "attachments": {},
   "cell_type": "markdown",
   "id": "47ebbc00",
   "metadata": {},
   "source": [
    "6. Si salgo de casa a las 6:52 de la mañana y corro un kilómetro una velocidad de 8:15 por km, otros tres kilómetros a una velocidad de 7:12 por kilómetro y finalmente un kilómetro a una velocidad de 8:15 por kilómetro. ¿A qué hora estaré en casa para desayunar?"
   ]
  },
  {
   "cell_type": "code",
   "execution_count": null,
   "id": "92fd7bfb",
   "metadata": {},
   "outputs": [],
   "source": []
  }
 ],
 "metadata": {
  "kernelspec": {
   "display_name": "Python 3 (ipykernel)",
   "language": "python",
   "name": "python3"
  },
  "language_info": {
   "codemirror_mode": {
    "name": "ipython",
    "version": 3
   },
   "file_extension": ".py",
   "mimetype": "text/x-python",
   "name": "python",
   "nbconvert_exporter": "python",
   "pygments_lexer": "ipython3",
   "version": "3.10.9"
  }
 },
 "nbformat": 4,
 "nbformat_minor": 5
}
