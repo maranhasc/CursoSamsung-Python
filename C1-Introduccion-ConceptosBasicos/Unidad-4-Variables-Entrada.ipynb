{
 "cells": [
  {
   "cell_type": "markdown",
   "id": "3c97a630",
   "metadata": {},
   "source": [
    "# Unidad 4 - Variables y Entrada"
   ]
  },
  {
   "cell_type": "markdown",
   "id": "1f8f1cce",
   "metadata": {},
   "source": [
    "## Las expresiones se evalúan y producen un valor"
   ]
  },
  {
   "cell_type": "code",
   "execution_count": null,
   "id": "872e3b3b",
   "metadata": {},
   "outputs": [],
   "source": [
    "34 + 78  # expresión : evaluar -> valor"
   ]
  },
  {
   "cell_type": "markdown",
   "id": "7a8ed181",
   "metadata": {},
   "source": [
    "## Las sentencias se ejecutan y tienen un efecto"
   ]
  },
  {
   "cell_type": "code",
   "execution_count": null,
   "id": "e35e7de7",
   "metadata": {},
   "outputs": [],
   "source": [
    "# crear una variable\n",
    "\n",
    "peso = 72       # sentencia : ejecutar  -> efecto\n",
    "altura = 1.78"
   ]
  },
  {
   "cell_type": "code",
   "execution_count": null,
   "id": "9149c4db",
   "metadata": {},
   "outputs": [],
   "source": [
    "# consultar una variable\n",
    "\n",
    "peso "
   ]
  },
  {
   "cell_type": "code",
   "execution_count": null,
   "id": "d214a5a6",
   "metadata": {},
   "outputs": [],
   "source": [
    "peso + 2"
   ]
  },
  {
   "cell_type": "code",
   "execution_count": null,
   "id": "c0973c7c",
   "metadata": {
    "scrolled": true
   },
   "outputs": [],
   "source": [
    "pesa  # esta variable no ha sido creada"
   ]
  },
  {
   "cell_type": "code",
   "execution_count": null,
   "id": "6879e5a4",
   "metadata": {},
   "outputs": [],
   "source": [
    "# ¿qué hace este programa?\n",
    "\n",
    "iuytieewote = 12\n",
    "oiujlkjlkgsd = 3\n",
    "iyiutrewtrewkh = iuytieewote * oiujlkjlkgsd\n",
    "print(iyiutrewtrewkh)"
   ]
  },
  {
   "cell_type": "code",
   "execution_count": null,
   "id": "f87d8ba0",
   "metadata": {},
   "outputs": [],
   "source": [
    "# ¿qué hace este programa?\n",
    "\n",
    "base = 12\n",
    "altura = 3\n",
    "area = base * altura\n",
    "print(area)"
   ]
  },
  {
   "cell_type": "code",
   "execution_count": null,
   "id": "9aa0df4f",
   "metadata": {},
   "outputs": [],
   "source": [
    "volumen = peso + altura  # no tiene sentido; pero a python le da igual\n",
    "print(volumen)"
   ]
  },
  {
   "cell_type": "code",
   "execution_count": null,
   "id": "cd9f898c",
   "metadata": {},
   "outputs": [],
   "source": [
    "# la variable peso ya ha sido creada\n",
    "\n",
    "peso = peso + 2  # asignación: modificar su valor\n",
    "peso"
   ]
  },
  {
   "cell_type": "code",
   "execution_count": null,
   "id": "4f50b620",
   "metadata": {},
   "outputs": [],
   "source": [
    "peso = peso - 5\n",
    "peso"
   ]
  },
  {
   "cell_type": "code",
   "execution_count": null,
   "id": "ef3efb0a",
   "metadata": {},
   "outputs": [],
   "source": [
    "# valores con otros tipos\n",
    "\n",
    "edad = 23        # int\n",
    "nombre = \"maría\" # str\n",
    "estatura = 1.68  # float"
   ]
  },
  {
   "cell_type": "code",
   "execution_count": null,
   "id": "ec516e90",
   "metadata": {},
   "outputs": [],
   "source": [
    "type(estatura)"
   ]
  },
  {
   "cell_type": "code",
   "execution_count": null,
   "id": "35f88bae",
   "metadata": {},
   "outputs": [],
   "source": [
    "# tipado dinámico: el tipo de una variable es el del valor que tenga asignado\n",
    "\n",
    "x = 56\n",
    "print(type(x), x)\n",
    "x = x + 0.5\n",
    "print(type(x), x)\n",
    "x = \"pepe\"\n",
    "print(type(x), x)"
   ]
  },
  {
   "cell_type": "code",
   "execution_count": null,
   "id": "1ff1dac1",
   "metadata": {},
   "outputs": [],
   "source": [
    "# asignación simultánea\n",
    "\n",
    "a, b, c = 1, \"python\", 7.8\n",
    "print(a, b, c)"
   ]
  },
  {
   "cell_type": "code",
   "execution_count": null,
   "id": "83b813f1",
   "metadata": {
    "scrolled": true
   },
   "outputs": [],
   "source": [
    "u, v = 5, 2 * u # esto falla"
   ]
  },
  {
   "cell_type": "code",
   "execution_count": null,
   "id": "63ce55f8",
   "metadata": {},
   "outputs": [],
   "source": [
    "m = 7\n",
    "n = 5\n",
    "print(m, n)\n",
    "m, n = n, m  # intercambia los valores de las variables m y n\n",
    "print(m, n)"
   ]
  },
  {
   "cell_type": "code",
   "execution_count": null,
   "id": "d33cf13d",
   "metadata": {},
   "outputs": [],
   "source": [
    "# asignación múltiple\n",
    "\n",
    "r = s = t = 512\n",
    "print(r,s,t)"
   ]
  },
  {
   "cell_type": "code",
   "execution_count": null,
   "id": "91d543cc",
   "metadata": {},
   "outputs": [],
   "source": [
    "# asignación aumentada\n",
    "\n",
    "n = 1\n",
    "n += 1 # es lo mismo que n = n +1\n",
    "\n",
    "k = 5\n",
    "k *= 2 # es lo mismo que k = k * 2\n",
    "\n",
    "print(\"n=\", n, \"k=\", k)"
   ]
  },
  {
   "cell_type": "code",
   "execution_count": null,
   "id": "e90ec8c3",
   "metadata": {},
   "outputs": [],
   "source": [
    "s = \"hola\"\n",
    "s += \"-adios\" # es lo mismo que s = s + \"-adios\"\n",
    "print(s)\n",
    "s *= 3\n",
    "s"
   ]
  },
  {
   "cell_type": "code",
   "execution_count": null,
   "id": "4c08de34",
   "metadata": {},
   "outputs": [],
   "source": [
    "# funcion input() (dual de print())\n",
    "\n",
    "nombre = input(\"dime tu nombre: \")\n",
    "print(type(nombre))\n",
    "print(nombre)"
   ]
  },
  {
   "cell_type": "code",
   "execution_count": null,
   "id": "ef874735",
   "metadata": {
    "scrolled": true
   },
   "outputs": [],
   "source": [
    "# input() siempre devuelve una cadena (str), hay que convertir al tipo adecuado\n",
    "\n",
    "edad = int(input(\"dime tu edad: \"))\n",
    "print(type(edad))\n",
    "print(\"el año que viene tendrás\", edad + 1)"
   ]
  },
  {
   "cell_type": "markdown",
   "id": "b21fe906",
   "metadata": {},
   "source": [
    "## Funciones python que conocemos\n",
    "\n",
    "| Función   | Significado                      |\n",
    "|-----------|----------------------------------|\n",
    "| `print()` | muestra información por pantalla |\n",
    "| `int()`   | convierte a entero               |\n",
    "| `float()` | convierte a flotante             |\n",
    "| `str()`   | covierte a cadena                |\n",
    "| `type()`  | indica el tipo                   |\n",
    "| `input()` | lee información por teclado      |\n",
    "\n",
    "La función `help()` muestra información sobre conceptos de python."
   ]
  },
  {
   "cell_type": "code",
   "execution_count": null,
   "id": "eed4121d",
   "metadata": {
    "scrolled": true
   },
   "outputs": [],
   "source": [
    "help(print)"
   ]
  },
  {
   "cell_type": "code",
   "execution_count": null,
   "id": "af7d7ada",
   "metadata": {
    "scrolled": true
   },
   "outputs": [],
   "source": [
    "# Cálculo del cambio en won (moneda coreana)\n",
    "\n",
    "money = int(input(\"Money Paid: \"))\n",
    "price = int(input(\"Price of item: \"))\n",
    "\n",
    "change = money - price\n",
    "print(\"Amount of Change:\", change)\n",
    "coins500s = change // 500\n",
    "change = change % 500\n",
    "coins100s = change // 100\n",
    "\n",
    "print(\"Pieces of 500 won coins:\", coins500s)\n",
    "print(\"Pieces of 100 won coins:\", coins100s)"
   ]
  },
  {
   "cell_type": "markdown",
   "id": "ca8ccf44",
   "metadata": {},
   "source": [
    "# Solución del primer ejercicio de paper coding"
   ]
  },
  {
   "cell_type": "code",
   "execution_count": null,
   "id": "a46b3262",
   "metadata": {},
   "outputs": [],
   "source": [
    "base = int(input(\"dime la base del rectangulo: \"))\n",
    "altura = int(input(\"dime la altura del rectangulo: \"))\n",
    "area = base * altura\n",
    "print(\"La área del rectangulo de base: \", base, \"y altura: \", altura, \" es: \", area)"
   ]
  },
  {
   "cell_type": "markdown",
   "id": "8ee1d442",
   "metadata": {},
   "source": [
    "# Solución del segundo ejercicio de paper coding"
   ]
  },
  {
   "cell_type": "code",
   "execution_count": null,
   "id": "725ae62a",
   "metadata": {},
   "outputs": [],
   "source": [
    "base = int(input(\"base: \"))\n",
    "altura = int(input(\"altura: \"))\n",
    "hipotenusa = (base ** 2 + altura ** 2) ** 0.5  # c = hipotenusa, a = base, b = altura\n",
    "print(\"hipotenusa\", hipotenusa)"
   ]
  },
  {
   "cell_type": "markdown",
   "id": "1ea16961",
   "metadata": {},
   "source": [
    "# Solución del primer ejercicio de pair programming"
   ]
  },
  {
   "cell_type": "code",
   "execution_count": null,
   "id": "3eb757af",
   "metadata": {},
   "outputs": [],
   "source": [
    "PI = 3.141592\n",
    "radio = int(input(\"Introduce la medida del radio: \"))\n",
    "circunferencia = 2 * radio * PI\n",
    "area = PI * radio ** 2\n",
    "print (\"Esta es la medida de la circunferencia: \", circunferencia)\n",
    "print (\"Esta es la medida del area: \", area)I"
   ]
  },
  {
   "cell_type": "markdown",
   "id": "9917e4cc",
   "metadata": {},
   "source": [
    "# Solución del segundo ejercicio de pair programming"
   ]
  },
  {
   "cell_type": "code",
   "execution_count": null,
   "id": "760eb4ee",
   "metadata": {},
   "outputs": [],
   "source": [
    "a, b, c, d, e = 2, 3, 4, 5, 6\n",
    "n = 2\n",
    "print(\"a\\t n\\t a ** n\")\n",
    "print(a, \"\\t\", n, \"\\t\", a ** n)\n",
    "print(b, \"\\t\", n, \"\\t\", b ** n)\n",
    "print(c, \"\\t\", n, \"\\t\", c ** n)\n",
    "print(d, \"\\t\", n, \"\\t\", d ** n)\n",
    "print(e, \"\\t\", n, \"\\t\", e ** n)\n",
    "\n",
    "print()\n",
    "\n",
    "a = 2\n",
    "n = 2\n",
    "print(\"a\", \"\\t\", \"n\", \"\\t a ** n\")\n",
    "print(a, \"\\t\", n, \"\\t\", a ** 2)\n",
    "print((a + 1), \"\\t\", n, \"\\t\", (a + 1) ** 2)\n",
    "print((a + 2), \"\\t\", n, \"\\t\", (a + 2) ** 2)\n",
    "print((a + 3), \"\\t\", n, \"\\t\", (a + 3) ** 2)\n",
    "print((a + 4), \"\\t\", n, \"\\t\", (a + 4) ** 2)"
   ]
  }
 ],
 "metadata": {
  "kernelspec": {
   "display_name": "Python 3 (ipykernel)",
   "language": "python",
   "name": "python3"
  },
  "language_info": {
   "codemirror_mode": {
    "name": "ipython",
    "version": 3
   },
   "file_extension": ".py",
   "mimetype": "text/x-python",
   "name": "python",
   "nbconvert_exporter": "python",
   "pygments_lexer": "ipython3",
   "version": "3.11.3"
  }
 },
 "nbformat": 4,
 "nbformat_minor": 5
}
