{
 "cells": [
  {
   "cell_type": "markdown",
   "id": "32ec9ef6",
   "metadata": {},
   "source": [
    "# Unidad 17 - Funciones\n",
    "\n",
    "Hasta ahora hemos **usado** funciones predefinidas por Python. Por ejemplo, hemos usado la función `print()` para mostrar información:"
   ]
  },
  {
   "cell_type": "code",
   "execution_count": null,
   "id": "c9a8b3ba",
   "metadata": {},
   "outputs": [],
   "source": [
    "print(\"I love Python\")"
   ]
  },
  {
   "cell_type": "markdown",
   "id": "6226ca72",
   "metadata": {},
   "source": [
    "Hemos visto que la función `print()` puede recibir varios valores para imprimir:"
   ]
  },
  {
   "cell_type": "code",
   "execution_count": null,
   "id": "8c631be0",
   "metadata": {},
   "outputs": [],
   "source": [
    "print(\"El precio final es\", 25, \"euros\")"
   ]
  },
  {
   "cell_type": "markdown",
   "id": "483a99f5",
   "metadata": {},
   "source": [
    "Y que a veces le facilitamos a `print()` ciertos nombres (`sep`, `end`) para modificar su funcionamiento:"
   ]
  },
  {
   "cell_type": "code",
   "execution_count": null,
   "id": "2d98400b",
   "metadata": {
    "scrolled": true
   },
   "outputs": [],
   "source": [
    "print(\"3045\", \"MNP\", sep = \"-\")"
   ]
  },
  {
   "cell_type": "markdown",
   "id": "40a6928d",
   "metadata": {},
   "source": [
    "También hemos visto que hay funciones como `input()` que pueden devolver un resultado que podemos almacenar en una variable:"
   ]
  },
  {
   "cell_type": "code",
   "execution_count": null,
   "id": "eb1ca48b",
   "metadata": {},
   "outputs": [],
   "source": [
    "nombre = input(\"¿cómo te llamas?\")\n",
    "print(\"Hola\", nombre, \"encantado de conocerte\")"
   ]
  },
  {
   "cell_type": "markdown",
   "id": "88efc8ff",
   "metadata": {},
   "source": [
    "También podemos usar el resultado devuelto por una función en una expresión, por ejemplo:"
   ]
  },
  {
   "cell_type": "code",
   "execution_count": null,
   "id": "bdb250bb",
   "metadata": {},
   "outputs": [],
   "source": [
    "cadena = \"hola python\"\n",
    "indice_ultimo = len(cadena) - 1\n",
    "print(\"El último caracter de la cadena es\", cadena[indice_ultimo], \"y está en la posición\", indice_ultimo)"
   ]
  },
  {
   "cell_type": "markdown",
   "id": "6ccba06f",
   "metadata": {},
   "source": [
    "## Necesidad de las funciones\n",
    "\n",
    "Imagina que en un programa tenemos que calular las medias aritméticas de pesos y estaturas de un número de personas:"
   ]
  },
  {
   "cell_type": "code",
   "execution_count": null,
   "id": "4b4ca678",
   "metadata": {},
   "outputs": [],
   "source": [
    "pesos = [82, 81, 54, 48, 102, 77]\n",
    "estaturas = [1.78, 1.85, 1.61, 1.58, 1.9, 1.83]\n",
    "\n",
    "suma_peso = 0\n",
    "for peso in pesos:\n",
    "    suma_peso += peso\n",
    "peso_medio = suma_peso / len(pesos)\n",
    "\n",
    "print(\"el peso medio es\", peso_medio)\n",
    "\n",
    "suma_estatura = 0\n",
    "for estatura in estaturas:\n",
    "    suma_estatura += estatura\n",
    "estatura_media = suma_estatura / len(estaturas)\n",
    "\n",
    "print(\"la estatura media es\", estatura_media)"
   ]
  },
  {
   "cell_type": "markdown",
   "id": "fa79bb4c",
   "metadata": {},
   "source": [
    "Observa que el código para calcular la media aritmética aparece dos veces. Las apariciones son virtualmente idénticas, solo cambia el nombre de las variables, pero el código es esencialmente el mismo y hace el mismo cálculo.\n",
    "\n",
    "De la misma forma que los bucles permiten escribir una sola vez el código que se repite de forma consecutiva, las funciones permiten escribir una sola vez el código que se repite, pero no de forma consecutiva.\n",
    "\n",
    "Para evitar repetir el código que hace virtualmento lo mismo con diferentes datos, necesitamos una herramienta que nos permita:\n",
    "- escribir el código que realiza un cálculo una sola vez\n",
    "- usar ese código cuando sea necesario\n",
    "- facilitar en cada uso los datos que debe utilizar para el cálculo (`pesos`, `estaturas`)\n",
    "- permitir al código que nos informe del resultado del cálculo (`peso_medio`, `estatura_media`)\n",
    "\n",
    "Esa herramienta son las **funciones**. Observa cómo la función `input()`:\n",
    "- contiene el código necesario para leer de teclado\n",
    "- la podemos usar cuando sea necesario\n",
    "- al usarla, podemos facilitar el mensaje que se debe mostrar por pantalla (`input(\"mensaje\")`)\n",
    "- nos devuelve un resultado con la cadena que se ha tecleado\n",
    "\n",
    "Hasta ahora hemos usado funciones predefinidas por Python. En esta unidad aprenderemos a definir nuevas funciones."
   ]
  },
  {
   "cell_type": "markdown",
   "id": "1ff6fef8",
   "metadata": {},
   "source": [
    "## Definición básica de funciones\n",
    "\n",
    "Al definir una función, lo que hacemos es dar un nombre al código que queremos usar en varias ocasiones. La sintaxis de la definición es:\n",
    "```python\n",
    "def nombre_funcion():\n",
    "    codigo_de_la_función  # cuerpo de la función\n",
    "```\n",
    "\n",
    "Observa que como las sentencias de control, una función introduce un bloque de código. A ese bloque se le llama **cuerpo** de la función.\n",
    "\n",
    "Por ejemplo, vamos a definir una función que imprima una línea con 80 asteriscos:"
   ]
  },
  {
   "cell_type": "code",
   "execution_count": null,
   "id": "93e66c02",
   "metadata": {},
   "outputs": [],
   "source": [
    "def asteriscos():\n",
    "    print(80 * \"*\")"
   ]
  },
  {
   "cell_type": "markdown",
   "id": "1455681b",
   "metadata": {},
   "source": [
    "Para usar una función basta usar su nombre seguido de un par de paréntesis. A esto se le denomina **llamar** o **invocar** a una función:"
   ]
  },
  {
   "cell_type": "code",
   "execution_count": null,
   "id": "54c926c0",
   "metadata": {},
   "outputs": [],
   "source": [
    "asteriscos()\n",
    "print(\"hola\")\n",
    "asteriscos()"
   ]
  },
  {
   "cell_type": "markdown",
   "id": "15513d67",
   "metadata": {},
   "source": [
    "### Pasando un parámetro\n",
    "\n",
    "La función `asteriscos()` siempre realiza el mismo cálculo, imprime 80 asteriscos. Imagina que queremos que cada vez que la usemos podamos decidir cuántos asteriscos queremos imprimir. Para ello, debemos añadir en la definición de la función un **parámetro**:\n",
    "\n",
    "```python\n",
    "def nombre_funcion(parametro):\n",
    "    codigo_de_la_función\n",
    "```\n",
    "\n",
    "En la definición anterior, `parametro`es una variable que podremos utilizar dentro de la función; es la forma que tenemos que comunicarle a la función los datos que queremos emplear en el cálculo. Obviamente, el `codigo_de_la_función`puede utlizar la variable `parametro`.\n",
    "\n",
    "Por ejemplo, vamos a modificar la función anterior para que imprima la cantidad de asteriscos que necesitemos:"
   ]
  },
  {
   "cell_type": "code",
   "execution_count": null,
   "id": "f4b9271f",
   "metadata": {},
   "outputs": [],
   "source": [
    "def asteriscos(num_asteriscos):  # num_asteriscos es el parámetro\n",
    "    print(num_asteriscos * \"*\")"
   ]
  },
  {
   "cell_type": "markdown",
   "id": "87e4f76a",
   "metadata": {},
   "source": [
    "Al invocar la función `asteriscos` debemos facilitar entre paréntesis el número de asteriscos que queremos imprimir. A esto se le llama **pasar un parámetro** a la función; es la forma que tenemos de comunicar a una función los datos con los que queremos que haga el cálulo.\n",
    "\n",
    "El valor que pasamos a la función recibe el nombre de **argumento** y se utliza para **inicializar** el parámetro de la función:"
   ]
  },
  {
   "cell_type": "code",
   "execution_count": null,
   "id": "4ea763ea",
   "metadata": {},
   "outputs": [],
   "source": [
    "asteriscos(80)     # 80 es el argumento\n",
    "print(\"hola\")\n",
    "asteriscos(20)     # 20 es el argumento"
   ]
  },
  {
   "cell_type": "code",
   "execution_count": null,
   "id": "bc1c3bfb",
   "metadata": {
    "scrolled": false
   },
   "outputs": [],
   "source": [
    "for i in range(1,10):\n",
    "    asteriscos(i)     # i es el argumento"
   ]
  },
  {
   "cell_type": "markdown",
   "id": "1a557a78",
   "metadata": {},
   "source": [
    "Si una función espera un argumento, debemos pasarlo. De lo contrario tendremos un error en la invocación:"
   ]
  },
  {
   "cell_type": "code",
   "execution_count": null,
   "id": "780f36c1",
   "metadata": {},
   "outputs": [],
   "source": [
    "asteriscos()  # esta invocación falla porque falta el argumento"
   ]
  },
  {
   "cell_type": "markdown",
   "id": "725bf52f",
   "metadata": {},
   "source": [
    "### Pasando varios parámetros\n",
    "\n",
    "Una función puede recibir más de un parámetro. Basta indicar los parámetros separados por comas en la definición de la función:\n",
    "\n",
    "```python\n",
    "def nombre_funcion(parametro_1, parametro_2, ..., parametro_n):\n",
    "    codigo_de_la_función\n",
    "```\n",
    "\n",
    "Al invocar a la función habrá que facilitar un argumento (valor inicial) para cada parámetro.\n",
    "\n",
    "Por ejemplo, vamos a definir una función que imprima `n_veces` un `caracter`:"
   ]
  },
  {
   "cell_type": "code",
   "execution_count": null,
   "id": "2d1a4a14",
   "metadata": {},
   "outputs": [],
   "source": [
    "def imprime_linea(n_veces, caracter):\n",
    "    print(n_veces * caracter)"
   ]
  },
  {
   "cell_type": "code",
   "execution_count": null,
   "id": "623d94ff",
   "metadata": {},
   "outputs": [],
   "source": [
    "imprime_linea(80, \"*\")\n",
    "imprime_linea(20, \"#\")"
   ]
  },
  {
   "cell_type": "markdown",
   "id": "62eb746e",
   "metadata": {},
   "source": [
    "Obviamente, el cuerpo de la función puede estar compuesto por más de una línea de código y puede contener invocaciones a otra función:"
   ]
  },
  {
   "cell_type": "code",
   "execution_count": null,
   "id": "53a8ffb6",
   "metadata": {},
   "outputs": [],
   "source": [
    "def cabecera(anchura, titulo):\n",
    "    imprime_linea(anchura, \"*\")\n",
    "    print(titulo)\n",
    "    imprime_linea(anchura, \"*\")"
   ]
  },
  {
   "cell_type": "code",
   "execution_count": null,
   "id": "6b959727",
   "metadata": {},
   "outputs": [],
   "source": [
    "cabecera(80, \"Python\")"
   ]
  },
  {
   "cell_type": "markdown",
   "id": "5a59360a",
   "metadata": {},
   "source": [
    "## Devolviendo el resultado de la función\n",
    "\n",
    "Como `print()`, las funciones anteriores se limitan a imprimir en consola. No necesitan devolver el resultado que ha calculado la función. Otras funciones como `input()` o `len()` sí necesitan devolver un resultado. Para ello, es necesario que incluyan la sentencia `return` en su cuerpo:\n",
    "\n",
    "```python\n",
    "def nombre_funcion(parametro_1, parametro_2, ..., parametro_n):\n",
    "    codigo_de_la_función\n",
    "    return resultado                   # devolver resultado\n",
    "```\n",
    "\n",
    "El resultado devuelto por una función puede almacenarse en una variable o utilizarse en una expresión.\n",
    "\n",
    "Vamos a definir una función que dadas las longitudes de los catetos de un triángulo rectánglo devuelva la longitud de su hipotenusa:"
   ]
  },
  {
   "cell_type": "code",
   "execution_count": null,
   "id": "40bc006c",
   "metadata": {},
   "outputs": [],
   "source": [
    "def hipotenusa(cateto_contiguo, cateto_opuesto):\n",
    "    return (cateto_contiguo ** 2 + cateto_opuesto ** 2 ) ** 0.5"
   ]
  },
  {
   "cell_type": "code",
   "execution_count": null,
   "id": "af310a41",
   "metadata": {},
   "outputs": [],
   "source": [
    "m = 2 * hipotenusa(1.0, 1.0)\n",
    "m"
   ]
  },
  {
   "cell_type": "markdown",
   "id": "7e9df555",
   "metadata": {},
   "source": [
    "Una vez que se ejecuta `return`, se abandona el cuerpo de la función y se retorna al punto en que se invocó.\n",
    "\n",
    "Una función puede contener varios `return`. En cuanto se ejecuta uno de ellos, se abandona la función y se retorna al punto de invocación (de la misma forma que al ejecutar un `elif` se ignoran el resto de casos).\n",
    "\n",
    "En general, se considera buen estilo que una función tenga un solo `return` al final, aunque hay ocasiones en que puede ser apropiado tener más de un `return`."
   ]
  },
  {
   "cell_type": "markdown",
   "id": "75ec5574",
   "metadata": {},
   "source": [
    "## Número variable de parámetros\n",
    "\n",
    "Algunas funciones predefinidas Python pueden recibir un número variable de parámetros:"
   ]
  },
  {
   "cell_type": "code",
   "execution_count": null,
   "id": "95554b50",
   "metadata": {},
   "outputs": [],
   "source": [
    "print(1)\n",
    "print(1,2,3)\n",
    "max(4,5,6,7)"
   ]
  },
  {
   "cell_type": "markdown",
   "id": "cf17e737",
   "metadata": {},
   "source": [
    "Las funciones que hemos definido anteriormente deben recibir exactamente los parámetros que aparecen en su definición. Si queremos que una función pueda recibir un número variable de parámetros, debemos preceder el nombre del parámetro por un asterisco:\n",
    "\n",
    "```python\n",
    "def nombre_funcion(*parametros):  # número variable de parámetros\n",
    "    codigo_de_la_función\n",
    "    return resultado\n",
    "```\n",
    "La variable `parametros` es una **tupla**: podemos acceder a cada parámetro mediante indexación y podemos iterar con un bucle `for`. Además, podemos saber el número de parámetros mediante la función `len()`."
   ]
  },
  {
   "cell_type": "code",
   "execution_count": null,
   "id": "1e081a85",
   "metadata": {},
   "outputs": [],
   "source": [
    "def varios_parametros(*args):\n",
    "    \n",
    "    print(type(args))\n",
    "    print(len(args))\n",
    "    print()\n",
    "    \n",
    "    for x in args:\n",
    "        print(x)\n",
    "        \n",
    "    print()\n",
    "    \n",
    "    i = 0\n",
    "    while i < len(args):\n",
    "        print(args[i])\n",
    "        i += 1\n",
    "    \n",
    "    print()"
   ]
  },
  {
   "cell_type": "code",
   "execution_count": null,
   "id": "ba2e8789",
   "metadata": {},
   "outputs": [],
   "source": [
    "# varios_parametros(1, True, \"hola\", [67,90])\n",
    "# varios_parametros()\n",
    "# varios_parametros(\"adios\", 6, [67,90, 1])\n",
    "varios_parametros(\"ya mismo acabamos\")"
   ]
  },
  {
   "cell_type": "markdown",
   "id": "2a354ca7",
   "metadata": {},
   "source": [
    "## Parámetros por defecto\n",
    "\n",
    "Es frecuente que el parámetro de una función tenga un valor por defecto. Por ejemplo. en la función `print()` el separador por defecto es el espacio y el terminador por defecto el salto de línea. Cuando esto ocurre, podemos indicar el valor por defecto de un parámetro en la definición de la función:\n",
    "\n",
    "```python\n",
    "def nombre_funcion(parametro = valor_por_defecto):  # parámetro con valor por defecto\n",
    "    codigo_de_la_función\n",
    "    return resultado\n",
    "```\n",
    "\n",
    "Si un parámetro tiene valor por defecto, no es necesario facilitar su valor inicial en la invocación; es decir, no es necesario poner un argumento en la invocación."
   ]
  },
  {
   "cell_type": "code",
   "execution_count": null,
   "id": "e84c507c",
   "metadata": {},
   "outputs": [],
   "source": [
    "def asteriscos(num_asteriscos = 80):  # num_asteriscos es un parámetro con valor por defecto\n",
    "    print(num_asteriscos * \"*\")"
   ]
  },
  {
   "cell_type": "code",
   "execution_count": null,
   "id": "e0e4fd54",
   "metadata": {},
   "outputs": [],
   "source": [
    "asteriscos()      # no hay argumento: el parámetro se inicializa al valor por defecto\n",
    "asteriscos(10)    # hay argumento: el valor por defecto se ignora"
   ]
  },
  {
   "cell_type": "markdown",
   "id": "a6f89f43",
   "metadata": {},
   "source": [
    "Una función puede tener más de un parámetro por defecto:"
   ]
  },
  {
   "cell_type": "code",
   "execution_count": null,
   "id": "897349dc",
   "metadata": {},
   "outputs": [],
   "source": [
    "def imprime_linea(n_veces = 80, caracter = '*'):\n",
    "    print(n_veces * caracter)"
   ]
  },
  {
   "cell_type": "code",
   "execution_count": null,
   "id": "89a4306c",
   "metadata": {
    "scrolled": true
   },
   "outputs": [],
   "source": [
    "imprime_linea()            # se usan ambos valores por defecto\n",
    "imprime_linea(5)           # se usa solo el segundo valor por defecto\n",
    "imprime_linea(10, '#')     # no se usa ningún valor por defecto"
   ]
  },
  {
   "cell_type": "markdown",
   "id": "f53869ae",
   "metadata": {},
   "source": [
    "Observa que no es posible facilitar solo el segundo argumento. Si facilitas un argumento, se asume que se trata del primero. Similarmente, los parámetros por defecto deben ser los últimos en la definición de una función:"
   ]
  },
  {
   "cell_type": "code",
   "execution_count": null,
   "id": "82a5bb72",
   "metadata": {},
   "outputs": [],
   "source": [
    "def bien(a, b, c = 10, d = 20):  # esta definición de función es válida\n",
    "    return a + b + c + d "
   ]
  },
  {
   "cell_type": "code",
   "execution_count": null,
   "id": "92e94789",
   "metadata": {
    "scrolled": true
   },
   "outputs": [],
   "source": [
    "def mal(a = 10, b = 20, c, d):   # esta definición de función no es válida\n",
    "    return a + b + c + d "
   ]
  },
  {
   "cell_type": "code",
   "execution_count": null,
   "id": "0c588112",
   "metadata": {},
   "outputs": [],
   "source": [
    "bien(1,2) # a = 1, b = 2"
   ]
  },
  {
   "cell_type": "code",
   "execution_count": null,
   "id": "d05fed48",
   "metadata": {},
   "outputs": [],
   "source": [
    "bien(1,2,3) # a = 1, b = 2, c = 3"
   ]
  },
  {
   "cell_type": "markdown",
   "id": "c61e7b69",
   "metadata": {},
   "source": [
    "## Paso de argumentos por `keyword`\n",
    "\n",
    "Hasta el momento hemos utilizado paso de parámetros **posicional**. El primer argumento de la invocación inicializa al primer parámetro de la definición, y así sucesivamente. En Python, es posible pasar los argumentos usando el **nombre de los parámetros**. Esto es algo que ya hemos hecho con la función `print()`, usando `sep` y `end`:"
   ]
  },
  {
   "cell_type": "code",
   "execution_count": null,
   "id": "046b8435",
   "metadata": {},
   "outputs": [],
   "source": [
    "print(\"hola\", \"mundo\", sep = ', ', end = \". \")\n",
    "print(\"¿cómo va\", \"todo\", end = \"?\", sep = ' ')"
   ]
  },
  {
   "cell_type": "markdown",
   "id": "254ab74f",
   "metadata": {},
   "source": [
    "Observa que estamos facilitando a la función `print()` los valores iniciales de sus parámetros `end` y `sep`. Para ello, inicializamos los parámetros de forma explícita en la invocación. Esto permite que la posición de un argumento no sea la de su correspondiente parámetro. El argumento se asocia a su parámetro por nombre, no por posición.\n",
    "\n",
    "Dada una función Python:"
   ]
  },
  {
   "cell_type": "code",
   "execution_count": null,
   "id": "d43a5c5e",
   "metadata": {},
   "outputs": [],
   "source": [
    "def imprime_linea(n_veces = 80, caracter = '*'):\n",
    "    print(n_veces * caracter)"
   ]
  },
  {
   "cell_type": "markdown",
   "id": "c92e883b",
   "metadata": {},
   "source": [
    "Podemos usar invocación **posicional**, en cuyo caso el orden de los argumentos es el de los parámetros:"
   ]
  },
  {
   "cell_type": "code",
   "execution_count": null,
   "id": "df4ca312",
   "metadata": {},
   "outputs": [],
   "source": [
    "imprime_linea(10, \"-\")"
   ]
  },
  {
   "cell_type": "markdown",
   "id": "e3005af7",
   "metadata": {},
   "source": [
    "Podemos usar invocación por `keyword`, en cuyo caso el orden de los argumentos es irrelevante:"
   ]
  },
  {
   "cell_type": "code",
   "execution_count": null,
   "id": "1397b63a",
   "metadata": {
    "scrolled": true
   },
   "outputs": [],
   "source": [
    "imprime_linea(n_veces = 5, caracter = '#')\n",
    "imprime_linea(caracter = '#', n_veces = 5)"
   ]
  },
  {
   "cell_type": "markdown",
   "id": "b1216a89",
   "metadata": {},
   "source": [
    "Observa que este truco puede usarse para facilitar solo el segundo parámetro y aprovechar el valor por defecto del primero:"
   ]
  },
  {
   "cell_type": "code",
   "execution_count": null,
   "id": "00c0b524",
   "metadata": {},
   "outputs": [],
   "source": [
    "imprime_linea(caracter = '+')"
   ]
  },
  {
   "cell_type": "code",
   "execution_count": null,
   "id": "835314ec",
   "metadata": {},
   "outputs": [],
   "source": [
    "imprime_linea('+') # esto no funciona"
   ]
  },
  {
   "cell_type": "markdown",
   "id": "d1f49a85",
   "metadata": {},
   "source": [
    "Finalmente, podemos mezclar una invocación posicional y por `keyword`, pero los primeros argumentos deben ser posicionales y se corresponden con los primeros parámetros:"
   ]
  },
  {
   "cell_type": "code",
   "execution_count": null,
   "id": "4bc85b3b",
   "metadata": {},
   "outputs": [],
   "source": [
    "imprime_linea(5, caracter = '+')"
   ]
  },
  {
   "cell_type": "markdown",
   "id": "31aafe22",
   "metadata": {},
   "source": [
    "## Devolviendo varios resultados\n",
    "\n",
    "Hemos visto que la sentencia `return`permite devolver el resultado de una función:\n",
    "\n",
    "```python\n",
    "def hipotenusa(cateto_contiguo, cateto_opuesto):\n",
    "    return (cateto_contiguo ** 2 + cateto_opuesto ** 2 ) ** 0.5\n",
    "```\n",
    "\n",
    "A veces nos interesa que una función devuelva más de un resultado. Para ello, basta facilitar los diferentes resultados separados por comas en la sentencia `return`:\n",
    "\n",
    "```python\n",
    "def nombre_funcion(parametro_1, parametro_2, ..., parametro_n):\n",
    "    codigo_de_la_función\n",
    "    return resultado1, resultado2, ..., resultado_m           # devolver m resultados\n",
    "```\n",
    "\n",
    "Al ejercutarse el `return`, los resultados son empaquetados en una tupla; es decir, la función realmente devuelve un solo resultado de tipo tupla.\n",
    "\n",
    "Vamos a definir una función que devuelve el área y circunferencia de un círculo de radio $r$:"
   ]
  },
  {
   "cell_type": "code",
   "execution_count": null,
   "id": "68e9fd7a",
   "metadata": {},
   "outputs": [],
   "source": [
    "def area_y_circunferencia(radio):\n",
    "    pi = 3.1416\n",
    "    area = pi * radio ** 2\n",
    "    circunferencia = 2 * pi * radio\n",
    "    return area, circunferencia"
   ]
  },
  {
   "cell_type": "code",
   "execution_count": null,
   "id": "88335448",
   "metadata": {},
   "outputs": [],
   "source": [
    "resultado = area_y_circunferencia(5)\n",
    "print(type(resultado))\n",
    "resultado"
   ]
  },
  {
   "cell_type": "code",
   "execution_count": null,
   "id": "6f1d6cb8",
   "metadata": {},
   "outputs": [],
   "source": [
    "a, c = area_y_circunferencia(5)  # unpacking\n",
    "print(type(a))\n",
    "print(type(c))\n",
    "print(a)\n",
    "print(c)"
   ]
  },
  {
   "cell_type": "code",
   "execution_count": null,
   "id": "753440b8",
   "metadata": {},
   "outputs": [],
   "source": [
    "digs, ultimo_dig = divmod(868123, 10)\n",
    "print(digs)\n",
    "print(ultimo_dig)"
   ]
  },
  {
   "cell_type": "markdown",
   "id": "9dc80a19",
   "metadata": {},
   "source": [
    "## Ámbito de una función\n",
    "\n",
    "Consideremos el siguiente programa Python:"
   ]
  },
  {
   "cell_type": "code",
   "execution_count": null,
   "id": "e665c8f5",
   "metadata": {},
   "outputs": [],
   "source": [
    "a = 100\n",
    "\n",
    "def f():\n",
    "    a = 500\n",
    "    print(a)\n",
    "    \n",
    "print(a)\n",
    "f()\n",
    "print(a)"
   ]
  },
  {
   "cell_type": "markdown",
   "id": "4318a1ad",
   "metadata": {},
   "source": [
    "Observa que la asignación `a = 500` no tiene efecto fuera de la función. La variable `a` sigue valiendo `100` después de invocar a `f`. Esto se debe a que las funciones Python introducen un **ámbito**; es decir, la variable `a` que aparece en el bloque de la función `f()` es una variable **nueva**, **local** a `f()`. La variable `a` que aparece fuera de la función `f()` es una variable **global**. Ambas variables son **distintas**, las asignaciones a una no afectan a la otra.\n",
    "\n",
    "> Cuando una función Python asigna un valor a una variable por primera vez, se crea una variable nueva, local a la función.\n",
    "\n",
    "```python\n",
    "a = 100        # variable global\n",
    "\n",
    "def f():\n",
    "    a = 500    # variable local (distinta de la global)\n",
    "    print(a)\n",
    "    \n",
    "print(a)\n",
    "f()\n",
    "print(a)\n",
    "```\n",
    "\n",
    "Una consecuencia de lo anterior es que una función Python no puede modificar las variables que recibe como parámetros:"
   ]
  },
  {
   "cell_type": "code",
   "execution_count": null,
   "id": "b7a14f5f",
   "metadata": {
    "scrolled": true
   },
   "outputs": [],
   "source": [
    "a = 100              # variable global\n",
    "\n",
    "def incrementa(x):\n",
    "    x += 1           # variable local\n",
    "    print(x)\n",
    "    \n",
    "print(a)\n",
    "incrementa(a)\n",
    "print(a)"
   ]
  },
  {
   "cell_type": "markdown",
   "id": "c8d0a552",
   "metadata": {},
   "source": [
    "### Declaración de variable global\n",
    "\n",
    "A veces necesitamos que una función Python modifique una variable global; es decir, que las asignaciones del cuerpo de la función afecten a la variable global. En tal caso, debemos incluir en la función una declaración de variable global; para indicar que no se debe crear una variable local nuevo, sino utilizar la variable global:\n",
    "\n",
    "```python\n",
    "def nombre_funcion(parametro_1, parametro_2, ..., parametro_n):\n",
    "    global variable_global                                       # declaración de variable global\n",
    "    codigo_de_la_función\n",
    "    return resultado1, resultado2, ..., resultado_m\n",
    "```\n",
    "\n",
    "En general, se desaconseja el uso de declaraciones de variables gloables en Python."
   ]
  },
  {
   "cell_type": "code",
   "execution_count": null,
   "id": "725891e8",
   "metadata": {},
   "outputs": [],
   "source": [
    "a = 100              # variable global\n",
    "\n",
    "def incrementa():\n",
    "    global a         # declaración de variable global\n",
    "    a += 1           # no  crea una variable local\n",
    "    print(a)\n",
    "    \n",
    "print(a)\n",
    "incrementa()\n",
    "print(a)"
   ]
  },
  {
   "cell_type": "markdown",
   "id": "2753c53b",
   "metadata": {},
   "source": [
    "### Modificación de colecciones mutables en funciones Python\n",
    "\n",
    "Recuerda que una asignación en un bloque de función crea una nueva variable local (excepto si la variable asignada ha sido declarada `global`). Por otro lado, las colecciones mutables se pueden modificar sin utilizar la sentencia de asignación. Ciertos métodos (por ejemplo, `append` sobre listas) pueden modificar una colección.\n",
    "\n",
    "Observa la diferencia entre las siguientes funciones Python:"
   ]
  },
  {
   "cell_type": "code",
   "execution_count": null,
   "id": "b308a2f8",
   "metadata": {},
   "outputs": [],
   "source": [
    "lst = [1,2,3]\n",
    "\n",
    "def inserta(xs, x):\n",
    "    xs = xs + [x]       # la asignación crea una nueva variable local\n",
    "    print(xs)\n",
    "    \n",
    "print(lst)\n",
    "inserta(lst, 1000)\n",
    "print(lst)"
   ]
  },
  {
   "cell_type": "code",
   "execution_count": null,
   "id": "a391c7f0",
   "metadata": {},
   "outputs": [],
   "source": [
    "lst = [1,2,3]\n",
    "\n",
    "def inserta(xs, x):\n",
    "    xs.append(x)       # no hay asignación, xs y lst son la misma lista (xs = lst)\n",
    "    print(xs)\n",
    "    \n",
    "print(lst)\n",
    "inserta(lst, 1000)\n",
    "print(lst)"
   ]
  },
  {
   "cell_type": "markdown",
   "id": "6bc02237",
   "metadata": {},
   "source": [
    "## Solución de la media aritmética mediante funciones"
   ]
  },
  {
   "cell_type": "code",
   "execution_count": null,
   "id": "320c1359",
   "metadata": {},
   "outputs": [],
   "source": [
    "pesos = [82, 81, 54, 48, 102, 77]\n",
    "estaturas = [1.78, 1.85, 1.61, 1.58, 1.9, 1.83]\n",
    "\n",
    "def media_aritmetica(lst):\n",
    "    if len(lst) == 0:\n",
    "        print(\"no se puede calcular la media de la lista vacia\")\n",
    "    else:\n",
    "        suma = 0\n",
    "        for elemento in lst:\n",
    "            suma += elemento\n",
    "        media = suma / len(lst)\n",
    "        return media\n",
    "    \n",
    "    \n",
    "print(media_aritmetica(pesos))\n",
    "print(media_aritmetica(estaturas))\n",
    "print(media_aritmetica([3,4,5]))\n",
    "m = media_aritmetica([5,6,7,8])\n",
    "print(m)"
   ]
  },
  {
   "cell_type": "markdown",
   "id": "191d5ed1",
   "metadata": {},
   "source": [
    "## Señalando errores en funciones\n",
    "\n",
    "La función `media_aritmetica` no está definida si la lista está vacía. Para señalar ese error, hemos utilizado un `print()`:"
   ]
  },
  {
   "cell_type": "code",
   "execution_count": null,
   "id": "ad212704",
   "metadata": {},
   "outputs": [],
   "source": [
    "media_aritmetica([])"
   ]
  },
  {
   "cell_type": "markdown",
   "id": "1abccf72",
   "metadata": {},
   "source": [
    "En realidad, esa es una mala solución. Observa que Python señala ese tipo de errores de una manera mucho más clara:\n",
    "- detiene la ejecución del programa\n",
    "- muestra un mensaje de error, indicando el tipo de error (`TypeError`, `IndexError`)\n",
    "- señala el código que ha provocado el error\n",
    "\n",
    "Por ejemplo, observa la forma en que Python señala los siguientes errores:"
   ]
  },
  {
   "cell_type": "code",
   "execution_count": null,
   "id": "e4a9942f",
   "metadata": {
    "scrolled": true
   },
   "outputs": [],
   "source": [
    "max()  # no está definido el máximo de ningún argumento"
   ]
  },
  {
   "cell_type": "code",
   "execution_count": null,
   "id": "480e8e62",
   "metadata": {},
   "outputs": [],
   "source": [
    "\"hola\"[5]  # la posición 5 está fuera de rango"
   ]
  },
  {
   "cell_type": "code",
   "execution_count": null,
   "id": "42ff4679",
   "metadata": {},
   "outputs": [],
   "source": [
    "2 / 0  # no se puede dividir por cero"
   ]
  },
  {
   "cell_type": "markdown",
   "id": "906c67ea",
   "metadata": {},
   "source": [
    "Es evidente que la forma de señalar los errores de Python es preferible a nuestro mensaje con `print()`, que podría pasar desapercibido entre una maraña de mensajes.\n",
    "\n",
    "Para señalar un error como la hace Python, basta usar la sentencia `raise`, cuya sintaxis es:\n",
    "\n",
    "```python\n",
    "   raise tipo_de_error(\"mensaje de error\")\n",
    "```\n",
    "\n",
    "donde `tipo_de_error` puede ser `TypeError`, `IndexError`, etc. Nosotros usaremos siempre `ValueError`.\n",
    "\n",
    "Podemos modificar la función `media_aritmetica` para que señale los errores como lo hace Python:"
   ]
  },
  {
   "cell_type": "code",
   "execution_count": null,
   "id": "c6f06da5",
   "metadata": {},
   "outputs": [],
   "source": [
    "pesos = [82, 81, 54, 48, 102, 77]\n",
    "\n",
    "def media_aritmetica(lst):\n",
    "    \n",
    "    if len(lst) == 0:\n",
    "        raise ValueError(\"no se puede calcular la media de la lista vacia\")\n",
    "    \n",
    "    else:\n",
    "        suma = 0\n",
    "        for elemento in lst:\n",
    "            suma += elemento\n",
    "        media = suma / len(lst)\n",
    "        return media\n",
    "    \n",
    "    \n",
    "print(media_aritmetica(pesos))\n",
    "print(media_aritmetica([]))"
   ]
  },
  {
   "cell_type": "markdown",
   "id": "7a66900c",
   "metadata": {},
   "source": [
    "## Solución del mission problem (14)"
   ]
  },
  {
   "cell_type": "code",
   "execution_count": null,
   "id": "c594100c",
   "metadata": {},
   "outputs": [],
   "source": [
    "import string"
   ]
  },
  {
   "cell_type": "code",
   "execution_count": null,
   "id": "3169ec49",
   "metadata": {},
   "outputs": [],
   "source": [
    "string.ascii_uppercase"
   ]
  },
  {
   "cell_type": "code",
   "execution_count": null,
   "id": "f35126c3",
   "metadata": {
    "scrolled": true
   },
   "outputs": [],
   "source": [
    "print(string.ascii_uppercase)\n",
    "print(string.ascii_uppercase[3:] + string.ascii_uppercase[:3])"
   ]
  },
  {
   "cell_type": "code",
   "execution_count": null,
   "id": "f8c7769b",
   "metadata": {},
   "outputs": [],
   "source": [
    "\"hola que tal\".index('a')"
   ]
  },
  {
   "cell_type": "code",
   "execution_count": null,
   "id": "0eeb5126",
   "metadata": {},
   "outputs": [],
   "source": [
    "def cipher(message):\n",
    "    src = string.ascii_uppercase\n",
    "    dst = src[3:] + src[:3]\n",
    "    secret = \"\"\n",
    "    for ch in message:\n",
    "        if ch in src:\n",
    "            i = src.index(ch)\n",
    "            secret += dst[i]\n",
    "        else:\n",
    "            secret += ch\n",
    "    return secret\n",
    "\n",
    "original = input(\"dame el mensaje: \")\n",
    "cifrado = cipher(original)\n",
    "print(\"tu mensaje cifrado es:\", cifrado)"
   ]
  },
  {
   "cell_type": "code",
   "execution_count": null,
   "id": "05de31d7",
   "metadata": {},
   "outputs": [],
   "source": [
    "def cifrar(message, clave = 3):\n",
    "    src = string.ascii_uppercase\n",
    "    dst = src[clave:] + src[:clave]\n",
    "    secret = \"\"\n",
    "    for ch in message:\n",
    "        if ch in src:\n",
    "            i = src.index(ch)\n",
    "            secret += dst[i]\n",
    "        else:\n",
    "            secret += ch\n",
    "    return secret\n",
    "\n",
    "def descifrar(mensaje, clave = 3):\n",
    "    return cifrar(mensaje, -clave)\n",
    "\n",
    "\n",
    "original = input(\"dame el mensaje: \")\n",
    "clave = int(input(\"dame la clave: \"))\n",
    "\n",
    "cifrado = cifrar(original, clave)\n",
    "print(\"tu mensaje cifrado es:\", cifrado)\n",
    "\n",
    "descifrado = descifrar(cifrado, clave)\n",
    "print(\"tu mensaje descrifrado es:\", descifrado)\n",
    "\n",
    "if original != descifrado:\n",
    "    print(\"algo fue mal\")"
   ]
  },
  {
   "cell_type": "markdown",
   "id": "bd985571",
   "metadata": {},
   "source": [
    "## Solución del primer ejercicio de paper coding (52)"
   ]
  },
  {
   "cell_type": "code",
   "execution_count": null,
   "id": "a4515cdf",
   "metadata": {},
   "outputs": [],
   "source": [
    "def my_greet():\n",
    "    print(\"Welcome.\")\n",
    "    \n",
    "my_greet()\n",
    "my_greet()"
   ]
  },
  {
   "cell_type": "markdown",
   "id": "772b0ab2",
   "metadata": {},
   "source": [
    "## Solución del segundo ejercicio de paper coding (53)"
   ]
  },
  {
   "cell_type": "code",
   "execution_count": null,
   "id": "9d7c5f1f",
   "metadata": {},
   "outputs": [],
   "source": [
    "def max2(m, n):\n",
    "    maximo = m\n",
    "    if n > m:\n",
    "        maximo = n\n",
    "    return maximo\n",
    "\n",
    "def min2(m, n):\n",
    "    minimo = m\n",
    "    if n < m:\n",
    "        minimo = n\n",
    "    return minimo\n",
    "\n",
    "num1 = 100\n",
    "num2 = 200\n",
    "print(\"El número mayor es\", max2(num1, num2))\n",
    "print(\"El número menor es\", min2(num1, num2))"
   ]
  },
  {
   "cell_type": "code",
   "execution_count": null,
   "id": "11d2f3f6",
   "metadata": {},
   "outputs": [],
   "source": [
    "def max2(m, n):\n",
    "    if n >= m:\n",
    "        return n\n",
    "    else:\n",
    "        return m\n",
    "\n",
    "def min2(m, n):\n",
    "    if n <= m:\n",
    "        return n\n",
    "    \n",
    "    return m\n",
    "\n",
    "num1 = 100\n",
    "num2 = 200\n",
    "print(\"El número mayor es\", max2(num1, num2))\n",
    "print(\"El número menor es\", min2(num1, num2))"
   ]
  },
  {
   "cell_type": "code",
   "execution_count": null,
   "id": "2449ec68",
   "metadata": {},
   "outputs": [],
   "source": [
    "def min_max(m,n):\n",
    "    if m <= n:\n",
    "        return m, n\n",
    "    else:\n",
    "        return n, m\n",
    "    \n",
    "num1 = 100\n",
    "num2 = 200\n",
    "\n",
    "minimo, maximo = min_max(num1, num2)\n",
    "print(\"El número mayor es\", maximo)\n",
    "print(\"El número menor es\", minimo)"
   ]
  },
  {
   "cell_type": "markdown",
   "id": "a45ebf5a",
   "metadata": {},
   "source": [
    "## Solución del tercer ejercicio de paper coding (54)"
   ]
  },
  {
   "cell_type": "code",
   "execution_count": null,
   "id": "acf3ef67",
   "metadata": {},
   "outputs": [],
   "source": [
    "def mile2km(mi):\n",
    "    km = mi * 1.61\n",
    "    return km\n",
    "\n",
    "for x in range(1,6):\n",
    "    print(x, \"milla(s) son\", mile2km(x), \"kilómetros.\")"
   ]
  },
  {
   "cell_type": "markdown",
   "id": "f6c61fde",
   "metadata": {},
   "source": [
    "## Solución del cuarto ejercicio de paper coding (55)"
   ]
  },
  {
   "cell_type": "code",
   "execution_count": null,
   "id": "b787be5d",
   "metadata": {},
   "outputs": [],
   "source": [
    "def cel2fah(cel):\n",
    "    return cel * (9/5) + 32\n",
    "\n",
    "for cel in range(10, 51, 10):\n",
    "    fahrenheit = cel2fah(cel)\n",
    "    print(cel, \"grados Celsius =\", fahrenheit, \"Fahrenheit\")   "
   ]
  },
  {
   "cell_type": "markdown",
   "id": "1142ea5f",
   "metadata": {},
   "source": [
    "## Solución del ejercicio de pair programming (87)"
   ]
  },
  {
   "cell_type": "code",
   "execution_count": null,
   "id": "c4f7ff11",
   "metadata": {},
   "outputs": [],
   "source": [
    "def mean3(a, b, c):\n",
    "    suma = a + b + c\n",
    "    return suma / 3\n",
    "\n",
    "def max3(a, b, c):\n",
    "    maximo = a\n",
    "    if b > maximo:\n",
    "        maximo = b\n",
    "    if c > maximo:\n",
    "        maximo = c\n",
    "    return maximo\n",
    "\n",
    "def min3(a, b, c):\n",
    "    minimo = a\n",
    "    if b < minimo and b < c:\n",
    "        minimo = b\n",
    "    elif c < minimo:\n",
    "        minimo = c\n",
    "    return minimo\n",
    "\n",
    "a, b, c = input(\"Ponga tres números separados por comas: \").split(\",\")\n",
    "a, b, c = int(a), int(b), int(c)\n",
    "print(\"La media de los tres números es de\", mean3(a,b,c))\n",
    "print(\"El mayor número de los tres es\", max3(a,b,c))\n",
    "print(\"El menor número de los tres es\", min3(a,b,c))    "
   ]
  },
  {
   "cell_type": "code",
   "execution_count": null,
   "id": "a65175b7",
   "metadata": {},
   "outputs": [],
   "source": [
    "def max3(a,b,c):\n",
    "    if a >= b and a >= c:\n",
    "        return a\n",
    "    elif b >= c:\n",
    "        return b\n",
    "    else:\n",
    "        return c\n",
    "    \n",
    "a, b, c = input(\"Ponga tres números separados por comas: \").split(\",\")\n",
    "a, b, c = int(a), int(b), int(c)\n",
    "print(\"El mayor número de los tres es\", max3(a,b,c))\n",
    "    \n",
    "    "
   ]
  },
  {
   "cell_type": "code",
   "execution_count": null,
   "id": "0715f864",
   "metadata": {},
   "outputs": [],
   "source": [
    "def max3(a,b,c):\n",
    "    return max2(max2(a,b),c)\n",
    "    \n",
    "a, b, c = input(\"Ponga tres números separados por comas: \").split(\",\")\n",
    "a, b, c = int(a), int(b), int(c)\n",
    "print(\"El mayor número de los tres es\", max3(a,b,c))"
   ]
  }
 ],
 "metadata": {
  "kernelspec": {
   "display_name": "Python 3 (ipykernel)",
   "language": "python",
   "name": "python3"
  },
  "language_info": {
   "codemirror_mode": {
    "name": "ipython",
    "version": 3
   },
   "file_extension": ".py",
   "mimetype": "text/x-python",
   "name": "python",
   "nbconvert_exporter": "python",
   "pygments_lexer": "ipython3",
   "version": "3.11.4"
  }
 },
 "nbformat": 4,
 "nbformat_minor": 5
}
