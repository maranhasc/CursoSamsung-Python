{
 "cells": [
  {
   "cell_type": "markdown",
   "id": "24834199",
   "metadata": {},
   "source": [
    "# Samsung Innovation Campus\n",
    "## Coding and programming\n",
    "## Tercera prueba de evaluación\n",
    "\n",
    "Para la realización de este ejercicio se tendrá **2 horas** de tiempo y se podrá sumar hasta **10 puntos**."
   ]
  },
  {
   "cell_type": "markdown",
   "id": "b14456a2",
   "metadata": {},
   "source": [
    "**(2 puntos)** Diseña la clase `Persona`, que vendrá representada por su nombre, edad y dni. Estos atributos serán privados. La clase ofrecerá el siguiente constructor y métodos públicos:\n",
    "\t\n",
    "~~~ {.py}\n",
    "▶ def __init__(self,...)\n",
    "~~~\n",
    "> Construye un objeto `Persona`. Recibe como parámetros, en el siguiente\n",
    "> orden, el nombre, la edad y su dni.\n",
    "\n",
    "~~~ {.py}\n",
    "▶ def nombre(self)\n",
    "▶ def edad(self)\n",
    "▶ def dni(self)\n",
    "~~~\n",
    "\n",
    "> Devuelven los valores correspondientes almacenados en el objeto (usa decoradores).\n",
    "\n",
    "~~~ {.py}\n",
    "▶ def __str__(self)\n",
    "~~~\n",
    "\n",
    "> Devuelve una representación en forma de cadena de la persona, según el formato del\n",
    "> siguiente ejemplo:\n",
    ">> ~~~\n",
    ">> (12345678A, Antonio Pérez, 25 años)\n",
    ">> ~~~\n",
    "\n",
    "~~~ {.py}\n",
    "▶ def __eq__(self,other)\n",
    "~~~\n",
    "\n",
    "> Compara la persona actual (self) con la persona recibida como parámetro (other). Dos personas serán iguales si el dni es el mismo, independientemente de mayúsculas y minúsculas."
   ]
  },
  {
   "cell_type": "code",
   "execution_count": null,
   "id": "fa907e8d",
   "metadata": {},
   "outputs": [],
   "source": [
    "# Escribe el código de la clase Persona"
   ]
  },
  {
   "cell_type": "markdown",
   "id": "4a868c51",
   "metadata": {},
   "source": [
    "**(2 puntos)** La clase `Diputado` deriva de la clase `Persona`, donde además se permite especificar el partido político al que pertenece, que será un atributo privado de esta clase derivada. La clase ofrecerá el siguiente constructor y métodos públicos:\n",
    "\t\n",
    "~~~ {.py}\n",
    "▶ def __init__(self,...)\n",
    "~~~\n",
    "\n",
    "> Construye un objeto `Diputado`. Recibe como parámetros, en el siguiente\n",
    "> orden, el dni, nombre, edad y partido político al que pertenece.\n",
    "\n",
    "~~~ {.py}\n",
    "▶ def partido(self)\n",
    "~~~\n",
    "\n",
    "> Devuelve la información del partido político del diputado (preferible uso de decorador).\n",
    "\n",
    "~~~ {.py}\n",
    "▶ def __str__(self)\n",
    "~~~\n",
    "\n",
    "> Devuelve la representación textual del objeto, según el formato del\n",
    "> siguiente ejemplo:\n",
    ">> ~~~\n",
    ">> [Partido A] - (12345678A, Antonio Pérez, 25 años)\n",
    ">> ~~~\n",
    "\n",
    "~~~ {.py}\n",
    "▶ def __eq__(self,other)\n",
    "~~~\n",
    "\n",
    "> Compara si el diputado es igual a otro diputado basándose en el DNI y el partido, independientemente de mayúsculas y minúsculas."
   ]
  },
  {
   "cell_type": "code",
   "execution_count": null,
   "id": "af5f815e",
   "metadata": {},
   "outputs": [],
   "source": [
    "# Escribe el código de la clase Diputado"
   ]
  },
  {
   "cell_type": "markdown",
   "id": "b5381072",
   "metadata": {},
   "source": [
    "**(0,75 puntos)** Realiza las siguientes acciones con las clases anteriores.\n",
    "- Crea dos objetos de la clase `Persona`: \n",
    "\n",
    "(12345678A, 'Antonio Pérez', 25)\n",
    "\n",
    "(12345678A, 'Marina Guzman', 28)\n",
    "\n",
    "- Crea cuatro objetos de la clase `Diputado`:\n",
    "\n",
    "(11111111A, 'Pedro Sánchez', 51, 'Partido Socialista')\n",
    "\n",
    "(22222222F, 'Alberto Núñez Feijóo', 61, 'Partido Popular')\n",
    "\n",
    "(33333333C, 'Yolanda Díaz', 52, 'Sumar')\n",
    "\n",
    "(33333333c, 'Yolanda Díaz', 52, 'sumar')\n",
    "\n",
    "- Muestra los objetos por pantalla.\n",
    "\n",
    "- Compara los tres últimos objetos de la clase `Diputado` para ver si son iguales dos a dos."
   ]
  },
  {
   "cell_type": "code",
   "execution_count": null,
   "id": "f3376582",
   "metadata": {},
   "outputs": [],
   "source": [
    "# Escribe el código para generar objetos Persona y Diputado"
   ]
  },
  {
   "cell_type": "markdown",
   "id": "19afb21a",
   "metadata": {},
   "source": [
    "**(4.25 puntos)** Defina la clase `Congreso`,que represente el congreso de los diputados en España. Para ello, esta clase contendrá con atributo privado una lista de diputados, que serán objetos de la clase Diputado definida anteriormente. \n",
    "\n",
    "~~~ {.py}\n",
    "▶ def __init__(self)\n",
    "~~~\n",
    "\n",
    "> Construye un objeto `Congreso` vacío (sin diputados).\n",
    "\n",
    "~~~ {.py}\n",
    "▶ def obtener_diputados(self)\n",
    "~~~\n",
    "\n",
    "> Devuelve la lista de diputados del congreso (usar decorador).\n",
    "\n",
    "~~~ {.py}\n",
    "▶ def agregar_diputado(...)\n",
    "~~~\n",
    "\n",
    "> Crea un nuevo objeto `Diputado` con el dni, nombre, edad y partido político recibidos como parámetros. Si el diputado está en la lista se muestra un mensaje por pantalla, en caso contrario se añade. \n",
    "\n",
    "~~~ {.py}\n",
    "▶ def borrar_diputado(...)\n",
    "~~~\n",
    "\n",
    "> Dado el dni y el partido político como parámetros, si el diputado está en la lista se elimina, en caso contrario se muestra un mensaje por pantalla. \n",
    "\n",
    "~~~ {.py}\n",
    "▶ def __str__(self)\n",
    "~~~\n",
    "\n",
    "> Devuelve la representación textual del objeto, según el formato del\n",
    "> siguiente ejemplo (sin considerar los saltos de línea):\n",
    "> ~~~\n",
    "> {[Partido Socialista] - (11111111A, Pedro Sánchez, 51 años)\n",
    ">  [Partido Popular] - (22222222F, Alberto Núñez Feijóo, 61 años)\n",
    ">  [Sumar] - (33333333C, Yolanda Díaz, 52 años)\n",
    ">  [VOX] - (77777777T, Santiago Abascal, 47 años)}\n",
    "> ~~~\n",
    "\n",
    "~~~ {.py}\n",
    "▶ def copiar_diputados_por_partido(...)\n",
    "~~~\n",
    "\n",
    "> Recibe como parámetro el nombre de un partido y copia los diputados pertenecientes a ese partido en un archivo .txt con el nombre del partido.\n",
    "\n",
    "~~~ {.py}\n",
    "▶ def guardar_congreso(...)\n",
    "~~~\n",
    "\n",
    "> Recibe como parámetro el nombre del archivo y guarda la lista de diputados del Congreso en un archivo utilizando la librería Pickle.\n",
    "\n",
    "~~~ {.py}\n",
    "▶ def restaurar_congreso(...)\n",
    "~~~\n",
    "\n",
    "> Recibe como parámetro el nombre del archivo y restaura la lista de diputados del Congreso a partir del archivo utilizando la biblioteca Pickle.\n",
    "\n",
    "Los tres últimos métodos valdrán **2 puntos** dentro de los 4 puntos de la clase `Congreso`.\n",
    "\n"
   ]
  },
  {
   "cell_type": "code",
   "execution_count": null,
   "id": "38311cda",
   "metadata": {},
   "outputs": [],
   "source": [
    "# Escribe el código de la clase Congreso"
   ]
  },
  {
   "cell_type": "markdown",
   "id": "09fc8603",
   "metadata": {},
   "source": [
    "**(1 punto)** Realiza las siguientes acciones usando las clases anteriores:\n",
    "1. Crear al menos dos objetos por partido de la clase  `Diputado` con la información correspondiente (en total al menos 4).\n",
    "\n",
    "2. Crear un objeto de la clase `Congreso`.\n",
    "\n",
    "3. Agregar los diputados al Congreso utilizando el método `agregar_diputado()`.\n",
    "\n",
    "4. Mostrar el objeto congreso por pantalla. \n",
    "\n",
    "5. Copiar los diputados de un partido específico utilizando el método `copiar_diputados_por_partido()`.\n",
    "\n",
    "6. Guardar el Congreso en un archivo llamado *congreso.pkl* utilizando el método `guardar_congreso()`.\n",
    "\n",
    "7. Restaurar el Congreso desde el archivo *congreso.pkl* utilizando el método `restaurar_congreso()`.\n",
    "\n",
    "8. Mostrar el objeto congreso por pantalla. "
   ]
  },
  {
   "cell_type": "code",
   "execution_count": null,
   "id": "0733702f",
   "metadata": {},
   "outputs": [],
   "source": [
    "# Escribe el código para usar las clases anteriores"
   ]
  }
 ],
 "metadata": {
  "kernelspec": {
   "display_name": "Python 3 (ipykernel)",
   "language": "python",
   "name": "python3"
  },
  "language_info": {
   "codemirror_mode": {
    "name": "ipython",
    "version": 3
   },
   "file_extension": ".py",
   "mimetype": "text/x-python",
   "name": "python",
   "nbconvert_exporter": "python",
   "pygments_lexer": "ipython3",
   "version": "3.10.9"
  }
 },
 "nbformat": 4,
 "nbformat_minor": 5
}
