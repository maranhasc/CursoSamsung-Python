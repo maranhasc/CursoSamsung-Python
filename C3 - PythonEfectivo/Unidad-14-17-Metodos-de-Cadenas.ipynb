{
 "cells": [
  {
   "cell_type": "markdown",
   "id": "345e62b3",
   "metadata": {},
   "source": [
    "# Unidades 14 y 17 - Métodos sobre Cadenas\n",
    "\n",
    "Recuerda que las cadenas son secuencias de caracteres inmutables. Por ser secuencias, soportan los siguientes operadores:\n",
    "\n",
    "| Operador     | Significado   |\n",
    "|--------------|---------------|\n",
    "|    `s[i]`    | indexación    |\n",
    "|  `s[i:j:k]`  | _slicing_     |\n",
    "|  `s1 + s2`   | concatenación |\n",
    "|   `n * s`    | replicación   |\n",
    "|  `x in s`    | pertenencia   |\n",
    "| `x not in s` | no pertenencia|\n",
    "\n",
    "\n",
    "Además, las secuencias soportan las funciones:\n",
    "\n",
    "| Función  | Significado |\n",
    "|----------|-------------|\n",
    "| `len(s)` | longitud    |\n",
    "| `min(s)` | mínimo      |\n",
    "| `max(s)` | máximo      |\n",
    "\n",
    "\n",
    "En este notebook revisamos algunas de las funciones y métodos sobre cadenas que se introducen en las Unidades 14 y 17."
   ]
  },
  {
   "cell_type": "markdown",
   "id": "077b98ff",
   "metadata": {},
   "source": [
    "## Funciones `ord()` y `chr()`\n",
    "\n",
    "Como el resto de la información, los caracteres se representan en la memoria del ordenador mediante números. Por ejemplo, el carácter `A` se representa por el entero `65`. \n",
    "\n",
    "La función `ord()` devuelve el código numérico con el que se representa un carácter. La función `chr()` devuelve el carácter que corresponde a un valor entero (es la inversa de `ord()`)."
   ]
  },
  {
   "cell_type": "code",
   "execution_count": null,
   "id": "3e1d8760",
   "metadata": {},
   "outputs": [],
   "source": [
    "ord('A')"
   ]
  },
  {
   "cell_type": "code",
   "execution_count": null,
   "id": "a3bcef53",
   "metadata": {},
   "outputs": [],
   "source": [
    "chr(65)"
   ]
  },
  {
   "cell_type": "markdown",
   "id": "07f58dbc",
   "metadata": {},
   "source": [
    "## Métodos sobre cadenas\n",
    "\n",
    "Las cadenas soportan, entre otros, los siguientes métodos:\n",
    "\n",
    "| Método               | Significado                                                |\n",
    "|----------------------|------------------------------------------------------------|\n",
    "| `s.count(c)`         | devuelve cuántas veces aparece `c` en `s`                  |\n",
    "| `s.find(c)`          | devuelve la posición de la primera aparición de `c`en `s`  |\n",
    "| `s.index(c)`         | devuelve la posición de la primera aparición de `c`en `s`  |\n",
    "| `s.upper()`          | devuelve `s` convertida a mayúsculas                       |\n",
    "| `s.lower()`          | devuelve `s` convertida a mayúsculas                       |\n",
    "| `s.startswith(c)`    | determina si `s` comienza en `c`                           |\n",
    "| `s.endswith(c)`      | determina si `s` termina en `c`                            |\n",
    "| `s.split(c)`         |  parte `s` usando `c` como separador                       |\n",
    "| `s.join(lst)`        | une las cadenas de la lista `lst` usando `c` como conector |\n",
    "| `s.strip()`          |  elimina los blancos al inicio y final de `s`              |\n",
    "| `s.lstrip()`         |  elimina los blancos al inicio de `s`                      |\n",
    "| `s.rstrip()`         |  elimina los blancos al final de `s`                       |\n",
    "| `s.replace(src,dst)` | reemplaza las apariciones de `src` por `dst`               |"
   ]
  },
  {
   "cell_type": "code",
   "execution_count": null,
   "id": "74c62ac6",
   "metadata": {},
   "outputs": [],
   "source": []
  }
 ],
 "metadata": {
  "kernelspec": {
   "display_name": "Python 3 (ipykernel)",
   "language": "python",
   "name": "python3"
  },
  "language_info": {
   "codemirror_mode": {
    "name": "ipython",
    "version": 3
   },
   "file_extension": ".py",
   "mimetype": "text/x-python",
   "name": "python",
   "nbconvert_exporter": "python",
   "pygments_lexer": "ipython3",
   "version": "3.11.4"
  }
 },
 "nbformat": 4,
 "nbformat_minor": 5
}
