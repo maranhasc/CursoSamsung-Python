{
 "cells": [
  {
   "cell_type": "markdown",
   "id": "8af0e43f",
   "metadata": {},
   "source": [
    "# Ejercicios básicos de Python - Colecciones"
   ]
  },
  {
   "cell_type": "markdown",
   "id": "50d031d8",
   "metadata": {},
   "source": [
    "## Media, máximo y mínimo\n",
    "\n",
    "Usando iteración sobre colecciones, escribe un programa que calcule el máximo, el mínimo y la media aritmética de una lista de números. La respuesta se debe almacenar en una tupla con tres elementos. Por ejemplo, para la lista `[13, 8, 9, 45, 1, 0, 0, 6, 12]` se debe obtener la tupla `(45, 0, 10.44)`."
   ]
  },
  {
   "cell_type": "code",
   "execution_count": null,
   "id": "592cc101",
   "metadata": {},
   "outputs": [],
   "source": []
  },
  {
   "cell_type": "markdown",
   "id": "217b6f01",
   "metadata": {},
   "source": [
    "## Eliminación de repetidos de una lista\n",
    "\n",
    "Escribe un programa que elimine los elementos repetidos de una lista. De cada elemento repetido solo debe quedar su primera apacición. Por ejemplo, para la lista `[3, 1, 7, 3, 1, 1, 5, 7, 4, 2, 7]` debes obtener `[3, 1, 7, 5, 4, 2]`."
   ]
  },
  {
   "cell_type": "code",
   "execution_count": null,
   "id": "1450c0e5",
   "metadata": {},
   "outputs": [],
   "source": []
  },
  {
   "cell_type": "markdown",
   "id": "c1832946",
   "metadata": {},
   "source": [
    "## Elementos repetidos de una lista\n",
    "\n",
    "Escribe un programa que dada una lista $x$ devuelva otra lista en la que figuren los elementos que aparecen repetidos en $x$. Por ejemplo, para la lista `[3, 1, 7, 3, 1, 1, 5, 7, 4, 2, 7]` debes obtener `[3, 1, 7]`."
   ]
  },
  {
   "cell_type": "code",
   "execution_count": null,
   "id": "85816a52",
   "metadata": {},
   "outputs": [],
   "source": []
  },
  {
   "cell_type": "markdown",
   "id": "6c2b52a9",
   "metadata": {},
   "source": [
    "## Elementos no repetidos en una lista\n",
    "\n",
    "Escribe un programa que dada una lista cuente el número de elementos únicos (i.e. no repetidos) que aparecen en la misma. Por ejemplo, para la lista `[1,2,5,2,1,3]` debe mostrar `4`."
   ]
  },
  {
   "cell_type": "code",
   "execution_count": null,
   "id": "6010f989",
   "metadata": {},
   "outputs": [],
   "source": []
  },
  {
   "cell_type": "markdown",
   "id": "ece303c9",
   "metadata": {},
   "source": [
    "## Elementos comunes de dos listas\n",
    "\n",
    "Escribe un programa que dadas dos listas cuente el número de elementos que tienen en común, sin tener en cuenta los números repetidos. Por ejemplo, para las listas `[3,7,3,-1,2,3,7,2,15]` y `[15,2,-1,7,15,36,15]` debe mostrar `4`, pues el `-1`, `2`, `7` y `15` aparecen en ambas listas."
   ]
  },
  {
   "cell_type": "code",
   "execution_count": null,
   "id": "32a8b0bf",
   "metadata": {},
   "outputs": [],
   "source": []
  },
  {
   "cell_type": "markdown",
   "id": "acfb8132",
   "metadata": {},
   "source": [
    "\n",
    "## Distribución de frecuencias absolutas\n",
    "\n",
    "Escribe un programa que tome como entrada una cadena y construya una tabla de frecuencias absolutas, indicando cuántas veces aparece cada letra presente en la cadena. Por ejemplo, para la cadena `\"anaconda y python\"` la tabla de frecuencias absolutas es:\n",
    "\n",
    "| Letra | Frecuencia absoluta |\n",
    "|-------|---------------------|\n",
    "|   a   |          3          |\n",
    "|   c   |          1          |\n",
    "|   d   |          1          |\n",
    "|   h   |          1          |\n",
    "|   n   |          3          |\n",
    "|   o   |          2          |\n",
    "|   p   |          1          |\n",
    "|   t   |          1          |\n",
    "|   y   |          2          |\n",
    "| `' '` |          2          |\n",
    "\n",
    "El programa debe mostrar además la letra (o letras) más común, la letra (o letras) menos común y el número de letras distintas que aparecen en la cadena."
   ]
  },
  {
   "cell_type": "code",
   "execution_count": null,
   "id": "37706cc3",
   "metadata": {},
   "outputs": [],
   "source": []
  },
  {
   "cell_type": "markdown",
   "id": "faf50f6a",
   "metadata": {},
   "source": [
    "## Diccionarios inyectivos\n",
    "\n",
    "Escribe un programa que indique si un diccionario es _inyectivo_, es decir, si cada clave está asociada con un valor distinto al que están asociadas las demás claves. Por ejemplo, el siguiente diccionario es inyectivo:\n",
    "\n",
    "| Clave | Valor |\n",
    "|-------|-------|\n",
    "|   1   |  10   |\n",
    "|   2   |  20   |\n",
    "|   3   |  30   |"
   ]
  },
  {
   "cell_type": "code",
   "execution_count": null,
   "id": "3f4f88e9",
   "metadata": {},
   "outputs": [],
   "source": []
  },
  {
   "cell_type": "markdown",
   "id": "9584e150",
   "metadata": {},
   "source": [
    "## Diccionario inverso\n",
    "\n",
    "Escribe un programa que dado un diccionario construye su diccionario _inverso_. Por ejemplo, dado el diccionario:\n",
    "\n",
    "| Clave | Valor |\n",
    "|-------|-------|\n",
    "|   1   |  10   |\n",
    "|   2   |  20   |\n",
    "|   3   |  30   |\n",
    "|   6   |  10   |\n",
    "|   8   |  30   |\n",
    "|   9   |  10   |\n",
    "\n",
    "su inverso es el diccionario:\n",
    "\n",
    "| Clave | Valor   |\n",
    "|-------|---------|\n",
    "|  10   | {1,6,9} |\n",
    "|  20   |   {2}   |\n",
    "|  30   |  {3,8}  |\n",
    "\n",
    "Observa que en diccionario inverso claves y valores intercambian sus papeles. Como una clave solo puede tener asociado un valor, en el diccionario inverso los valores son conjuntos (de claves del diccionario general).\n",
    "\n",
    "Para comprobar tu resultado, invierte y expande el diccionario inverso, de manera que vuelvas a obtener el diccionario original."
   ]
  },
  {
   "cell_type": "code",
   "execution_count": null,
   "id": "e595c354",
   "metadata": {},
   "outputs": [],
   "source": []
  }
 ],
 "metadata": {
  "kernelspec": {
   "display_name": "Python 3 (ipykernel)",
   "language": "python",
   "name": "python3"
  },
  "language_info": {
   "codemirror_mode": {
    "name": "ipython",
    "version": 3
   },
   "file_extension": ".py",
   "mimetype": "text/x-python",
   "name": "python",
   "nbconvert_exporter": "python",
   "pygments_lexer": "ipython3",
   "version": "3.11.4"
  }
 },
 "nbformat": 4,
 "nbformat_minor": 5
}
