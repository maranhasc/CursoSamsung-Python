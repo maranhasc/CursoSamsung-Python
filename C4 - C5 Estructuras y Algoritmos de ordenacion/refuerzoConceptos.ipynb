{
 "cells": [
  {
   "cell_type": "markdown",
   "metadata": {},
   "source": [
    "# Refuerzo de conceptos importantes en clases y objetos"
   ]
  },
  {
   "cell_type": "markdown",
   "metadata": {},
   "source": [
    "---\n",
    "## Ámbito de los atributos de una clase"
   ]
  },
  {
   "cell_type": "markdown",
   "metadata": {},
   "source": [
    "Atributos **públicos**: Los atributos de instancia que no tienen ningún prefijo especial se consideran públicos y se pueden acceder desde cualquier parte del código. Se recomienda acceder a los atributos públicos directamente, sin utilizar métodos de acceso. código. Se recomienda acceder a los atributos públicos directamente, sin utilizar métodos de acceso."
   ]
  },
  {
   "cell_type": "code",
   "execution_count": null,
   "metadata": {},
   "outputs": [],
   "source": [
    "class Persona:\n",
    "    def __init__(self, nombre, edad):\n",
    "        self.nombre = nombre\n",
    "        self.edad = edad\n",
    "\n",
    "persona1 = Persona(\"Juan\", 25)\n",
    "print(persona1.nombre)  # Output: Juan\n",
    "print(persona1.edad)    # Output: 25"
   ]
  },
  {
   "cell_type": "markdown",
   "metadata": {},
   "source": [
    "Atributos **protegidos**: Los atributos de instancia que comienzan con un solo guion bajo (_) se consideran protegidos, lo que indica que deberían ser tratados como \"privados\" por convención. Aunque se puede acceder a ellos desde cualquier parte del código, se recomienda no hacerlo directamente y utilizar métodos de acceso para interactuar con ellos."
   ]
  },
  {
   "cell_type": "code",
   "execution_count": null,
   "metadata": {},
   "outputs": [],
   "source": [
    "class Persona:\n",
    "    def __init__(self, nombre, edad):\n",
    "        self._nombre = nombre\n",
    "        self._edad = edad\n",
    "\n",
    "    def obtener_nombre(self):\n",
    "        return self._nombre\n",
    "\n",
    "    def obtener_edad(self):\n",
    "        return self._edad\n",
    "\n",
    "persona1 = Persona(\"Juan\", 25)\n",
    "print(persona1.obtener_nombre())  # Output: Juan\n",
    "print(persona1.obtener_edad())    # Output: 25"
   ]
  },
  {
   "cell_type": "markdown",
   "metadata": {},
   "source": [
    "Atributos **privados**: Los atributos de instancia que comienzan con dos guiones bajos (\\_\\_) se consideran privados y se pretende que sean inaccesibles desde fuera de la clase. \"name mangling\" como acceso alternativo y no adecuado."
   ]
  },
  {
   "cell_type": "code",
   "execution_count": null,
   "metadata": {},
   "outputs": [],
   "source": [
    "class Persona:\n",
    "    def __init__(self, nombre, edad):\n",
    "        self.__nombre = nombre\n",
    "        self.__edad = edad\n",
    "\n",
    "    def obtener_nombre(self):\n",
    "        return self.__nombre\n",
    "\n",
    "    def obtener_edad(self):\n",
    "        return self.__edad\n",
    "\n",
    "persona1 = Persona(\"Juan\", 25)\n",
    "print(persona1.obtener_nombre())  # Output: Juan\n",
    "print(persona1.obtener_edad())    # Output: 25\n",
    "print(persona1.__nombre)          # Error: AttributeError: 'Persona' object has no attribute '__nombre'\n",
    "print(persona1._Persona__nombre)          # Error: AttributeError: 'Persona' object has no attribute '__nombre'"
   ]
  },
  {
   "cell_type": "markdown",
   "metadata": {},
   "source": [
    "## Getters y setters"
   ]
  },
  {
   "cell_type": "code",
   "execution_count": null,
   "metadata": {},
   "outputs": [],
   "source": [
    "class Persona:\n",
    "    def __init__(self, nombre, edad):\n",
    "        self._nombre = nombre\n",
    "        self._edad = edad\n",
    "\n",
    "    # Setter para el atributo \"nombre\"\n",
    "    def set_nombre(self, nombre):\n",
    "        self._nombre = nombre\n",
    "\n",
    "    # Getter para el atributo \"nombre\"\n",
    "    def get_nombre(self):\n",
    "        return self._nombre\n",
    "\n",
    "    # Setter para el atributo \"edad\"\n",
    "    def set_edad(self, edad):\n",
    "        if edad >= 0:\n",
    "            self._edad = edad\n",
    "        else:\n",
    "            print(\"La edad no puede ser un valor negativo.\")\n",
    "\n",
    "    # Getter para el atributo \"edad\"\n",
    "    def get_edad(self):\n",
    "        return self._edad\n",
    "\n",
    "persona1 = Persona(\"Juan\", 25)\n",
    "\n",
    "# Utilizando los setters y getters\n",
    "persona1.set_nombre(\"Pedro\")\n",
    "print(persona1.get_nombre())  # Output: Pedro\n",
    "\n",
    "persona1.set_edad(30)\n",
    "print(persona1.get_edad())    # Output: 30\n",
    "\n",
    "persona1.set_edad(-5)         # Output: La edad no puede ser un valor negativo.\n",
    "print(persona1.get_edad())    # Output: 30 (no se modificó debido a la validación)"
   ]
  },
  {
   "cell_type": "markdown",
   "metadata": {},
   "source": [
    "Una forma más concisa y conveniente de definir los setters y getters utilizando decoradores especiales llamados **@property** y **@\\<atributo>.setter**. Estos decoradores permiten definir los métodos getter y setter directamente en la clase sin necesidad de invocarlos como métodos adicionales."
   ]
  },
  {
   "cell_type": "code",
   "execution_count": null,
   "metadata": {},
   "outputs": [],
   "source": [
    "class Persona:\n",
    "    def __init__(self, nombre, edad):\n",
    "        self.__nombre = nombre\n",
    "        self.__edad = edad\n",
    "\n",
    "    @property\n",
    "    def nombre(self):\n",
    "        return self.__nombre\n",
    "\n",
    "    @nombre.setter\n",
    "    def nombre(self, nombre):\n",
    "        self.__nombre = nombre\n",
    "\n",
    "    @property\n",
    "    def edad(self):\n",
    "        return self.__edad\n",
    "\n",
    "    @edad.setter\n",
    "    def edad(self, edad):\n",
    "        if edad >= 0:\n",
    "            self.__edad = edad\n",
    "        else:\n",
    "            print(\"La edad no puede ser un valor negativo.\")\n",
    "\n",
    "persona1 = Persona(\"Juan\", 25)\n",
    "\n",
    "# Utilizando los setters y getters\n",
    "persona1.nombre = \"Pedro\"\n",
    "print(persona1.nombre)  # Output: Pedro\n",
    "\n",
    "persona1.edad = 30\n",
    "print(persona1.edad)    # Output: 30\n",
    "\n",
    "persona1.__nombre = \"Carlos\"  # No modificará el atributo privado\n",
    "print(persona1.nombre)       # Output: Pedro\n",
    "\n",
    "persona1.edad = -5            # Output: La edad no puede ser un valor negativo.\n",
    "print(persona1.edad)          # Output: 30 (no se modificó debido a la validación)"
   ]
  },
  {
   "cell_type": "markdown",
   "metadata": {},
   "source": [
    "---\n",
    "## Método para representar objetos mediante cadena de caracteres"
   ]
  },
  {
   "cell_type": "markdown",
   "metadata": {},
   "source": [
    "En Python, el método especial **__str__()** se utiliza para definir una representación legible y no ambigua de un objeto. Este método devuelve una cadena de texto que representa al objeto de una manera que puede ser evaluada para recrear el objeto original."
   ]
  },
  {
   "cell_type": "code",
   "execution_count": 2,
   "metadata": {},
   "outputs": [
    {
     "name": "stdout",
     "output_type": "stream",
     "text": [
      "Persona(nombre='Juan', edad=25)\n"
     ]
    }
   ],
   "source": [
    "class Persona:\n",
    "    def __init__(self, nombre, edad):\n",
    "        self.nombre = nombre\n",
    "        self.edad = edad\n",
    "\n",
    "    def __str__(self):\n",
    "        return f\"Persona(nombre='{self.nombre}', edad={self.edad})\"\n",
    "\n",
    "persona1 = Persona(\"Juan\", 25)\n",
    "print(persona1)  # Output: Persona(nombre='Juan', edad=25)"
   ]
  },
  {
   "cell_type": "markdown",
   "metadata": {},
   "source": [
    "El carácter \"f\" antes de la cadena de texto en el return del método \\__str__() se utiliza para crear una cadena de formato o cadena formateada en Python."
   ]
  },
  {
   "cell_type": "markdown",
   "metadata": {},
   "source": [
    "---\n",
    "## Método para comparar dos objetos"
   ]
  },
  {
   "cell_type": "markdown",
   "metadata": {},
   "source": [
    "El método especial **eq()** se utiliza para comparar la igualdad entre dos objetos. Debe devolver True si los objetos son considerados iguales y False en caso contrario. "
   ]
  },
  {
   "cell_type": "code",
   "execution_count": 3,
   "metadata": {},
   "outputs": [],
   "source": [
    "class Persona:\n",
    "    def __init__(self, nombre, edad):\n",
    "        self.nombre = nombre\n",
    "        self.edad = edad\n",
    "\n",
    "    def __eq__(self, other):\n",
    "        if isinstance(other, Persona):\n",
    "            return self.nombre == other.nombre and self.edad == other.edad\n",
    "            salida = self.nombre.lower() == other.nombre.lower()\n",
    "        return salida"
   ]
  },
  {
   "cell_type": "markdown",
   "metadata": {},
   "source": [
    "Comparamos dos objetos de la clase **Persona**:"
   ]
  },
  {
   "cell_type": "code",
   "execution_count": 5,
   "metadata": {},
   "outputs": [
    {
     "name": "stdout",
     "output_type": "stream",
     "text": [
      "Los objetos persona1 y persona2 son iguales.\n",
      "Los objetos persona1 y persona2 no son el mismo objeto.\n",
      "Los objetos persona1 y persona3 son el mismo objeto\n",
      "2275973083536 2275973085888 2275973083536\n"
     ]
    }
   ],
   "source": [
    "persona1 = Persona(\"Juan\", 25)\n",
    "persona2 = Persona(\"Juan\", 25)\n",
    "persona3 = persona1\n",
    "\n",
    "# Comparamos los objetos utilizando el operador de igualdad (==)\n",
    "if persona1 == persona2:\n",
    "    print(\"Los objetos persona1 y persona2 son iguales.\")\n",
    "else:\n",
    "    print(\"Los objetos persona1 y persona2 son diferentes.\")\n",
    "    \n",
    "# Comparamos los objetos utilizando \"is\" para saber si es mismo objeto\n",
    "if persona1 is persona2:\n",
    "    print(\"Los objetos persona1 y persona2 son el mismo objeto\")\n",
    "else:\n",
    "    print(\"Los objetos persona1 y persona2 no son el mismo objeto.\")\n",
    "\n",
    "    \n",
    "# Comparamos los objetos utilizando \"is\" para saber si es mismo objeto\n",
    "if persona1 is persona3:\n",
    "    print(\"Los objetos persona1 y persona3 son el mismo objeto\")\n",
    "else:\n",
    "    print(\"Los objetos persona1 y persona3 no son el mismo objeto.\")\n",
    "\n",
    "# Mostramos los ids    \n",
    "print(id(persona1), id(persona2), id(persona3))    \n",
    "    "
   ]
  }
 ],
 "metadata": {
  "kernelspec": {
   "display_name": "Python 3 (ipykernel)",
   "language": "python",
   "name": "python3"
  },
  "language_info": {
   "codemirror_mode": {
    "name": "ipython",
    "version": 3
   },
   "file_extension": ".py",
   "mimetype": "text/x-python",
   "name": "python",
   "nbconvert_exporter": "python",
   "pygments_lexer": "ipython3",
   "version": "3.10.9"
  }
 },
 "nbformat": 4,
 "nbformat_minor": 2
}
