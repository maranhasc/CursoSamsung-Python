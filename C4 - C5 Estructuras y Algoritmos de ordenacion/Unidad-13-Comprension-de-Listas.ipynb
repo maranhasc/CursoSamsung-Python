{
 "cells": [
  {
   "cell_type": "markdown",
   "id": "f0b0a293",
   "metadata": {},
   "source": [
    "# Unidad 13 - Comprensión de Listas\n",
    "\n",
    "La Unidad 13 trata sobre listas anidadas. Mencionamos las listas anidadas en el tema de listas (Unidad 11), donde aclaramos que las matrices del módulo `numpy` son preferibles a las listas anidadas.\n",
    "\n",
    "Sin embargo, la Unidad 13 introduce un concepto interesante: la comprensión de listas.\n",
    "\n",
    "\n",
    "Considera el siguiente bucle `for` sobre listas para calcular el doble de cada elemento de una lista:"
   ]
  },
  {
   "cell_type": "code",
   "execution_count": null,
   "id": "e917afed",
   "metadata": {},
   "outputs": [],
   "source": [
    "lst = list(range(10))\n",
    "\n",
    "print(lst)\n",
    "\n",
    "dobles = []\n",
    "for x in lst:\n",
    "    dobles.append(2 * x)\n",
    "    \n",
    "dobles"
   ]
  },
  {
   "cell_type": "markdown",
   "id": "ffa19d20",
   "metadata": {},
   "source": [
    "El siguiente bucle `for` sobre listas calcula el cuadrado de cada elemento de una lista:"
   ]
  },
  {
   "cell_type": "code",
   "execution_count": null,
   "id": "1ba51daf",
   "metadata": {},
   "outputs": [],
   "source": [
    "print(lst)\n",
    "\n",
    "cuadrados = []\n",
    "for x in lst:\n",
    "    cuadrados.append(x ** 2)\n",
    "    \n",
    "cuadrados"
   ]
  },
  {
   "cell_type": "markdown",
   "id": "1551425a",
   "metadata": {},
   "source": [
    "Finalmente, el siguente bucle `for` sobre listas para a mayúsculas todas las cadenas de una lista:"
   ]
  },
  {
   "cell_type": "code",
   "execution_count": null,
   "id": "9b0e0cbb",
   "metadata": {},
   "outputs": [],
   "source": [
    "colores = [\"rojo\", \"verde\", \"azul\"]\n",
    "\n",
    "print(colores)\n",
    "\n",
    "mayusculas = []\n",
    "for color in colores:\n",
    "    mayusculas.append(color.upper())\n",
    "    \n",
    "mayusculas"
   ]
  },
  {
   "cell_type": "markdown",
   "id": "1ae2ca09",
   "metadata": {},
   "source": [
    "Todos los bucles `for` anteriores siguen el mismo esquema:\n",
    "\n",
    "```python\n",
    "resultado = []\n",
    "for elemento in fuente_de_datos:\n",
    "    resultado.append(transforma(elemento))\n",
    "```\n",
    "\n",
    "Este bucle opera de siguiente forma: dada una `fuente_de_datos` de $n$ elementos, construye una lista `resultado` de $n$ elementos, donde cada elemento de `resultado` se obtiene al aplicar la función `transforma` al correspondiente elemento de `fuente_de_datos`:\n",
    "\n",
    "|                   |       |       |     |       |\n",
    "|-------------------|:-----:|:-----:|:---:|:-----:|\n",
    "| `fuente_de_datos` | $x_1$ | $x_2$ | ... | $x_n$ |\n",
    "| `resultado`       | $\\mathtt{transforma}(x_1)$ | $\\mathtt{transforma}(x_1)$ | ... | $\\mathtt{transforma}(x_1)$ |\n",
    "\n",
    "Este esquema es tan habitual que Python permite escribirlo más brevemente mediante una **comprensión de listas**: \n",
    "\n",
    "```python\n",
    "    [  transforma(elemento)  for elemento in fuente_de_datos ]\n",
    "```\n",
    "\n",
    "La expresión anterior genera una lista equivalente a la que obtendríamos con el correspondiente bucle `for`. Por ejemplo, podemos escribir los ejemplo anteriores como sigue:"
   ]
  },
  {
   "cell_type": "code",
   "execution_count": null,
   "id": "034fe0a5",
   "metadata": {},
   "outputs": [],
   "source": [
    "[ 2 * x for x in lst ]"
   ]
  },
  {
   "cell_type": "code",
   "execution_count": null,
   "id": "3e3b7ac0",
   "metadata": {},
   "outputs": [],
   "source": [
    "[ x ** 2 for x in lst ]"
   ]
  },
  {
   "cell_type": "code",
   "execution_count": null,
   "id": "9ec8c058",
   "metadata": {},
   "outputs": [],
   "source": [
    "[ color.upper() for color in colores ]"
   ]
  },
  {
   "cell_type": "markdown",
   "id": "49235846",
   "metadata": {},
   "source": [
    "Considera ahora el siguiente bucle `for` que calcula el cuadrado de los elementos paresde una lista:"
   ]
  },
  {
   "cell_type": "code",
   "execution_count": null,
   "id": "c4c9d171",
   "metadata": {},
   "outputs": [],
   "source": [
    "print(lst)\n",
    "\n",
    "cuadrados_pares = []\n",
    "for x in lst:\n",
    "    if x % 2 == 0:\n",
    "        cuadrados_pares.append(x ** 2)\n",
    "    \n",
    "cuadrados_pares"
   ]
  },
  {
   "cell_type": "markdown",
   "id": "d06e7ac8",
   "metadata": {},
   "source": [
    "El bucle es similar a los anteriores, excepto que la lista de salida que genera puede tener menos elementos que la fuente de entrada. El esquema es el siguiente:\n",
    "\n",
    "```python\n",
    "resultado = []\n",
    "for elemento in fuente_de_datos:\n",
    "    if condición(elemento): # solo se añaden los elementos que satisfacen la condición\n",
    "        resultado.append(transforma(elemento))\n",
    "```\n",
    "\n",
    "Este bucle opera de siguiente forma: dada una `fuente_de_datos` de $n$ elementos, construye una lista `resultado` de $m$ elementos con $m \\le n$, donde cada elemento de `resultado` se obtiene al aplicar la función `transforma` al correspondiente elemento de `fuente_de_datos`, solo si tal elemento satisface `condición(elemento)`:\n",
    "\n",
    "Este esquema es tan habitual que Python permite escribirlo más brevemente mediante una **comprensión de listas**:\n",
    "\n",
    "```python\n",
    "    [  transforma(elemento)  for elemento in fuente_de_datos if condición(elemento) ]\n",
    "```\n"
   ]
  },
  {
   "cell_type": "code",
   "execution_count": null,
   "id": "d563f9bc",
   "metadata": {},
   "outputs": [],
   "source": [
    "[ x ** 2 for x in lst if x % 2 == 0 ]"
   ]
  }
 ],
 "metadata": {
  "kernelspec": {
   "display_name": "Python 3 (ipykernel)",
   "language": "python",
   "name": "python3"
  },
  "language_info": {
   "codemirror_mode": {
    "name": "ipython",
    "version": 3
   },
   "file_extension": ".py",
   "mimetype": "text/x-python",
   "name": "python",
   "nbconvert_exporter": "python",
   "pygments_lexer": "ipython3",
   "version": "3.10.9"
  }
 },
 "nbformat": 4,
 "nbformat_minor": 5
}
