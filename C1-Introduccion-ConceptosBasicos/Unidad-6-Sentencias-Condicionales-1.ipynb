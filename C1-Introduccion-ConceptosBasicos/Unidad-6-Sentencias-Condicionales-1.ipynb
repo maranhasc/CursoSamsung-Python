{
 "cells": [
  {
   "cell_type": "markdown",
   "id": "64172cb4",
   "metadata": {},
   "source": [
    "# Unidad 6 - Sentencias Condicionales - I"
   ]
  },
  {
   "cell_type": "markdown",
   "id": "9c987846",
   "metadata": {},
   "source": [
    "## Razones para usar sentencias condicionales\n",
    "\n",
    "Algunas sentencias solo se ejecutan si se satisfacen ciertas condiciones, por ejemplo:\n",
    "- solo se se aplica descuento de carnet joven si tienes menos de 20 años\n",
    "- has conseguido el objetivo si has andado al menos 10000 pasos\n",
    "\n",
    "Para especificar estas situaciones en Python usamos la sentencia `if`:"
   ]
  },
  {
   "cell_type": "code",
   "execution_count": null,
   "id": "6e528341",
   "metadata": {},
   "outputs": [],
   "source": [
    "age = 17\n",
    "\n",
    "if age < 20:\n",
    "    print(\"tienes derecho al descuento por carnet joven\")\n",
    "\n",
    "\n",
    "print(\"fin de programa\")"
   ]
  },
  {
   "cell_type": "markdown",
   "id": "4cdc6691",
   "metadata": {},
   "source": [
    "La parte condicional que aparece tras los dos puntos `:` es un **bloque** y puede estar formada por más de una sentencia:\n",
    "- todas las sentencias que forman el bloque deben estar sangradas al mismo nivel\n",
    "- La recomendación de estilo PEP8 es que los bloques se sangren 4 espacios\n",
    "- Al sangrar debemos utilizar espacios, nunca tabuladores\n",
    "- El bloque termina cuando aparece una sentencia que está sangrada a un nivel igual o inferior al `if`"
   ]
  },
  {
   "cell_type": "code",
   "execution_count": null,
   "id": "f4e97839",
   "metadata": {},
   "outputs": [],
   "source": [
    "number_of_steps = int(input(\"número de pasos: \"))\n",
    "\n",
    "if number_of_steps > 10000:\n",
    "    print(\"Enhorabuena\")           # bloque con dos sentencias\n",
    "    print(\"objetivo conseguido\")\n",
    "    \n",
    "print(\"fin de programa\")           # fin de bloque: print está sangrado al mismo nivel que if"
   ]
  },
  {
   "cell_type": "markdown",
   "id": "0967211a",
   "metadata": {},
   "source": [
    "Un bloque puede estar formado por varias líneas y contener líneas en blanco. Por ejemplo, podemos:\n",
    "- imprimir un saludo de bienvenida\n",
    "- indicar que aplicará el descuento de carnet joven\n",
    "- mostar el número de años que quedan para disfrutar del descuento"
   ]
  },
  {
   "cell_type": "code",
   "execution_count": null,
   "id": "5301183f",
   "metadata": {},
   "outputs": [],
   "source": [
    "age = int(input(\"edad: \"))\n",
    "\n",
    "if age < 20:\n",
    "    \n",
    "    print(\"Bienvenido, joven\")\n",
    "    print(\"se te aplicará descuento de carnet joven\")\n",
    "    \n",
    "    # al razonar aquí, puedo usar que age < 20\n",
    "    quedan = 20 - age  # es imposible que la variable quedan tome un valor igual o menor que cero\n",
    "    print(\"te quedan\", quedan, \"años, aprovéchalos\")\n",
    "    \n",
    "print(\"fin de programa\")\n"
   ]
  },
  {
   "cell_type": "markdown",
   "id": "798b7f25",
   "metadata": {},
   "source": [
    "Los bloques deben estar convenientemente sangrados, de lo contrario Python protesta:"
   ]
  },
  {
   "cell_type": "code",
   "execution_count": null,
   "id": "e2d409bd",
   "metadata": {},
   "outputs": [],
   "source": [
    "# Este código no funciona porque está mal sangrado\n",
    "\n",
    "age = 17\n",
    "\n",
    "if age < 20:\n",
    "    print(\"tienes derecho al descuento por carnet joven\")\n",
    "   youth_discount = True\n",
    "\n",
    "print(\"fin de programa\", youth_discount)"
   ]
  },
  {
   "cell_type": "markdown",
   "id": "a215ffbf",
   "metadata": {},
   "source": [
    "Hay que tener cuidado al crear variables en la parte condicional:"
   ]
  },
  {
   "cell_type": "code",
   "execution_count": null,
   "id": "1601a837",
   "metadata": {},
   "outputs": [],
   "source": [
    "age = 17\n",
    "\n",
    "if age < 20:\n",
    "    print(\"tienes derecho al descuento por carnet joven\")\n",
    "    youth_discount = True # peligro: creación condicional de variable\n",
    "\n",
    "print(\"fin de programa\", youth_discount)  # youth_discount solo existe si se ejecuta la parte condicional"
   ]
  },
  {
   "cell_type": "markdown",
   "id": "32905552",
   "metadata": {},
   "source": [
    "## Ejemplos\n",
    "\n",
    "- imprimir un mensaje si un entero leido por teclado es múltiplo de 3\n",
    "- imprimir un mensaje si un entero leido por teclado es múltiplo de 3 y de 5\n",
    "- imprimir un mensaje de bienvenida a un usuario si el identificador de _login_ es correcto\n",
    "- imprimir un mensaje si un número entero por teclado es par\n"
   ]
  },
  {
   "cell_type": "code",
   "execution_count": null,
   "id": "c7a4c032",
   "metadata": {},
   "outputs": [],
   "source": [
    "n = int(input(\"dame un entero: \"))\n",
    "\n",
    "if n % 3 == 0:\n",
    "    print(n, \"es múltiplo de 3\")"
   ]
  },
  {
   "cell_type": "code",
   "execution_count": null,
   "id": "86225121",
   "metadata": {},
   "outputs": [],
   "source": [
    "n = int(input(\"dame un entero: \"))\n",
    "\n",
    "if n % 3 == 0 and n % 5 == 0:\n",
    "    print(n, \"es múltiplo de 3 y de 5\")"
   ]
  },
  {
   "cell_type": "code",
   "execution_count": null,
   "id": "aa654f71",
   "metadata": {},
   "outputs": [],
   "source": [
    "entered_login = input(\"login: \")\n",
    "\n",
    "correct_login = \"lisette\"\n",
    "\n",
    "if entered_login == correct_login:\n",
    "    print(\"Welcome,\", correct_login)"
   ]
  },
  {
   "cell_type": "code",
   "execution_count": null,
   "id": "0c4c119e",
   "metadata": {},
   "outputs": [],
   "source": [
    "n = int(input(\"dame un entero: \"))\n",
    "\n",
    "if n % 2 == 0:\n",
    "    print(n, \"es un número par\")"
   ]
  },
  {
   "cell_type": "markdown",
   "id": "27810e42",
   "metadata": {},
   "source": [
    "## Casos especiales\n",
    "- A veces aparecen dos pasos consecutivos excluyentes\n",
    "- A veces no queremos hacer **nada** si la condición se cumple (el bloque está vacío)"
   ]
  },
  {
   "cell_type": "code",
   "execution_count": null,
   "id": "1bc4a929",
   "metadata": {},
   "outputs": [],
   "source": [
    "n = int(input(\"dame un entero: \"))\n",
    "\n",
    "if n % 2 == 0:\n",
    "    print(n, \"es un número par\")\n",
    "\n",
    "if n % 2 != 0:\n",
    "    print(n, \"es un número impar\")"
   ]
  },
  {
   "cell_type": "code",
   "execution_count": null,
   "id": "37cb5a79",
   "metadata": {},
   "outputs": [],
   "source": [
    "n = int(input(\"dame un entero: \"))\n",
    "\n",
    "if n == 0:\n",
    "    pass   # bloque vacío\n",
    "    \n",
    "\n",
    "print(\"fin de programa\")"
   ]
  },
  {
   "cell_type": "markdown",
   "id": "81ca8f04",
   "metadata": {},
   "source": [
    "## El método `split()`\n",
    "\n",
    "- Hasta ahora solo hemos utilizado funciones como `print()`o `input()`:"
   ]
  },
  {
   "cell_type": "code",
   "execution_count": null,
   "id": "d7af0c3e",
   "metadata": {},
   "outputs": [],
   "source": [
    "print(\"Hola, soy Python.\")\n",
    "nombre = input(\"¿cómo te llamas? \")\n",
    "print(\"Encantado,\", nombre)"
   ]
  },
  {
   "cell_type": "markdown",
   "id": "a0256820",
   "metadata": {},
   "source": [
    "- En Python también se pueden usar **métodos**. Son _similares_ a las funciones, pero se usan de forma distinta.\n",
    "- Por ejemplo `nombre.upper()` se aplica a la cadena `nombre` y devuelve la cadena convertida a mayúsculas.\n",
    "- Observa que la sintaxis es `nombre.upper()`; no `upper(nombre)`\n",
    "- Un método es similar a la función, pero el valor al que se aplica no aparece entre paréntesis; aparece antes del nombre del método, separado de este por un punto:\n",
    "\n",
    "|           | Sintaxis          | Ejemplo        |\n",
    "|-----------|-------------------|----------------|\n",
    "**Función** | nombre(expresion) | `print(2 * 3)` |\n",
    "**Método**  | variable.nombre() | `\"hi\".upper()` |\n",
    "\n",
    "**Nota:** Lo que llamamos método es un realmente un _mensaje_. Los veremos al estudiar clases y objetos."
   ]
  },
  {
   "cell_type": "code",
   "execution_count": null,
   "id": "3b10f37f",
   "metadata": {},
   "outputs": [],
   "source": [
    "nombre.upper()"
   ]
  },
  {
   "cell_type": "markdown",
   "id": "37f6165b",
   "metadata": {},
   "source": [
    "El valor de la variable `nombre` no se modifica al aplicar el método `upper()`:"
   ]
  },
  {
   "cell_type": "code",
   "execution_count": null,
   "id": "612d0707",
   "metadata": {},
   "outputs": [],
   "source": [
    "nombre"
   ]
  },
  {
   "cell_type": "markdown",
   "id": "26ff6fcc",
   "metadata": {},
   "source": [
    "El método `split()` separa una cadena en varias cadenas, usando blancos como separadores:"
   ]
  },
  {
   "cell_type": "code",
   "execution_count": null,
   "id": "97944dd3",
   "metadata": {},
   "outputs": [],
   "source": [
    "cadena = \"    hola   que \\t  tal    soy    \\t  python    \"\n",
    "cadena.split()"
   ]
  },
  {
   "cell_type": "markdown",
   "id": "b8563b3a",
   "metadata": {},
   "source": [
    "También se puede indicar entre paréntesis qué carácter queremos usar como separador:"
   ]
  },
  {
   "cell_type": "code",
   "execution_count": null,
   "id": "e5b3b792",
   "metadata": {},
   "outputs": [],
   "source": [
    "otra_cadena = \"312,34,-18.43\"\n",
    "otra_cadena.split(\",\")"
   ]
  },
  {
   "cell_type": "markdown",
   "id": "4197a8bb",
   "metadata": {},
   "source": [
    "El método `split()` se suele usar con la función `input()` para leer varios datos por teclado con un solo `imput()`:"
   ]
  },
  {
   "cell_type": "code",
   "execution_count": null,
   "id": "20d8f453",
   "metadata": {},
   "outputs": [],
   "source": [
    "a, b, c = input(\"dame tres números, separados por comas: \").split(\",\")\n",
    "print(type(a))\n",
    "print(a,b,c)\n",
    "a, b, c = int(a), int(b), int(c)\n",
    "print(type(a))\n",
    "print(a,b,c)"
   ]
  },
  {
   "cell_type": "markdown",
   "id": "3fa68ec5",
   "metadata": {},
   "source": [
    "El ejemplo anterior utiliza una asignación simuñtánea:"
   ]
  },
  {
   "cell_type": "code",
   "execution_count": null,
   "id": "44b41731",
   "metadata": {},
   "outputs": [],
   "source": [
    "x, y, z= 1, 2 ,3"
   ]
  },
  {
   "cell_type": "markdown",
   "id": "e0c07317",
   "metadata": {},
   "source": [
    "## Solución del primer ejercicio de paper coding (344)"
   ]
  },
  {
   "cell_type": "code",
   "execution_count": null,
   "id": "1fec9f35",
   "metadata": {},
   "outputs": [],
   "source": [
    "puntuacion = int(input(\"pon tu puntuación \"))\n",
    "\n",
    "if puntuacion > 1000:\n",
    "    print(\"You're a master\")"
   ]
  },
  {
   "cell_type": "markdown",
   "id": "ec46cdb4",
   "metadata": {},
   "source": [
    "## Solución del segundo ejercicio de paper coding (345)"
   ]
  },
  {
   "cell_type": "code",
   "execution_count": null,
   "id": "0dd2ebd2",
   "metadata": {},
   "outputs": [],
   "source": [
    "x = int(input(\"Introduce un número entre -100 y 100 para saber si es natural: \"))\n",
    "\n",
    "if x >= 0:\n",
    "    print(\"Es un numero natural\")"
   ]
  },
  {
   "cell_type": "code",
   "execution_count": null,
   "id": "3f5d3e0d",
   "metadata": {},
   "outputs": [],
   "source": [
    "# otra solución\n",
    "\n",
    "n = int(input(\"Introduce un número entre -100 y 100 para saber si es natural: \"))\n",
    "\n",
    "if n >= 0:\n",
    "    print(n, \"es natural\")\n",
    "\n",
    "if n < 0:\n",
    "    print(n, \"no es natural\")"
   ]
  },
  {
   "cell_type": "markdown",
   "id": "8dd4d997",
   "metadata": {},
   "source": [
    "## Solución del primer ejercicio de pair programming (358)"
   ]
  },
  {
   "cell_type": "code",
   "execution_count": null,
   "id": "2af120aa",
   "metadata": {},
   "outputs": [],
   "source": [
    "age = int(input(\"Introduce tu edad: \"))\n",
    "\n",
    "if age >= 20: \n",
    "    print(\"Adult\")\n",
    "\n",
    "if age < 20 and age >= 10:\n",
    "    print(\"Youth\")\n",
    "\n",
    "if age < 10:\n",
    "    print(\"Kid\")\n"
   ]
  },
  {
   "cell_type": "markdown",
   "id": "e5ec1648",
   "metadata": {},
   "source": [
    "## Solución del segundo ejercicio de pair programming (359)"
   ]
  },
  {
   "cell_type": "code",
   "execution_count": null,
   "id": "f912d2e4",
   "metadata": {},
   "outputs": [],
   "source": [
    "edad = int(input(\"Ponga su edad: \"))\n",
    "\n",
    "altura_cm = int(input(\"Ponga su altura en cm: \"))\n",
    "\n",
    "if edad >= 14 or altura_cm > 150:  # alguna de las condiciones\n",
    "    print(\"Puedes montarte en la atracción.\")"
   ]
  },
  {
   "cell_type": "code",
   "execution_count": null,
   "id": "ff7bdcb2",
   "metadata": {},
   "outputs": [],
   "source": [
    "edad = int(input(\"Ponga su edad: \"))\n",
    "\n",
    "altura_cm = int(input(\"Ponga su altura en cm: \"))\n",
    "\n",
    "if edad >= 14 and altura_cm > 150: # todas las condiciones\n",
    "    print(\"Puedes montarte en la atracción.\")"
   ]
  },
  {
   "cell_type": "code",
   "execution_count": null,
   "id": "fa4f641f",
   "metadata": {},
   "outputs": [],
   "source": [
    "edad = int(input(\"Ponga su edad: \"))\n",
    "\n",
    "altura_cm = int(input(\"Ponga su altura en cm: \"))\n",
    "\n",
    "if edad >= 14 and altura_cm > 150: # una condición\n",
    "    print(\"Puedes montarte en la atracción.\")\n",
    "    \n",
    "if not (edad >= 14 and altura_cm > 150): # la contraria mediante not\n",
    "    print(\"Lo siento, no puedes montarte en la atracción.\")"
   ]
  },
  {
   "cell_type": "code",
   "execution_count": null,
   "id": "6e08044b",
   "metadata": {},
   "outputs": [],
   "source": [
    "edad = int(input(\"Ponga su edad: \"))\n",
    "\n",
    "altura_cm = int(input(\"Ponga su altura en cm: \"))\n",
    "\n",
    "if edad >= 14 and altura_cm > 150: # una condición\n",
    "    print(\"Puedes montarte en la atracción.\")\n",
    "    \n",
    "if edad < 14 or altura_cm <= 150:  # la contraria, explicitamente\n",
    "    print(\"Lo siento, no puedes montarte en la atracción.\")\n"
   ]
  },
  {
   "cell_type": "markdown",
   "id": "9bdd3a27",
   "metadata": {},
   "source": [
    "## Solución del mission problem (306)"
   ]
  },
  {
   "cell_type": "code",
   "execution_count": null,
   "id": "84dce0c4",
   "metadata": {},
   "outputs": [],
   "source": [
    "a, b, c = input(\"dame tres números, separados por comas: \").split(\",\")\n",
    "a, b, c = int(a), int(b), int(c)\n",
    "\n",
    "num1, num2, num3 = 2, 3, 9\n",
    "\n",
    "# num1, num2, num3\n",
    "# num1, num3, num2\n",
    "# ...\n",
    "# ... 6 ordenaciones posibles\n",
    "\n",
    "# comparamos a,b,c con cada una de las 6 ordenaciones posibles\n",
    "\n",
    "if a == num1 and b == num2 and c == num3:\n",
    "    print(\"you win\")\n",
    "\n",
    "if a == num1 and b == num3 and c == num2:\n",
    "    print(\"you win\")\n",
    "\n",
    "if a == num2 and b == num1 and c == num3:\n",
    "    print(\"you win\")\n",
    "\n",
    "if a == num2 and b == num3 and c == num1:\n",
    "    print(\"you win\")\n",
    "\n",
    "if a == num3 and b == num2 and c == num1:\n",
    "    print(\"you win\")\n",
    "\n",
    "if a == num3 and b == num1 and c == num2:\n",
    "    print(\"you win\")"
   ]
  },
  {
   "cell_type": "code",
   "execution_count": null,
   "id": "578ca167",
   "metadata": {},
   "outputs": [],
   "source": [
    "a,b,c = input(\"pon tres números separados con coma: \").split(\",\")\n",
    "\n",
    "a,b,c = int(a), int(b), int(c)\n",
    "\n",
    "n_1 = 2\n",
    "n_2 = 3\n",
    "n_3 = 9\n",
    "\n",
    "num_aciertos = 0\n",
    "\n",
    "\n",
    "if a == n_1 or a == n_2 or a == n_3:\n",
    "    num_aciertos += 1\n",
    "    # print(num_aciertos)\n",
    "        \n",
    "if b == n_1 or b == n_2 or b == n_3:\n",
    "    num_aciertos += 1\n",
    "    # print(num_aciertos)\n",
    "\n",
    "if c == n_1 or c == n_2 or c == n_3:\n",
    "    num_aciertos += 1\n",
    "    # print(num_aciertos)\n",
    "    \n",
    "if num_aciertos == 3:\n",
    "    print(\"you win\")"
   ]
  }
 ],
 "metadata": {
  "kernelspec": {
   "display_name": "Python 3 (ipykernel)",
   "language": "python",
   "name": "python3"
  },
  "language_info": {
   "codemirror_mode": {
    "name": "ipython",
    "version": 3
   },
   "file_extension": ".py",
   "mimetype": "text/x-python",
   "name": "python",
   "nbconvert_exporter": "python",
   "pygments_lexer": "ipython3",
   "version": "3.11.3"
  }
 },
 "nbformat": 4,
 "nbformat_minor": 5
}
