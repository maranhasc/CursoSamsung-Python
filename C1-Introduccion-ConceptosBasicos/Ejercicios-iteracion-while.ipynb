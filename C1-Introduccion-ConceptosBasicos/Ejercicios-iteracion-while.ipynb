{
 "cells": [
  {
   "cell_type": "markdown",
   "id": "acfb8132",
   "metadata": {},
   "source": [
    "# Ejercicios básicos de Python - Iteración indefinida (bucle `while`)"
   ]
  },
  {
   "cell_type": "markdown",
   "id": "b63ac144",
   "metadata": {},
   "source": [
    "## Suma de las cifras de un número\n",
    "\n",
    "Escribe un programa que sume las cifras de un número. Por ejemplo, para $5127$ debe devolver $15$, ya que $5 + 1 + 2  +7 = 15$."
   ]
  },
  {
   "cell_type": "code",
   "execution_count": null,
   "id": "d47d5974",
   "metadata": {},
   "outputs": [],
   "source": []
  },
  {
   "cell_type": "markdown",
   "id": "2a95e335",
   "metadata": {},
   "source": [
    "## Cambio de base a binario\n",
    "\n",
    "Escribe un programa que dado un entero en notación decimal escriba en pantalla su representación en binario."
   ]
  },
  {
   "cell_type": "code",
   "execution_count": null,
   "id": "e866727b",
   "metadata": {},
   "outputs": [],
   "source": []
  },
  {
   "cell_type": "markdown",
   "id": "3233fd71",
   "metadata": {},
   "source": [
    "## Cambio de base a decimal\n",
    "\n",
    "Escribe un programa que dado un entero en binario lo pase a decimal, escribiendo su representación en pantalla."
   ]
  },
  {
   "cell_type": "code",
   "execution_count": null,
   "id": "5ff5eae7",
   "metadata": {},
   "outputs": [],
   "source": []
  },
  {
   "cell_type": "markdown",
   "id": "d791adf4",
   "metadata": {},
   "source": [
    "## Fizz Buzz\n",
    "\n",
    "Fizz Buzz es un juego para enseñar a los niños a dividir mentalmente. En clase los niños van contando por turnos desde 1 (o desde otro número inicial). Si el número que le toca en su turno es divisible por 3, el niño debe decir **Fizz**; si es divisible por 5, debe decir **Buzz**; si es divisible por 3 y por 5, debe decir **Fizz Buzz**; si no es divisible ni por 3 ni por 5, debe decir el número que le toque. Por ejemplo, la secuencia para los números desde el 1 hasta el 36 es la siguiente: \n",
    "\n",
    "```\n",
    "1, 2, Fizz, 4, Buzz, Fizz, 7, 8, Fizz, Buzz, 11, Fizz, 13, 14, Fizz Buzz, 16, 17, Fizz, 19, Buzz, Fizz, 22, 23, Fizz, Buzz, 26, Fizz, 28, 29, Fizz Buzz, 31, 32, Fizz, 34, Buzz, Fizz, ...\n",
    "```\n",
    "\n",
    "Escribe un programa  que ayude a los niños a contar desde un número inicial dado hasta que hayan dicho un número de veces **Fizz**, **Buzz** o **FIzz Buzz**."
   ]
  },
  {
   "cell_type": "code",
   "execution_count": null,
   "id": "cca90da4",
   "metadata": {},
   "outputs": [],
   "source": []
  },
  {
   "cell_type": "markdown",
   "id": "7ace9c72",
   "metadata": {},
   "source": [
    "## Multiplicación rusa\n",
    "\n",
    "Escribe un programa que multiplique dos números naturales mediante el algoritmo de la multiplicación rusa. Este algoritmo multiplica repetitivamente por dos el multiplicando y divide por dos el multiplicador, hasta que el multiplicador toma el valor 1. La suma todos los multiplicandos correspondientes a multiplicadores impares es el producto de los números originales.\n",
    "Por ejemplo: $37 \\times 12 = 12 + 48 + 384 = 444$, como se observa en la siguiente tabla:\n",
    "\n",
    "| Multiplicador | Multiplicando |\n",
    "| ------------- | ------------- |\n",
    "|      37       |    **12**     |\n",
    "|      18       |      24       |\n",
    "|       9       |    **48**     |\n",
    "|       4       |      96       |\n",
    "|       2       |     192       |\n",
    "|       1       |   **384**     |\n",
    "\n"
   ]
  },
  {
   "cell_type": "code",
   "execution_count": null,
   "id": "dd8d10c3",
   "metadata": {},
   "outputs": [],
   "source": []
  }
 ],
 "metadata": {
  "kernelspec": {
   "display_name": "Python 3 (ipykernel)",
   "language": "python",
   "name": "python3"
  },
  "language_info": {
   "codemirror_mode": {
    "name": "ipython",
    "version": 3
   },
   "file_extension": ".py",
   "mimetype": "text/x-python",
   "name": "python",
   "nbconvert_exporter": "python",
   "pygments_lexer": "ipython3",
   "version": "3.11.3"
  }
 },
 "nbformat": 4,
 "nbformat_minor": 5
}
