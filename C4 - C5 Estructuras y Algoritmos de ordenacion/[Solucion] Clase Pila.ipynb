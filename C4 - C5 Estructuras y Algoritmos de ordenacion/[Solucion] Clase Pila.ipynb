{
 "cells": [
  {
   "cell_type": "markdown",
   "id": "2d07e893",
   "metadata": {},
   "source": [
    "# Clase pila"
   ]
  },
  {
   "cell_type": "markdown",
   "id": "9d9cb108",
   "metadata": {},
   "source": [
    "### La clase `Pila`\n",
    "\n",
    "La clase `Pila`representará una estructura FIFO para almacenar elementos. Como atributo tiene una lista con visibilidad privada para almacenar los datos. Será necesario definir lo siguiente:\n",
    "\n",
    "~~~ {.py}\n",
    "▶ def __init__(self,...)\n",
    "~~~\n",
    "> Construye un objeto `Pila`. No recibe ningún parámetro. Inicializa la lista a vacía.\n",
    "\n",
    "~~~ {.py}\n",
    "▶ def is_empty(self)\n",
    "~~~\n",
    "\n",
    "> Devuelve un booleano indicando si la pila está vacía o no\n",
    "\n",
    "~~~ {.py}\n",
    "▶ def push(self,...)\n",
    "~~~\n",
    "\n",
    "> Añade un elemento a la pila. \n",
    "\n",
    "~~~ {.py}\n",
    "▶ def pop(self)\n",
    "~~~\n",
    "\n",
    "> Si la lista no está vacía, devuelve el último elemento añadido a la lista. Si está vacía, eleva una excepción indicando el mensaje \"Pila vacía\".\n",
    "\n",
    "~~~ {.py}\n",
    "▶ def __size__(self)\n",
    "~~~\n",
    "\n",
    "> Devuelve el número de elementos de la pila. \n",
    "\n",
    "~~~ {.py}\n",
    "▶ def __str__(self)\n",
    "~~~\n",
    "\n",
    "> Devuelve una cadena que represente a la pila. Será necesario recorrer la lista privada que almacena los elementos  y añadirlo a la cadena de salida.\n",
    "\n",
    "~~~ {.py}\n",
    "▶ def __eq__(self,other)\n",
    "~~~\n",
    "\n",
    "> Compara la pila actual (self) con la pila recibida como parámetro (other). Dos pilas serán iguales si son del mismo tamaño y tienen los elementos iguales en el mismo orden.\n"
   ]
  },
  {
   "cell_type": "code",
   "execution_count": 19,
   "id": "787520f2",
   "metadata": {},
   "outputs": [],
   "source": [
    "# Define la clase Pila   \n",
    "\n",
    "class Pila:\n",
    "    def __init__(self):\n",
    "        self.__items = []\n",
    "\n",
    "    def is_empty(self):\n",
    "        return len(self.__items) == 0\n",
    "\n",
    "    def push(self, item):\n",
    "        self.__items.append(item)\n",
    "\n",
    "    def pop(self):\n",
    "        if not self.is_empty():\n",
    "            return self.__items.pop()\n",
    "        else:\n",
    "            raise IndexError(\"La pila está vacía\")\n",
    "            \n",
    "    def size(self):\n",
    "        return len(self.__items)\n",
    "    \n",
    "    def __str__(self):\n",
    "        cad = \"[\"\n",
    "        for l in self.__items:\n",
    "            cad += str(l) + \", \"\n",
    "        cad = cad[:-2] + \"]\"\n",
    "        return cad\n",
    "    \n",
    "    def __eq__(self, other):\n",
    "        salida = False\n",
    "        if isinstance(other, Pila):\n",
    "            if (self.size() == other.size() and self.__items == other.__items):\n",
    "                salida = True\n",
    "        return salida\n",
    "    \n",
    "    "
   ]
  },
  {
   "cell_type": "code",
   "execution_count": 22,
   "id": "1b842f89",
   "metadata": {},
   "outputs": [
    {
     "name": "stdout",
     "output_type": "stream",
     "text": [
      "[3, 6, 8, 9]\n",
      "[3, 6]\n",
      "False\n",
      "[3, 6]\n",
      "[3, 6]\n",
      "True\n"
     ]
    }
   ],
   "source": [
    "# Usa la clase Pila. Crea una pila y añade los elementos 3, 6, 8, 9. \n",
    "p = Pila()\n",
    "p.push(3)\n",
    "p.push(6)\n",
    "p.push(8)\n",
    "p.push(9)\n",
    "print(p)\n",
    "\n",
    "# Crea otra segunda pila y añade 3 y 6. Muestralas por pantalla. Compara ambas pilas.\n",
    "p2 = Pila()\n",
    "p2.push(3)\n",
    "p2.push(6)\n",
    "print(p2)\n",
    "print(p == p2)\n",
    "\n",
    "# Haz dos pops de la primera pila y muestra la pila por pantalla. Vuelve a compararlas. \n",
    "p.pop()\n",
    "p.pop()\n",
    "print(p)\n",
    "print(p2)\n",
    "print(p == p2)"
   ]
  },
  {
   "cell_type": "code",
   "execution_count": null,
   "id": "7f52edbb",
   "metadata": {},
   "outputs": [],
   "source": []
  }
 ],
 "metadata": {
  "kernelspec": {
   "display_name": "Python 3 (ipykernel)",
   "language": "python",
   "name": "python3"
  },
  "language_info": {
   "codemirror_mode": {
    "name": "ipython",
    "version": 3
   },
   "file_extension": ".py",
   "mimetype": "text/x-python",
   "name": "python",
   "nbconvert_exporter": "python",
   "pygments_lexer": "ipython3",
   "version": "3.10.9"
  }
 },
 "nbformat": 4,
 "nbformat_minor": 5
}
