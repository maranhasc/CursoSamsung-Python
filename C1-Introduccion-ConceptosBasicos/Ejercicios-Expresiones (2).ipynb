{
 "cells": [
  {
   "cell_type": "markdown",
   "id": "67f01fe6",
   "metadata": {},
   "source": [
    "# Ejercicios de expresiones en Python\n",
    "\n",
    "1. ¿Cuántos segundos hay en 42 minutos y 42 segundos?"
   ]
  },
  {
   "cell_type": "code",
   "execution_count": 1,
   "id": "5ee34674",
   "metadata": {},
   "outputs": [
    {
     "data": {
      "text/plain": [
       "2562"
      ]
     },
     "execution_count": 1,
     "metadata": {},
     "output_type": "execute_result"
    }
   ],
   "source": [
    "segundos_en_un_minuto = 60\n",
    "minutos = 42\n",
    "segundos = 42\n",
    "tiempo_en_segundos = minutos * segundos_en_un_minuto + segundos\n",
    "tiempo_en_segundos"
   ]
  },
  {
   "cell_type": "markdown",
   "id": "67427c43",
   "metadata": {},
   "source": [
    "2. ¿Cuántas millas hay en 10 kilómetros? Pista: hay 1.61 kilómetros en una milla."
   ]
  },
  {
   "cell_type": "code",
   "execution_count": 2,
   "id": "78d3e0c0",
   "metadata": {},
   "outputs": [
    {
     "data": {
      "text/plain": [
       "6.211180124223602"
      ]
     },
     "execution_count": 2,
     "metadata": {},
     "output_type": "execute_result"
    }
   ],
   "source": [
    "km_en_una_milla = 1.61\n",
    "espacio_en_kilometros = 10\n",
    "espacio_en_millas = 10 / km_en_una_milla\n",
    "espacio_en_millas"
   ]
  },
  {
   "cell_type": "markdown",
   "id": "ffcd6107",
   "metadata": {},
   "source": [
    "3. Si completas una carrera de 10 kilómetros en 42 minutos y 42 segundos, ¿Cuál es tu velocidad media en millas por hora?"
   ]
  },
  {
   "cell_type": "code",
   "execution_count": 3,
   "id": "86203b1b",
   "metadata": {},
   "outputs": [
    {
     "data": {
      "text/plain": [
       "8.727653570337614"
      ]
     },
     "execution_count": 3,
     "metadata": {},
     "output_type": "execute_result"
    }
   ],
   "source": [
    "segundos_en_una_hora = 3600\n",
    "tiempo_en_horas = tiempo_en_segundos / segundos_en_una_hora\n",
    "velocidad_en_mph = espacio_en_millas / tiempo_en_horas\n",
    "velocidad_en_mph"
   ]
  },
  {
   "cell_type": "markdown",
   "id": "83432287",
   "metadata": {},
   "source": [
    "4. El volumen de una esfera de radio $r$ es $\\frac{4}{3} \\pi r^3$. ¿Qué volumen tiene una esfera de radio 5?"
   ]
  },
  {
   "cell_type": "code",
   "execution_count": 4,
   "id": "dd6a2cd9",
   "metadata": {},
   "outputs": [
    {
     "data": {
      "text/plain": [
       "523.5999999999999"
      ]
     },
     "execution_count": 4,
     "metadata": {},
     "output_type": "execute_result"
    }
   ],
   "source": [
    "pi = 3.1416\n",
    "radio = 5\n",
    "volumen_esfera = 4/3 * pi * radio ** 3     # (4 * pi * radio ** 3) / 3\n",
    "volumen_esfera"
   ]
  },
  {
   "cell_type": "markdown",
   "id": "4e5c3a25",
   "metadata": {},
   "source": [
    "5. El precio de venta del libro \"Python para pythonistas\" es de 24.95   euros, pero las librerías tienen un descuento del 40%. Los costes de envío ascienden a 3 euros por la primera copia y 75 céntimos por cada copia extra. ¿Cuánto pagará una biblioteca que encargue 60 copias?"
   ]
  },
  {
   "cell_type": "code",
   "execution_count": 6,
   "id": "329b448d",
   "metadata": {},
   "outputs": [
    {
     "data": {
      "text/plain": [
       "945.45"
      ]
     },
     "execution_count": 6,
     "metadata": {},
     "output_type": "execute_result"
    }
   ],
   "source": [
    "precio_libro = 24.95\n",
    "descuento_librerias = 40\n",
    "coste_primer_envio = 3\n",
    "coste_resto_envios = 0.75\n",
    "numero_de_copias = 60\n",
    "\n",
    "coste_libros_sin_descuento = numero_de_copias * precio_libro\n",
    "descuento = coste_libros_sin_descuento * descuento_librerias / 100\n",
    "coste_libros_con_descuento = coste_libros_sin_descuento - descuento\n",
    "coste_envio = coste_primer_envio + coste_resto_envios * (numero_de_copias - 1)\n",
    "coste_pedido = coste_libros_con_descuento + coste_envio\n",
    "coste_pedido"
   ]
  },
  {
   "cell_type": "markdown",
   "id": "47ebbc00",
   "metadata": {},
   "source": [
    "6. Si salgo de casa a las 6:52 de la mañana y corro un kilómetro una velocidad de 8:15 por km, otros tres kilómetros a una velocidad de 7:12 por kilómetro y finalmente un kilómetro a una velocidad de 8:15 por kilómetro. ¿A qué hora estaré en casa para desayunar?"
   ]
  },
  {
   "cell_type": "code",
   "execution_count": 15,
   "id": "92fd7bfb",
   "metadata": {},
   "outputs": [
    {
     "name": "stdout",
     "output_type": "stream",
     "text": [
      "estará de vuelta a las 7 : 30\n"
     ]
    }
   ],
   "source": [
    "hora_salida = 6\n",
    "minutos_salida = 52\n",
    "instante_salida_en_segundos = hora_salida * segundos_en_una_hora + minutos_salida * segundos_en_un_minuto\n",
    "\n",
    "minutos_primer_trayecto = 8\n",
    "segundos_primer_trayecto = 15\n",
    "total_segundos_primer_trayecto = minutos_primer_trayecto * segundos_en_un_minuto + segundos_primer_trayecto\n",
    "\n",
    "minutos_segundo_trayecto = 3 * 7\n",
    "segundos_segundo_trayecto = 3 * 12\n",
    "total_segundos_segundo_trayecto = minutos_segundo_trayecto * segundos_en_un_minuto + segundos_segundo_trayecto\n",
    "\n",
    "minutos_tercer_trayecto = 8\n",
    "segundos_tercer_trayecto = 15\n",
    "total_segundos_tercer_trayecto = minutos_tercer_trayecto * segundos_en_un_minuto + segundos_tercer_trayecto\n",
    "\n",
    "total_carrera_en_segundos = (total_segundos_primer_trayecto + \n",
    "                             total_segundos_segundo_trayecto +\n",
    "                             total_segundos_tercer_trayecto)\n",
    "instante_llegada_en_segundos = instante_salida_en_segundos + total_carrera_en_segundos\n",
    "\n",
    "hora_llegada = instante_llegada_en_segundos // segundos_en_una_hora\n",
    "segundos_sobrantes = instante_llegada_en_segundos % segundos_en_una_hora\n",
    "minutos_llegada = segundos_sobrantes // segundos_en_un_minuto\n",
    "\n",
    "print('estará de vuelta a las', hora_llegada, ':', minutos_llegada)"
   ]
  }
 ],
 "metadata": {
  "kernelspec": {
   "display_name": "Python 3 (ipykernel)",
   "language": "python",
   "name": "python3"
  },
  "language_info": {
   "codemirror_mode": {
    "name": "ipython",
    "version": 3
   },
   "file_extension": ".py",
   "mimetype": "text/x-python",
   "name": "python",
   "nbconvert_exporter": "python",
   "pygments_lexer": "ipython3",
   "version": "3.11.3"
  }
 },
 "nbformat": 4,
 "nbformat_minor": 5
}
