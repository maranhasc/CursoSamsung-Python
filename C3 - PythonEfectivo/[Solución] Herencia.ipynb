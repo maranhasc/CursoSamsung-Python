{
 "cells": [
  {
   "cell_type": "markdown",
   "id": "ff2be585",
   "metadata": {},
   "source": [
    "## Herencia\n",
    "\n",
    "La **herencia** permite crear nuevas clases (llamadas clases derivadas o *subclases*) basadas en clases existentes (llamadas clases base o *superclases*). La herencia permite que las subclases hereden atributos y métodos de sus superclases, lo que promueve la reutilización de código y facilita la creación de una jerarquía de clases.\n",
    "\n",
    "### Ejercicio 1\n",
    "Definir las clases `Vehiculo`, `Automovil` y `Motocicleta` en Python. La clase `Vehiculo` representa un vehículo genérico y tiene los atributos `marca` y `modelo`. Además, tiene un método `obtener_informacion()` que devuelve una cadena de texto con la información básica del vehículo.\n",
    "\n",
    "La clase `Automovil` hereda de la clase `Vehiculo` y agrega el atributo `puertas`, que representa la cantidad de puertas del automóvil. Además, redefine el método `obtener_informacion()` para incluir la información específica de un automóvil, mostrando también la cantidad de puertas.\n",
    "\n",
    "La clase `Motocicleta` también hereda de la clase `Vehiculo` y agrega el atributo `cilindrada`, que representa la cilindrada de la motocicleta en centímetros cúbicos. Al igual que la clase `Automovil`, redefine el método `obtener_informacion()` para incluir la información específica de una motocicleta, mostrando también la cilindrada.\n",
    "\n",
    "Crear instancias de las clases `Automovil` y `Motocicleta`, pasando los valores adecuados para los atributos, y llamar al método `obtener_informacion()` de cada objeto para mostrar la información completa de cada vehículo.\n"
   ]
  },
  {
   "cell_type": "code",
   "execution_count": null,
   "id": "61d7225f",
   "metadata": {},
   "outputs": [],
   "source": [
    "class Vehiculo:\n",
    "    def __init__(self, marca, modelo):\n",
    "        self.marca = marca\n",
    "        self.modelo = modelo\n",
    "\n",
    "    def obtener_informacion(self):\n",
    "        return f\"Vehículo: {self.marca} {self.modelo}\""
   ]
  },
  {
   "cell_type": "code",
   "execution_count": null,
   "id": "4da85596",
   "metadata": {},
   "outputs": [],
   "source": [
    "class Automovil(Vehiculo):\n",
    "    def __init__(self, marca, modelo, puertas):\n",
    "        super().__init__(marca, modelo)\n",
    "        self.puertas = puertas\n",
    "\n",
    "    def obtener_informacion(self):\n",
    "        return f\"Automóvil: {self.marca} {self.modelo}, Puertas: {self.puertas}\""
   ]
  },
  {
   "cell_type": "code",
   "execution_count": null,
   "id": "858d5797",
   "metadata": {},
   "outputs": [],
   "source": [
    "class Motocicleta(Vehiculo):\n",
    "    def __init__(self, marca, modelo, cilindrada):\n",
    "        super().__init__(marca, modelo)\n",
    "        self.cilindrada = cilindrada\n",
    "\n",
    "    def obtener_informacion(self):\n",
    "        return f\"Motocicleta: {self.marca} {self.modelo}, Cilindrada: {self.cilindrada}cc\""
   ]
  },
  {
   "cell_type": "code",
   "execution_count": null,
   "id": "e9ca1a31",
   "metadata": {},
   "outputs": [],
   "source": [
    "# Creamos instancias de las clases derivadas (Automovil y Motocicleta)\n",
    "automovil = Automovil(\"Toyota\", \"Corolla\", 4)\n",
    "motocicleta = Motocicleta(\"Honda\", \"CBR600RR\", 600)\n",
    "\n",
    "# Llamamos al método obtener_informacion() de cada objeto\n",
    "print(automovil.obtener_informacion())   # Salida: Automóvil: Toyota Corolla, Puertas: 4\n",
    "print(motocicleta.obtener_informacion()) # Salida: Motocicleta: Honda CBR600RR, Cilindrada: 600cc"
   ]
  },
  {
   "cell_type": "markdown",
   "id": "9dc2431b",
   "metadata": {},
   "source": [
    "### Ejercicio 2\n",
    "\n",
    "Completa la siguiente clase **BaseClass** que contiene dos atributos o variables de instancia *x* e *y* con visibilidad pública y tres métodos *method_1*, *method_2* y *method_3* que simplemente muestran un mensaje de texto por pantalla. Define el constructor, destructor y método especial *str*.  "
   ]
  },
  {
   "cell_type": "code",
   "execution_count": 1,
   "id": "6c82f980",
   "metadata": {},
   "outputs": [],
   "source": [
    "class BaseClass:\n",
    "\n",
    "    # ADD CODE. Define the constructor with two input parameters. It assigns member variables 'x' and 'y'    \n",
    "    def __init__(self, x, y):\n",
    "        print(\"BaseClass constructor\")\n",
    "        self.x = x\n",
    "        self.y = y\n",
    "\n",
    "    # ADD CODE. Define the destructor method \n",
    "    def __del__(self):\n",
    "        print(f\"BaseClass destructor: object at {id(self)} recollected\")\n",
    "\n",
    "    # ADD CODE. Define the 'str' method\n",
    "    def __str__(self):\n",
    "        return f\"x= {self.x}, y={self.y}\"\n",
    "\n",
    "    # ADD CODE. Define the following methods: method_1, method_2 and method_3 \n",
    "    def method_1(self):\n",
    "        print(\"BaseClass method_1\")\n",
    "\n",
    "    def method_2(self):\n",
    "        print(\"BaseClass method_2\")\n",
    "\n",
    "    def method_3(self):\n",
    "        print(\"BaseClass method_3\")\n"
   ]
  },
  {
   "cell_type": "markdown",
   "id": "f64f0471",
   "metadata": {},
   "source": [
    "Completa la clase derivada **DerivedClass** con la información indicada como comentarios."
   ]
  },
  {
   "cell_type": "code",
   "execution_count": 2,
   "id": "14f854bf",
   "metadata": {},
   "outputs": [],
   "source": [
    "class DerivedClass(BaseClass):          # ADD CODE. Declare a DerivedClass that inherits from BaseClass\n",
    "\n",
    "    # ADD CODE. Define the constructor with three input parameters: x1,y1,z1. \n",
    "    # The class will have three member variables: x,y from the superclass and z as a new one\n",
    "    # x,y will be used to call the constructor of the superclass (use \"super()\")\n",
    "    # z will be used to assign the member variable z of the DerivedClass\n",
    "    def __init__(self, x1, y1, z1):\n",
    "        super().__init__(x1, y1)  # invokes the constructor on the superclass: explicit\n",
    "        print(\"DerivedClass constructor\")\n",
    "        self.z = z1  # new attribute\n",
    "\n",
    "    # ADD CODE. Define the destructor method. It calls the destructor method of the superclass too.     \n",
    "    def __del__(self):\n",
    "        print(f\"DerivedClass destructor: object at {id(self)} recollected\")\n",
    "        super().__del__()  # invokes the destructor on the superclass: explicit\n",
    "\n",
    "    # ADD CODE. Define the 'str' method. Combines the ouput of the 'str' superclass method with the information \n",
    "    # of the member variable 'z'\n",
    "    def __str__(self):\n",
    "        return super().__str__() + f\", z={self.z}\"\n",
    "\n",
    "    # ADD CODE Redefine method_2, overriden this method\n",
    "    def method_2(self):\n",
    "        print(\"new behavior: DerivedClass method_2 redefines BaseClass method_2\")\n",
    "\n",
    "    # ADD CODE Extend method_3, overriden this method. In this case, the method in the derived class call the \n",
    "    # method in the superclass\n",
    "    def method_3(self):\n",
    "        print(\"extended behavior: DerivedClass method_3 extends BaseClass method_3 definition...\")\n",
    "        print(\"\\t but also keeps original behavior \", end='')\n",
    "        super().method_3()  # invokes method in the superclass"
   ]
  },
  {
   "cell_type": "markdown",
   "id": "b92bf711",
   "metadata": {},
   "source": [
    "A continuación crearemos **objetos** de las clases anteriores para mostrar su comportamiento. "
   ]
  },
  {
   "cell_type": "code",
   "execution_count": 6,
   "id": "b0733a8a",
   "metadata": {},
   "outputs": [
    {
     "name": "stdout",
     "output_type": "stream",
     "text": [
      "invoking methods on b\n",
      "BaseClass constructor\n",
      "BaseClass destructor: object at 4520127952 recollected\n",
      "vars b = {'x': 1, 'y': 2}\n",
      "BaseClass method_1\n",
      "BaseClass method_2\n",
      "BaseClass method_3\n",
      "x= 1, y=2\n",
      "\n",
      "invoking methods on d\n",
      "BaseClass constructor\n",
      "DerivedClass constructor\n",
      "DerivedClass destructor: object at 4529537872 recollected\n",
      "BaseClass destructor: object at 4529537872 recollected\n",
      "vars d = {'x': 3, 'y': 4, 'z': 5}\n",
      "BaseClass method_1\n",
      "new behavior: DerivedClass method_2 redefines BaseClass method_2\n",
      "extended behavior: DerivedClass method_3 extends BaseClass method_3 definition...\n",
      "\t but also keeps original behavior BaseClass method_3\n",
      "x= 3, y=4, z=5\n",
      "\n",
      "isinstance tests\n",
      "is b instance of BaseClass? True\n",
      "is d instance of BaseClass? True\n",
      "is b instance of DerivedClass? False\n",
      "is d instance of DerivedClass? True\n",
      "\n",
      "issubclass tests\n",
      "is DerivedClass subclass of BaseClass? True\n",
      "is BaseClass subclass of DerivedClass? False\n",
      "is DerivedClass subclass of DerivedClass? True\n",
      "\n"
     ]
    }
   ],
   "source": [
    "print(\"invoking methods on b\")\n",
    "b = BaseClass(1, 2)\n",
    "print('vars b =', vars(b))\n",
    "b.method_1()\n",
    "b.method_2()\n",
    "b.method_3()\n",
    "print(b)\n",
    "print()\n",
    "\n",
    "print(\"invoking methods on d\")\n",
    "d = DerivedClass(3, 4, 5)\n",
    "print('vars d =', vars(d))\n",
    "d.method_1()\n",
    "d.method_2()\n",
    "d.method_3()\n",
    "print(d)\n",
    "print()\n",
    "\n",
    "print('isinstance tests')\n",
    "print(\"is b instance of BaseClass?\", isinstance(b, BaseClass))\n",
    "print(\"is d instance of BaseClass?\", isinstance(d, BaseClass))\n",
    "print(\"is b instance of DerivedClass?\", isinstance(b, DerivedClass))\n",
    "print(\"is d instance of DerivedClass?\", isinstance(d, DerivedClass))\n",
    "print()\n",
    "\n",
    "print('issubclass tests')\n",
    "print(\"is DerivedClass subclass of BaseClass?\",\n",
    "      issubclass(DerivedClass, BaseClass))\n",
    "print(\"is BaseClass subclass of DerivedClass?\",\n",
    "      issubclass(BaseClass, DerivedClass))\n",
    "print(\"is DerivedClass subclass of DerivedClass?\",\n",
    "      issubclass(DerivedClass, DerivedClass))\n",
    "print()\n"
   ]
  }
 ],
 "metadata": {
  "kernelspec": {
   "display_name": "Python 3 (ipykernel)",
   "language": "python",
   "name": "python3"
  },
  "language_info": {
   "codemirror_mode": {
    "name": "ipython",
    "version": 3
   },
   "file_extension": ".py",
   "mimetype": "text/x-python",
   "name": "python",
   "nbconvert_exporter": "python",
   "pygments_lexer": "ipython3",
   "version": "3.11.3"
  }
 },
 "nbformat": 4,
 "nbformat_minor": 5
}
