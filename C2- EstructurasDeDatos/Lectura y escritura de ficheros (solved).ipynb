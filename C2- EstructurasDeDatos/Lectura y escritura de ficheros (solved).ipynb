{
 "cells": [
  {
   "cell_type": "markdown",
   "metadata": {},
   "source": [
    "## Lectura y escritura de ficheros"
   ]
  },
  {
   "cell_type": "markdown",
   "metadata": {},
   "source": [
    "### 1. Reading and writing text files:"
   ]
  },
  {
   "cell_type": "code",
   "execution_count": 20,
   "metadata": {},
   "outputs": [],
   "source": [
    "import os"
   ]
  },
  {
   "cell_type": "code",
   "execution_count": 21,
   "metadata": {},
   "outputs": [
    {
     "data": {
      "text/plain": [
       "'/Users/rafaelmarcos/Library/CloudStorage/OneDrive-UniversidaddeMálaga/UMA/Curso_2023_2024/CursoSamsung_Mujeres/Clase 4'"
      ]
     },
     "execution_count": 21,
     "metadata": {},
     "output_type": "execute_result"
    }
   ],
   "source": [
    "# ADD CODE. Get the current working directory (use getcwd of the os library)\n",
    "os.getcwd()"
   ]
  },
  {
   "cell_type": "code",
   "execution_count": 14,
   "metadata": {},
   "outputs": [],
   "source": [
    "print(cwd)"
   ]
  },
  {
   "cell_type": "code",
   "execution_count": 40,
   "metadata": {},
   "outputs": [
    {
     "name": "stdout",
     "output_type": "stream",
     "text": [
      "/Users/rafaelmarcos/Library/CloudStorage\n"
     ]
    }
   ],
   "source": [
    "# ADD CODE. Go to the directory where the file named \"my_file.txt\" is located (use chdir)\n",
    "old_path = '/Users/rafaelmarcos/Library/CloudStorage/OneDrive-UniversidaddeMálaga/UMA/Curso_2023_2024/CursoSamsung_Mujeres/Clase 4'\n",
    "os.chdir(\"/Users/rafaelmarcos/Library/CloudStorage/\")\n",
    "print(os.getcwd())"
   ]
  },
  {
   "cell_type": "code",
   "execution_count": null,
   "metadata": {},
   "outputs": [],
   "source": [
    "path = \"C:\\\\Users\\\\prueba\"\n",
    "os.chdir(path)\n",
    "print(os.getcwd())"
   ]
  },
  {
   "cell_type": "code",
   "execution_count": 23,
   "metadata": {},
   "outputs": [
    {
     "name": "stdout",
     "output_type": "stream",
     "text": [
      "Life\n",
      "is\n",
      "short, \n",
      "You\n",
      "need \n",
      "Python!\n"
     ]
    }
   ],
   "source": [
    "# ADD CODE. Open the text file \"my_file.txt\" in read mode.\n",
    "f = open('my_file.txt', 'r')   \n",
    "\n",
    "# ADD CODE. Read in all at once.\n",
    "texto = f.read()  \n",
    "\n",
    "# ADD CODE. Print out all at once.\n",
    "print(texto)              \n",
    "\n",
    "# ADD CODE. Close the file using the \"close\" function of the handle f\n",
    "f.close()                   "
   ]
  },
  {
   "cell_type": "code",
   "execution_count": 25,
   "metadata": {},
   "outputs": [
    {
     "name": "stdout",
     "output_type": "stream",
     "text": [
      "Life\n",
      "is\n",
      "short, \n",
      "You\n",
      "need \n",
      "Python!"
     ]
    }
   ],
   "source": [
    "# ADD CODE. Open the text file \"my_file.txt\" in read mode.\n",
    "f = open('my_file.txt', 'r')  \n",
    "\n",
    "# ADD CODE. Read all the lines of the file\n",
    "all = f.readlines()  \n",
    "# ADD CODE. Print out line by line.\n",
    "for i in all:\n",
    "     print(i, end='')             \n",
    "\n",
    "# ADD CODE. Close the file using the \"close\" function of the handle f\n",
    "f.close()"
   ]
  },
  {
   "cell_type": "code",
   "execution_count": 26,
   "metadata": {},
   "outputs": [],
   "source": [
    "# ADD CODE. Open the text file \"new_file.txt\" in write mode.\n",
    "f = open('new_file.txt','w')\n",
    "# ADD CODE. Write the sentence 'This is a new file.'\n",
    "f.write('This is a new file.')\n",
    "# ADD CODE. Close the file.\n",
    "f.close()"
   ]
  },
  {
   "cell_type": "code",
   "execution_count": 27,
   "metadata": {},
   "outputs": [],
   "source": [
    "# ADD CODE. Open the text file \"new_file.txt\" in write mode.\n",
    "f = open('new_file.txt','w')                 # It opens again the same file in write mode. (Overwrite)\n",
    "# ADD CODE. Write the sentence 'This is another file!'\n",
    "f.write('This is another file!')\n",
    "# ADD CODE. Close the file.\n",
    "f.close()"
   ]
  },
  {
   "cell_type": "code",
   "execution_count": 28,
   "metadata": {},
   "outputs": [],
   "source": [
    "# ADD CODE. Open the text file \"new_file.txt\" in append mode.\n",
    "f = open('new_file.txt','a')  \n",
    "# ADD CODE. Write the sentence 'This is the end!'\n",
    "f.write('This is the end!')                     # The sentence will be appended at the end of the file.\n",
    "# ADD CODE. Close the file.\n",
    "f.close()"
   ]
  },
  {
   "cell_type": "markdown",
   "metadata": {},
   "source": [
    "### 2. Using the Pickle library:"
   ]
  },
  {
   "cell_type": "code",
   "execution_count": 31,
   "metadata": {},
   "outputs": [
    {
     "name": "stdout",
     "output_type": "stream",
     "text": [
      "\u001b[31mERROR: Could not find a version that satisfies the requirement pickle (from versions: none)\u001b[0m\u001b[31m\r\n",
      "\u001b[0m\u001b[31mERROR: No matching distribution found for pickle\u001b[0m\u001b[31m\r\n",
      "\u001b[0m"
     ]
    }
   ],
   "source": [
    "#!pip install pickle"
   ]
  },
  {
   "cell_type": "code",
   "execution_count": 32,
   "metadata": {},
   "outputs": [],
   "source": [
    "# Import the library.\n",
    "import pickle"
   ]
  },
  {
   "cell_type": "code",
   "execution_count": 34,
   "metadata": {},
   "outputs": [
    {
     "name": "stdout",
     "output_type": "stream",
     "text": [
      "[1, 2, 3, {'Name': 'John', 'Age': 25, 'Score': 9}]\n"
     ]
    }
   ],
   "source": [
    "x = [1,2,3, {'Name':'John', 'Age':25, 'Score':9}]         # An object.\n",
    "print(x)"
   ]
  },
  {
   "cell_type": "code",
   "execution_count": 37,
   "metadata": {},
   "outputs": [],
   "source": [
    "# ADD CODE. Use the \"dump\" function\n",
    "#f = open('my_pickle.pkl','wb')\n",
    "#pickle.dump(x,f)                # To be pickled.\n",
    "#f.close()\n",
    "\n",
    "pickle.dump(x,open('my_pickle.pkl','wb'))"
   ]
  },
  {
   "cell_type": "code",
   "execution_count": 38,
   "metadata": {},
   "outputs": [
    {
     "ename": "NameError",
     "evalue": "name 'x' is not defined",
     "output_type": "error",
     "traceback": [
      "\u001b[0;31m---------------------------------------------------------------------------\u001b[0m",
      "\u001b[0;31mNameError\u001b[0m                                 Traceback (most recent call last)",
      "Cell \u001b[0;32mIn[38], line 4\u001b[0m\n\u001b[1;32m      2\u001b[0m \u001b[38;5;28;01mdel\u001b[39;00m x\n\u001b[1;32m      3\u001b[0m \u001b[38;5;66;03m# ADD CODE. Print the \"x\" variable. It should provides an error\u001b[39;00m\n\u001b[0;32m----> 4\u001b[0m \u001b[38;5;28mprint\u001b[39m(\u001b[43mx\u001b[49m)\n",
      "\u001b[0;31mNameError\u001b[0m: name 'x' is not defined"
     ]
    }
   ],
   "source": [
    "# ADD CODE. Delete the \"x\" variable\n",
    "del x\n",
    "# ADD CODE. Print the \"x\" variable. It should provides an error\n",
    "print(x)"
   ]
  },
  {
   "cell_type": "code",
   "execution_count": 39,
   "metadata": {},
   "outputs": [
    {
     "name": "stdout",
     "output_type": "stream",
     "text": [
      "[1, 2, 3, {'Name': 'John', 'Age': 25, 'Score': 9}]\n"
     ]
    }
   ],
   "source": [
    "# ADD CODE. Use the \"load\" function\n",
    "new_x = pickle.load(open('my_pickle.pkl','rb'))           # Bring back the pickled object.\n",
    "print(new_x)"
   ]
  },
  {
   "cell_type": "code",
   "execution_count": null,
   "metadata": {},
   "outputs": [],
   "source": []
  }
 ],
 "metadata": {
  "kernelspec": {
   "display_name": "Python 3 (ipykernel)",
   "language": "python",
   "name": "python3"
  },
  "language_info": {
   "codemirror_mode": {
    "name": "ipython",
    "version": 3
   },
   "file_extension": ".py",
   "mimetype": "text/x-python",
   "name": "python",
   "nbconvert_exporter": "python",
   "pygments_lexer": "ipython3",
   "version": "3.11.3"
  }
 },
 "nbformat": 4,
 "nbformat_minor": 2
}
