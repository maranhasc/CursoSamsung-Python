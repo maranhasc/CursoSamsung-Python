{
 "cells": [
  {
   "cell_type": "markdown",
   "id": "a0c49e1b",
   "metadata": {},
   "source": [
    "# Unidades 14 y 15 - Otros métodos sobre diccionarios"
   ]
  },
  {
   "cell_type": "markdown",
   "id": "1cf085c0",
   "metadata": {},
   "source": [
    "El siguiente programa cuenta cuántas veces aparece un carácter en una cadena. Para ello, utiliza un diccionario donde las claves son los caracteres que aparecen en la cadena y los valores el número de veces que aparece cada carácter."
   ]
  },
  {
   "cell_type": "code",
   "execution_count": null,
   "id": "3540bf33",
   "metadata": {},
   "outputs": [],
   "source": [
    "cadena = \"aaabbcaaabbcz\"\n",
    "\n",
    "frecuencia = {}\n",
    "for c in cadena:\n",
    "    if c not in frecuencia:\n",
    "        frecuencia[c] = 0\n",
    "    frecuencia[c] += 1\n",
    "    \n",
    "frecuencia"
   ]
  },
  {
   "cell_type": "markdown",
   "id": "2ca27926",
   "metadata": {},
   "source": [
    "### Método `setdefault(k,v)`\n",
    "\n",
    "La sentencia condicional dentro del bucle sirve para inicializar a cero el contador de apariciones de un carácter la primera vez que aparece. Podemos evitar esa sentencia condicional usando el método `setdefault(k,v)`. Si la clave `k` no está en el diccionario, añade el par `k:v`, de lo contrario no hace nada:"
   ]
  },
  {
   "cell_type": "code",
   "execution_count": null,
   "id": "1f6a5317",
   "metadata": {},
   "outputs": [],
   "source": [
    "frecuencia = {}\n",
    "for c in cadena:\n",
    "    frecuencia.setdefault(c, 0)  # solo lo añade si 'c' no está en 'frecuencia'\n",
    "    frecuencia[c] += 1\n",
    "    \n",
    "frecuencia"
   ]
  },
  {
   "cell_type": "code",
   "execution_count": null,
   "id": "3d0ea830",
   "metadata": {},
   "outputs": [],
   "source": [
    "frecuencia.get('w', 0) ## = frecuencia[k] si k está en el diccionario"
   ]
  },
  {
   "cell_type": "code",
   "execution_count": null,
   "id": "92919bf6",
   "metadata": {},
   "outputs": [],
   "source": [
    "frecuencia['w']"
   ]
  },
  {
   "cell_type": "markdown",
   "id": "3dad6311",
   "metadata": {},
   "source": [
    "### Método `get(k,v)`\n",
    "\n",
    "Alternativamente, podemos utilizar el método `get(k,v)` que consulta en el diccionario el valord de la clave `k`. Si la clave está presente, devuelve su valor; de lo contrario devuelve el valor `v`:"
   ]
  },
  {
   "cell_type": "code",
   "execution_count": null,
   "id": "f9c8d7e8",
   "metadata": {},
   "outputs": [],
   "source": [
    "frecuencia = {}\n",
    "for c in cadena:\n",
    "    n = frecuencia.get(c, 0)  # si 'c' no está en 'frecuencia' devuelve 0\n",
    "    frecuencia[c] = n + 1\n",
    "    \n",
    "frecuencia"
   ]
  },
  {
   "cell_type": "markdown",
   "id": "6ba78ce9",
   "metadata": {},
   "source": [
    "### Función `defaultdict`\n",
    "\n",
    "Finalmente, podemos usar la función `defaultdict` del módulo `collections`. Esta función recibe un **tipo** como parámetro y devuelve un _\"diccionario\"_ que devolverá el valor por defecto del tipo cuando se consulte una clave que no está en el diccionario:"
   ]
  },
  {
   "cell_type": "code",
   "execution_count": null,
   "id": "6f2ae1ca",
   "metadata": {
    "scrolled": true
   },
   "outputs": [],
   "source": [
    "import collections\n",
    "\n",
    "frecuencia = collections.defaultdict(int)\n",
    "for c in cadena:\n",
    "    frecuencia[c] += 1\n",
    "    \n",
    "frecuencia"
   ]
  },
  {
   "cell_type": "code",
   "execution_count": null,
   "id": "db79d661",
   "metadata": {},
   "outputs": [],
   "source": [
    "d = collections.defaultdict(list)\n",
    "d"
   ]
  },
  {
   "cell_type": "code",
   "execution_count": null,
   "id": "3df9e0be",
   "metadata": {},
   "outputs": [],
   "source": [
    "d[1] = [56]\n",
    "print(d[1])\n",
    "print(d[2])\n",
    "d"
   ]
  },
  {
   "cell_type": "code",
   "execution_count": null,
   "id": "dae00e5d",
   "metadata": {},
   "outputs": [],
   "source": [
    "print(d[13])"
   ]
  },
  {
   "cell_type": "code",
   "execution_count": null,
   "id": "890c080d",
   "metadata": {},
   "outputs": [],
   "source": [
    "d"
   ]
  },
  {
   "cell_type": "markdown",
   "id": "e020e629",
   "metadata": {},
   "source": [
    "### Método `popitem()`\n",
    "\n",
    "El método `pop(k)` elimina la clave `k`de un diccionario, devolviendo además su valor. El incoveniente de este método es que exige conocer la clave `k` para eliminar (y devolver) un valor. El método `popitem()` elimina _algún_ par del diccionario y lo devuelve:"
   ]
  },
  {
   "cell_type": "code",
   "execution_count": null,
   "id": "ff244da1",
   "metadata": {},
   "outputs": [],
   "source": [
    "menu = {\"Americano\" : 3000, \"Iced Americano\" : 3500, \"Capuccino\" : 4000, \"Cafe Latte\" : 4500, \"Espresso\" : 3600}\n",
    "print(menu)\n",
    "print(menu.popitem())\n",
    "print(menu.popitem())\n",
    "print(menu)"
   ]
  },
  {
   "cell_type": "markdown",
   "id": "2275c1ee",
   "metadata": {},
   "source": [
    "### Construyendo diccionarios con el método `fromkeys(ks, v)`\n",
    "\n",
    "El método (de clase) `fromkeys(ks, v)` construye un diccionario a partir de las claves facilitadas en la colección `ks`. Todas las claves esterán asociadas inicialmente al mismo valor, `v`:"
   ]
  },
  {
   "cell_type": "code",
   "execution_count": null,
   "id": "ce777051",
   "metadata": {},
   "outputs": [],
   "source": [
    "nombres = [\"juan\", \"maria\", \"ana\", \"jose\", \"eva\"]\n",
    "d = dict.fromkeys(nombres, 0)\n",
    "d"
   ]
  },
  {
   "cell_type": "code",
   "execution_count": null,
   "id": "dd3190b1",
   "metadata": {},
   "outputs": [],
   "source": [
    "frec = dict.fromkeys(\"hola que tal\", 0)\n",
    "for c in \"hola que tal\":\n",
    "    frec[c] += 1\n",
    "frec"
   ]
  },
  {
   "cell_type": "code",
   "execution_count": null,
   "id": "49b0918e",
   "metadata": {},
   "outputs": [],
   "source": [
    "frec[''] = \"sopla\"\n",
    "frec"
   ]
  },
  {
   "cell_type": "code",
   "execution_count": null,
   "id": "86d61a9b",
   "metadata": {},
   "outputs": [],
   "source": [
    "dict.fromkeys(\"\", 0)"
   ]
  },
  {
   "cell_type": "markdown",
   "id": "7de3a963",
   "metadata": {},
   "source": [
    "### El método `update(kv)`\n",
    "\n",
    "El método `update(kv)` añade un nuevo par `k:v` si la clave `k` no está presente; de lo contrario actualiza el valor asociado a la clave `k`. El par `k:v` se puede denotar de diferentes formas, según el tipo de la clave:"
   ]
  },
  {
   "cell_type": "code",
   "execution_count": null,
   "id": "eba0d739",
   "metadata": {
    "scrolled": true
   },
   "outputs": [],
   "source": [
    "menu = {\"Americano\" : 3000, \"Iced Americano\" : 3500, \"Capuccino\" : 4000, \"Cafe Latte\" : 4500, \"Espresso\" : 3600}\n",
    "print(menu)\n",
    "# ofertas\n",
    "menu.update(Americano = 2500)             # la clave es una cadena\n",
    "menu.update([[\"Iced Americano\", 3200]])   # la clave es una cadena, pero tiene espacios\n",
    "# nuevo café\n",
    "menu.update(Moka = 3000)\n",
    "menu"
   ]
  },
  {
   "cell_type": "code",
   "execution_count": null,
   "id": "c4283b23",
   "metadata": {},
   "outputs": [],
   "source": [
    "menu.update([[\"Mitad\", 3000], [\"Sombra\", 2800]])\n",
    "menu"
   ]
  },
  {
   "cell_type": "markdown",
   "id": "865e845e",
   "metadata": {},
   "source": [
    "El método `update(kv)` nos permite construir un diccionario a partir de una colección (no diccionario) que contenga pares de clave y valor:"
   ]
  },
  {
   "cell_type": "code",
   "execution_count": null,
   "id": "736593e0",
   "metadata": {},
   "outputs": [],
   "source": [
    "d = {}\n",
    "d.update([[5, \"five\"], [10, \"ten\"], [1,\"one\"]])\n",
    "d"
   ]
  },
  {
   "cell_type": "markdown",
   "id": "6898994e",
   "metadata": {},
   "source": [
    "## Iteración sobre diccionarios\n",
    "\n",
    "Los diccionarios son colecciones iterables; es decir, se pueden utilizar como fuente de datos en un bucle `for`. Cuando usamos un diccionario en un bucle `for`, la variable de control toma sucesivamente los valores de las **claves**:"
   ]
  },
  {
   "cell_type": "code",
   "execution_count": null,
   "id": "e5d0122f",
   "metadata": {
    "scrolled": true
   },
   "outputs": [],
   "source": [
    "menu = {\"Americano\" : 3000, \"Iced Americano\" : 3500, \"Capuccino\" : 4000, \"Cafe Latte\" : 4500, \"Espresso\" : 3600}\n",
    "\n",
    "for cafe in menu:\n",
    "    print(cafe, menu[cafe])"
   ]
  },
  {
   "cell_type": "markdown",
   "id": "062dd1f7",
   "metadata": {},
   "source": [
    "Además, es posible iterar con un bucle `for` sobre un diccionario haciendo que la variable de control tome sucesivamente los valores de las claves, los valores o los pares usando `keys()`, `values()` e `items()` respectivamente:"
   ]
  },
  {
   "cell_type": "code",
   "execution_count": null,
   "id": "fba4ed78",
   "metadata": {
    "scrolled": true
   },
   "outputs": [],
   "source": [
    "menu = {\"Americano\" : 3000, \"Iced Americano\" : 3500, \"Capuccino\" : 4000, \"Cafe Latte\" : 4500, \"Espresso\" : 3600}\n",
    "\n",
    "for cafe in menu.keys():\n",
    "    print(cafe)\n",
    "    \n",
    "menu.keys()"
   ]
  },
  {
   "cell_type": "code",
   "execution_count": null,
   "id": "b43aaf29",
   "metadata": {},
   "outputs": [],
   "source": [
    "menu = {\"Americano\" : 3000, \"Iced Americano\" : 3500, \"Capuccino\" : 4000, \"Cafe Latte\" : 4500, \"Espresso\" : 3600}\n",
    "\n",
    "for precio in menu.values():\n",
    "    print(precio)"
   ]
  },
  {
   "cell_type": "code",
   "execution_count": null,
   "id": "b93c1256",
   "metadata": {},
   "outputs": [],
   "source": [
    "letra, numero = ('a', 18)\n",
    "letra"
   ]
  },
  {
   "cell_type": "code",
   "execution_count": null,
   "id": "f3fb3782",
   "metadata": {
    "scrolled": true
   },
   "outputs": [],
   "source": [
    "menu = {\"Americano\" : 3000, \"Iced Americano\" : 3500, \"Capuccino\" : 4000, \"Cafe Latte\" : 4500, \"Espresso\" : 3600}\n",
    "\n",
    "for cafe, precio in menu.items():  # unpacking\n",
    "    print(cafe, precio)"
   ]
  },
  {
   "cell_type": "markdown",
   "id": "c832dc27",
   "metadata": {},
   "source": [
    "## Alias, copias y copias profundas\n",
    "\n",
    "Una asignación entre diccionarios no crea un nuevo diccionario, sino que crea un **alias**; es decir, un nombre alternativo para el mismo diccionario:"
   ]
  },
  {
   "cell_type": "code",
   "execution_count": null,
   "id": "e1cb8342",
   "metadata": {},
   "outputs": [],
   "source": [
    "lista = list(range(6))\n",
    "alias = lista\n",
    "alias[0] = 7000\n",
    "print(lista)\n",
    "print(alias)"
   ]
  },
  {
   "cell_type": "code",
   "execution_count": null,
   "id": "93af2da0",
   "metadata": {},
   "outputs": [],
   "source": [
    "copia = lista[:]\n",
    "copia[0] = -123\n",
    "print(lista)\n",
    "print(copia)"
   ]
  },
  {
   "cell_type": "code",
   "execution_count": null,
   "id": "2e7a1f92",
   "metadata": {},
   "outputs": [],
   "source": [
    "menu = {\"Americano\" : 3000, \"Iced Americano\" : 3500, \"Capuccino\" : 4000, \"Cafe Latte\" : 4500, \"Espresso\" : 3600}\n",
    "competencia = menu  # alias\n",
    "competencia[\"Americano\"] = 2500\n",
    "\n",
    "print(menu)\n",
    "print(competencia)"
   ]
  },
  {
   "cell_type": "markdown",
   "id": "dbeaac7f",
   "metadata": {},
   "source": [
    "Si queremos trabajar con un diccionario nuevo, deberemos sacar una **copia** mediante el método `copy()` (similar a utilizar el _slicing_ `[:]` sobre una lista):"
   ]
  },
  {
   "cell_type": "code",
   "execution_count": null,
   "id": "299de7e5",
   "metadata": {},
   "outputs": [],
   "source": [
    "menu = {\"Americano\" : 3000, \"Iced Americano\" : 3500, \"Capuccino\" : 4000, \"Cafe Latte\" : 4500, \"Espresso\" : 3600}\n",
    "competencia = menu.copy()\n",
    "competencia[\"Americano\"] = 2500\n",
    "\n",
    "print(menu)\n",
    "print(competencia)"
   ]
  },
  {
   "cell_type": "markdown",
   "id": "fbe4aa65",
   "metadata": {},
   "source": [
    "Sin embargo, si los valores del diccionario son **mutables**, el método `copy()` no es suficiente:"
   ]
  },
  {
   "cell_type": "code",
   "execution_count": null,
   "id": "f5d8c1f3",
   "metadata": {},
   "outputs": [],
   "source": [
    "original = { 1 : [\"azul\", \"rojo\", \"verde\"], 2 : [\"verde\", \"amarillo\"], 3: [\"blanco\"]}\n",
    "copia = original.copy()\n",
    "copia[3].append(\"negro\")\n",
    "copia[1] = [\"gris\"]\n",
    "print(original)\n",
    "print(copia)"
   ]
  },
  {
   "cell_type": "markdown",
   "id": "c570c6e5",
   "metadata": {},
   "source": [
    "Cuando los valores del diccionario sean mutables (listas o diccionarios), tendremos que sacar una **copia profunda** mediante el método `deepcopy()` del módulo `copy`:"
   ]
  },
  {
   "cell_type": "code",
   "execution_count": null,
   "id": "8d3d8814",
   "metadata": {},
   "outputs": [],
   "source": [
    "import copy\n",
    "\n",
    "original = { 1 : [\"azul\", \"rojo\", \"verde\"], 2 : [\"verde\", \"amarillo\"], 3: [\"blanco\"]}\n",
    "copia = copy.deepcopy(original)\n",
    "copia[3].append(\"negro\")\n",
    "print(original)\n",
    "print(copia)"
   ]
  },
  {
   "cell_type": "markdown",
   "id": "5e39204a",
   "metadata": {},
   "source": [
    "## Unidad 14: Solución del mission problem (290)"
   ]
  },
  {
   "cell_type": "code",
   "execution_count": null,
   "id": "f624b86c",
   "metadata": {},
   "outputs": [],
   "source": [
    "print(\"Cafe menu program, press\")\n",
    "print(\"q          \\tto exit\")\n",
    "print(\"<cafe:price\\tto update menu\")\n",
    "print(\">cafe      \\tto consult the menu\")\n",
    "print(\"p          \\tto print the full menu\")\n",
    "\n",
    "cafe_menu = { \"Iced Americano\" : 3000 }\n",
    "\n",
    "command = \"\"\n",
    "while command != \"q\":\n",
    "    \n",
    "    command = input(\"enter command: \")\n",
    "    \n",
    "    if command.startswith('<'):\n",
    "        cafe, price = command[1:].split(':')\n",
    "        cafe_menu[cafe]= price\n",
    "        \n",
    "    elif command.startswith('>'):\n",
    "        cafe = command[1:]\n",
    "        if cafe in cafe_menu:\n",
    "            print(\"{} is {} won\".format(cafe, cafe_menu[cafe]))\n",
    "        else:\n",
    "            print(\"Sorry, {} is not in the menu\".format(cafe))\n",
    "            \n",
    "    elif command == 'p':\n",
    "        print(\"{:20}{}\".format(\"Cafe\", \"Price\"))\n",
    "        for cafe, price in cafe_menu.items():\n",
    "            print(\"{:20}{}\".format(cafe, price))\n",
    "            \n",
    "    elif command != 'q':\n",
    "        print(\"wrong command\")\n",
    "        \n",
    "print(\"Bye\")"
   ]
  },
  {
   "cell_type": "markdown",
   "id": "e2d4d159",
   "metadata": {},
   "source": [
    "## Unidad 14: Solución del primer ejercicio de paper coding (319)"
   ]
  },
  {
   "cell_type": "code",
   "execution_count": null,
   "id": "5c9208f0",
   "metadata": {},
   "outputs": [],
   "source": [
    "person_dic = {\"Last Name\" : \"Doe\", \"First Name\" : \"David\", \"Company\" : \"Samsung\"}\n",
    "\n",
    "for persona, dato in person_dic.items():  \n",
    "    print(persona, \":\", dato)\n",
    "\n",
    "print()\n",
    "\n",
    "person_dic = {\"Last Name\":\"Doe\", \"First Name\":\"David\", \"Company\":\"Samsung\"}\n",
    "\n",
    "for key in person_dic:\n",
    "    print(key + ':', person_dic[key])"
   ]
  },
  {
   "cell_type": "markdown",
   "id": "2855d4ef",
   "metadata": {},
   "source": [
    "## Unidad 14: Solución del segundo ejercicio de paper coding (320)"
   ]
  },
  {
   "cell_type": "code",
   "execution_count": null,
   "id": "fca4b6f9",
   "metadata": {},
   "outputs": [],
   "source": [
    "items = {\"Coffee\":7, \"Pen\":3, \"Paper cup\":2, \"Milk\":1, \"Coke\":4, \"Book\":5}\n",
    "\n",
    "elemento = input(\"Ponga el elemento que desee: \")\n",
    "\n",
    "if elemento in items:\n",
    "    print(items[elemento])\n",
    "else:\n",
    "    print(\"Lo siento, no tenemos.\")"
   ]
  },
  {
   "cell_type": "markdown",
   "id": "c8ecbcff",
   "metadata": {},
   "source": [
    "## Unidad 14: Solución del ejercicio de pair programming (342)"
   ]
  },
  {
   "cell_type": "code",
   "execution_count": null,
   "id": "3ede7731",
   "metadata": {},
   "outputs": [],
   "source": [
    "print(\"Inventory program, press\")\n",
    "print(\"1. Check stock\")\n",
    "print(\"2. Warehousing\")\n",
    "print(\"3. Release\")\n",
    "print(\"4. Exit\")\n",
    "\n",
    "items = {\"Coffee\": 7, \"Pen\":3, \"Paper cup\": 2, \"Milk\": 1, \"Coke\": 4, \"Book\":5}\n",
    "\n",
    "command = 0\n",
    "while command != 4:\n",
    "    \n",
    "    command = int(input(\"enter command: \"))\n",
    "    \n",
    "    if command == 1:\n",
    "        item = input(\"Enter item: \")\n",
    "        if item not in items:\n",
    "            print(\"Item no encontrado\")\n",
    "        else:\n",
    "            print(\"Stock:\", items[item])\n",
    "    elif command == 2:\n",
    "        item = input(\"Enter item: \")\n",
    "        if item not in items:\n",
    "            print(\"Item no encontrado\")\n",
    "        else:\n",
    "            cantidad = int(input(\"Introduzca una cantidad a reponer: \"))\n",
    "            items[item] += cantidad\n",
    "            print(\"Nuevo Stock:\", items[item])\n",
    "    elif command == 3:\n",
    "        item = input(\"Enter item: \")\n",
    "        if item not in items:\n",
    "            print(\"Item no encontrado\")\n",
    "        else:\n",
    "            cantidad = int(input(\"Introduzca la cantidad deseada: \"))\n",
    "            items[item] -= cantidad  # cuidado\n",
    "            print(\"Nuevo Stock:\", items[item])\n",
    "    elif command != 4:\n",
    "        print(\"wrong command\")\n",
    "        \n",
    "print(\"Bye\")"
   ]
  },
  {
   "cell_type": "code",
   "execution_count": null,
   "id": "1bffa072",
   "metadata": {},
   "outputs": [],
   "source": [
    "    \n",
    "items = {\"Coffee\": 7, \"Pen\":3, \"Paper cup\": 2, \"Milk\": 1, \"Coke\": 4, \"Book\":5}\n",
    "\n",
    "exit_loop = False\n",
    "while not exit_loop:\n",
    "    selection = int(input(\"Select menu 1)check stock 2)warehousing 3) release 4) exit : \"))\n",
    "    if selection == 1:\n",
    "        item = input(\"[check stock] Ingresa el producto: \")\n",
    "        val = items.get(item, -1)\n",
    "        if val >= 0: \n",
    "            print(\"Quedan\", items.get(item), 'unidades')\n",
    "        else:\n",
    "            print(\"No existe el producto\")\n",
    "    elif selection == 2:\n",
    "        item = input(\"[warehousing] Ingresa el producto: \")\n",
    "        cantidad = int(input(\"Ingresa la cantidad: \"))\n",
    "        items[item] += cantidad  # cuidado: puede fallar\n",
    "        print(\"Añadidos\", cantidad, 'unidades de', item)\n",
    "    elif selection == 3:\n",
    "        item = input(\"[release] Ingresa el producto: \")\n",
    "        cantidad = int(input(\"Ingresa la cantidad: \"))\n",
    "        if items[item] - cantidad < 0: # puede fallar\n",
    "            print(\"No hay suficiente cantidad para vender\")\n",
    "        else:\n",
    "            items[item] -= cantidad\n",
    "            print(\"Se han vendido\", cantidad, 'unidades de', item)\n",
    "    elif selection == 4:\n",
    "        exit_loop = True\n",
    "    else:\n",
    "        print(\"El dato no es válido.\")\n"
   ]
  },
  {
   "cell_type": "markdown",
   "id": "10e04e90",
   "metadata": {},
   "source": [
    "## Unidad 15: Solución del primer ejercicio de paper coding (378)"
   ]
  },
  {
   "cell_type": "code",
   "execution_count": null,
   "id": "250b681c",
   "metadata": {},
   "outputs": [],
   "source": [
    "student_tup = ((\"211101\", \"David Doe\", \"010-123-1111\"), \n",
    "               (\"211102\", \"John Smith\", \"010-123-2222\"), \n",
    "               (\"211103\", \"Jane Carter\", \"010-123-3333\"))\n",
    "\n",
    "student_dic = {}\n",
    "for student_id, student_name, student_phone in student_tup: # unpacking\n",
    "    student_dic[student_id] = [student_name, student_phone]\n",
    "\n",
    "student_dic"
   ]
  },
  {
   "cell_type": "markdown",
   "id": "e5d5253c",
   "metadata": {},
   "source": [
    "## Unidad 15: Solución del segundo ejercicio de paper coding (379)\n",
    "\n",
    "Este no"
   ]
  },
  {
   "cell_type": "code",
   "execution_count": null,
   "id": "6c26e3f3",
   "metadata": {},
   "outputs": [],
   "source": []
  },
  {
   "cell_type": "markdown",
   "id": "f164fa89",
   "metadata": {},
   "source": [
    "## Unidad 14: Solución del ejercicio de pair programming (403)"
   ]
  },
  {
   "cell_type": "code",
   "execution_count": null,
   "id": "3a9a3be3",
   "metadata": {},
   "outputs": [],
   "source": []
  }
 ],
 "metadata": {
  "kernelspec": {
   "display_name": "Python 3 (ipykernel)",
   "language": "python",
   "name": "python3"
  },
  "language_info": {
   "codemirror_mode": {
    "name": "ipython",
    "version": 3
   },
   "file_extension": ".py",
   "mimetype": "text/x-python",
   "name": "python",
   "nbconvert_exporter": "python",
   "pygments_lexer": "ipython3",
   "version": "3.11.4"
  }
 },
 "nbformat": 4,
 "nbformat_minor": 5
}
