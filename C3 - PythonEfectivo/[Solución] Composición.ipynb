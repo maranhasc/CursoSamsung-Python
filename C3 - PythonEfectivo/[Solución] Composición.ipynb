{
 "cells": [
  {
   "cell_type": "markdown",
   "id": "e33312de",
   "metadata": {},
   "source": [
    "## Composición\n",
    "\n",
    "La composición es un concepto clave en la programación orientada a objetos (POO). Se refiere a la relación entre dos clases donde una clase contiene una **instancia de otra clase** como uno de sus miembros o atributos. Esta relación se basa en la idea de que un objeto está **compuesto** por otros objetos. La composición no se limita a una sola clase; puedes tener múltiples clases que se componen entre sí formando una estructura más compleja y jerárquica.\n",
    "\n",
    "### Ejercicio 1\n",
    "Definir las clases `Punto` y `Rectangulo`. La clase `Punto` representa un punto en un plano cartesiano y tiene los atributos `x` e `y` que representan las coordenadas del punto. La clase `Rectangulo` representa un rectángulo en el plano cartesiano y tiene los atributos `punto1` y `punto2`, que son instancias de la clase `Punto` que representan los puntos opuestos del rectángulo.\n",
    "\n",
    "La clase `Punto` debe tener un método `mostrar_coordenadas()` que imprima las coordenadas del punto en el formato `(x, y)`.\n",
    "\n",
    "La clase `Rectangulo` debe tener un método `calcular_area()` que calcule y devuelva el área del rectángulo utilizando la fórmula `base * altura`, donde `base` es la diferencia en valor absoluto entre las coordenadas x de los puntos y `altura` es la diferencia en valor absoluto entre las coordenadas y de los puntos.\n",
    "\n",
    "Además, la clase `Rectangulo` debe tener un método `mostrar_informacion()` que muestre las coordenadas de los dos puntos que forman el rectángulo y el área del mismo.\n",
    "\n",
    "Crear instancias de las clases `Punto` y `Rectangulo`, pasando los valores adecuados para los puntos, y llamar al método `mostrar_informacion()` de la clase `Rectangulo` para mostrar la información del rectángulo.\n"
   ]
  },
  {
   "cell_type": "code",
   "execution_count": null,
   "id": "cd2ad883",
   "metadata": {},
   "outputs": [],
   "source": [
    "class Punto:\n",
    "    def __init__(self, x, y):\n",
    "        self.x = x\n",
    "        self.y = y\n",
    "\n",
    "    def mostrar_coordenadas(self):\n",
    "        print(\"Coordenadas: ({}, {})\".format(self.x, self.y))"
   ]
  },
  {
   "cell_type": "code",
   "execution_count": null,
   "id": "7b7d6172",
   "metadata": {},
   "outputs": [],
   "source": [
    "class Rectangulo:\n",
    "    def __init__(self, punto1, punto2):\n",
    "        self.punto1 = punto1\n",
    "        self.punto2 = punto2\n",
    "\n",
    "    def calcular_area(self):\n",
    "        base = abs(self.punto2.x - self.punto1.x)\n",
    "        altura = abs(self.punto2.y - self.punto1.y)\n",
    "        area = base * altura\n",
    "        return area\n",
    "\n",
    "    def mostrar_informacion(self):\n",
    "        print(\"Punto 1:\")\n",
    "        self.punto1.mostrar_coordenadas()\n",
    "        print(\"Punto 2:\")\n",
    "        self.punto2.mostrar_coordenadas()\n",
    "        print(\"Área:\", self.calcular_area())"
   ]
  },
  {
   "cell_type": "code",
   "execution_count": null,
   "id": "33a017aa",
   "metadata": {},
   "outputs": [],
   "source": [
    "# Creamos dos instancias de la clase Punto\n",
    "punto1 = Punto(2, 3)\n",
    "punto2 = Punto(5, 6)"
   ]
  },
  {
   "cell_type": "code",
   "execution_count": null,
   "id": "d885370d",
   "metadata": {},
   "outputs": [],
   "source": [
    "# Creamos una instancia de la clase Rectangulo, pasando las instancias de Punto como argumentos\n",
    "rectangulo = Rectangulo(punto1, punto2)"
   ]
  },
  {
   "cell_type": "code",
   "execution_count": null,
   "id": "39d3a7cd",
   "metadata": {},
   "outputs": [],
   "source": [
    "# Llamamos al método mostrar_informacion() de la clase Rectangulo\n",
    "rectangulo.mostrar_informacion()"
   ]
  },
  {
   "cell_type": "markdown",
   "id": "12e267dd",
   "metadata": {},
   "source": [
    "### Ejercicio 2\n",
    "\n",
    "Definir las clases `Universidad`, `Facultad` y `Estudiante` en Python. La clase `Universidad` representa una universidad y tiene un atributo `nombre`. La clase `Facultad` representa una facultad en la universidad y tiene un atributo `nombre` y una lista de objetos `Estudiante` que representan a los estudiantes matriculados en la facultad.\n",
    "\n",
    "La clase `Estudiante` representa a un estudiante y tiene los atributos `nombre` y `codigo`. La clase `Estudiante` también tiene un método `mostrar_informacion()` que muestra por pantalla el nombre y el código del estudiante.\n",
    "\n",
    "La clase `Facultad` tiene un método `agregar_estudiante()` que recibe un objeto `Estudiante` y lo agrega a la lista de estudiantes de la facultad. La lista será un atributo privado y contará un metodo `estudiantes()` que devolverá dicha lista (utiliza el decorador *@property*).\n",
    "\n",
    "Crear instancias de las clases `Universidad`, `Facultad` y al menos dos objetos `Estudiante`. Luego, agregar los estudiantes a la facultad y llamar al método `mostrar_informacion()` de cada estudiante para mostrar su información.\n",
    "\n",
    "**Nota:** La relación entre `Facultad` y `Estudiante` es de composición, ya que una facultad contiene estudiantes y la existencia de los estudiantes depende de la existencia de la facultad a la que pertenecen."
   ]
  },
  {
   "cell_type": "code",
   "execution_count": null,
   "id": "4a1e22c0",
   "metadata": {},
   "outputs": [],
   "source": [
    "class Universidad:\n",
    "    def __init__(self, nombre):\n",
    "        self.nombre = nombre"
   ]
  },
  {
   "cell_type": "code",
   "execution_count": null,
   "id": "21f95961",
   "metadata": {},
   "outputs": [],
   "source": [
    "class Facultad:\n",
    "    def __init__(self, nombre):\n",
    "        self.nombre = nombre\n",
    "        self.__estudiantes = []\n",
    "\n",
    "    def agregar_estudiante(self, estudiante):\n",
    "        self.__estudiantes.append(estudiante)\n",
    "\n",
    "    @property\n",
    "    def estudiantes(self):\n",
    "        return self.__estudiantes"
   ]
  },
  {
   "cell_type": "code",
   "execution_count": null,
   "id": "5d9885ba",
   "metadata": {},
   "outputs": [],
   "source": [
    "class Estudiante:\n",
    "    def __init__(self, nombre, codigo):\n",
    "        self.nombre = nombre\n",
    "        self.codigo = codigo\n",
    "\n",
    "    def mostrar_informacion(self):\n",
    "        print(\"Nombre:\", self.nombre)\n",
    "        print(\"Código:\", self.codigo)"
   ]
  },
  {
   "cell_type": "code",
   "execution_count": null,
   "id": "cff24222",
   "metadata": {},
   "outputs": [],
   "source": [
    "# Creamos una instancia de Universidad\n",
    "universidad = Universidad(\"Universidad XYZ\")\n",
    "\n",
    "# Creamos una instancia de Facultad\n",
    "facultad = Facultad(\"Facultad de Ingeniería\")\n",
    "\n",
    "# Creamos instancias de Estudiante\n",
    "estudiante1 = Estudiante(\"Juan\", \"0001\")\n",
    "estudiante2 = Estudiante(\"María\", \"0002\")\n",
    "\n",
    "# Agregamos los estudiantes a la facultad\n",
    "facultad.agregar_estudiante(estudiante1)\n",
    "facultad.agregar_estudiante(estudiante2)\n",
    "\n",
    "# Mostramos la información de los estudiantes en la facultad\n",
    "for estudiante in facultad.estudiantes:\n",
    "    estudiante.mostrar_informacion()\n",
    "    print()"
   ]
  }
 ],
 "metadata": {
  "kernelspec": {
   "display_name": "Python 3 (ipykernel)",
   "language": "python",
   "name": "python3"
  },
  "language_info": {
   "codemirror_mode": {
    "name": "ipython",
    "version": 3
   },
   "file_extension": ".py",
   "mimetype": "text/x-python",
   "name": "python",
   "nbconvert_exporter": "python",
   "pygments_lexer": "ipython3",
   "version": "3.11.3"
  }
 },
 "nbformat": 4,
 "nbformat_minor": 5
}
