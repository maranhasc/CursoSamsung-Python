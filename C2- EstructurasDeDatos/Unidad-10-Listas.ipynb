{
 "cells": [
  {
   "cell_type": "markdown",
   "id": "f59b49fa",
   "metadata": {},
   "source": [
    "# Unidad 10 - Listas\n",
    "\n",
    "## Necesidad de las estructuras de datos\n",
    "\n",
    "Supongamos que queremos calcular la estatura media de varias personas. Una posibilidad es almacenar la estatura de cada persona en una variable de nombre `estatura_i`:"
   ]
  },
  {
   "cell_type": "code",
   "execution_count": null,
   "id": "fe91958a",
   "metadata": {},
   "outputs": [],
   "source": [
    "num_personas = 6\n",
    "\n",
    "estatura_1 = 1.83\n",
    "estatura_2 = 1.76\n",
    "estatura_3 = 1.68\n",
    "estatura_4 = 1.61\n",
    "estatura_5 = 1.89\n",
    "estatura_6 = 1.57"
   ]
  },
  {
   "cell_type": "markdown",
   "id": "543a24c4",
   "metadata": {},
   "source": [
    "Para calcular la altura media necesitamos calcular la suma de todas las estaturas:"
   ]
  },
  {
   "cell_type": "code",
   "execution_count": null,
   "id": "9c48bd1e",
   "metadata": {},
   "outputs": [],
   "source": [
    "suma_estaturas = estatura_1 + estatura_2 + estatura_3 + estatura_4 + estatura_5 + estatura_6\n",
    "media_estaturas = suma_estaturas / num_personas\n",
    "media_estaturas"
   ]
  },
  {
   "cell_type": "markdown",
   "id": "0024fd4d",
   "metadata": {},
   "source": [
    "Claramente este enfoque no es adecuado. Cada vez que añadimos una persona, tenemos que:\n",
    "- modificar el valor de `num_personas`\n",
    "- crear una variable nueva `persona_i`\n",
    "- añadir un sumando al cálculo de `suma_estaturas`\n",
    "\n",
    "Si lo que queremos es elimiar una persona, tendríamos que hacer modificaciones similares.\n",
    "\n",
    "La forma correcta de resolver este problema consiste en utilizar una **estructura de datos**. Una estructura de datos es un tipo de datos que contiene dentro otros datos; es decir, es una **colección** de datos. Por ejemplo, para este problema podriamos tener una variable `estaturas` que almacenara la colección de estaturas de las que queremos calcular la media aritmética:"
   ]
  },
  {
   "cell_type": "code",
   "execution_count": null,
   "id": "9324c972",
   "metadata": {},
   "outputs": [],
   "source": [
    "estaturas = [ 1.83, 1.76, 1.68, 1.61, 1.89, 1.57 ]"
   ]
  },
  {
   "cell_type": "markdown",
   "id": "92865b70",
   "metadata": {},
   "source": [
    "Es decir, tenemos sola una variable `estaturas` que contiene todas las estaturas de las personas que estamos considerando.\n",
    "Con esta solución, si queremos añadir una persona, basta añadir su estatura a la colección. Si queremos eliminar una persona, basta eliminar su estatura de la colección.\n",
    "\n",
    "Observa que hay cierta analogía con los bucles:\n",
    "- los bucles permiten que el código repetido aparezca una sola vez (en el cuerpo del bucle)\n",
    "- las colecciones o estructuras de datos permiten que las variables  _\"repetidas\"_ (`estatura_i`) aparezcan una sola vez (en la variable de tipo colección)"
   ]
  },
  {
   "cell_type": "markdown",
   "id": "a062dbff",
   "metadata": {},
   "source": [
    "## El tipo lista\n",
    "\n",
    "El tipo lista es una colección o estructura de datos Python que permite almacenar varios valores y acceder a los mismos a través de su posición o índice.\n",
    "\n",
    "Un literal de lista tiene la siguiente sintaxis:\n",
    "\n",
    "```python\n",
    "      [exp_0, exp_1, exp_2, ..., exp_n]\n",
    "```\n",
    "\n",
    "Es decir, aparecen los valores que contiene la lista separados por comas y encerrados entre corchetes:"
   ]
  },
  {
   "cell_type": "code",
   "execution_count": null,
   "id": "f753a871",
   "metadata": {},
   "outputs": [],
   "source": [
    "[ 1.83, 1.76, 1.68, 1.61, 1.89, 1.57 ]"
   ]
  },
  {
   "cell_type": "markdown",
   "id": "095251ca",
   "metadata": {},
   "source": [
    "Los elementos de la lista pueden ser de cualquier tipo y, obviamente, las listas se pueden almacenar en una variable:"
   ]
  },
  {
   "cell_type": "code",
   "execution_count": null,
   "id": "db1bca8e",
   "metadata": {},
   "outputs": [],
   "source": [
    "estaturas = [ 1.83, 1.76, 1.68, 1.61, 1.89, 1.57 ]\n",
    "lenguajes = [\"python\", \"java\", \"javascript\", \"c\"]\n",
    "edades = [31, 18, 26, 41, 11, 54]\n",
    "\n",
    "print(estaturas)\n",
    "print(lenguajes)\n",
    "print(edades)"
   ]
  },
  {
   "cell_type": "markdown",
   "id": "fefed1b8",
   "metadata": {},
   "source": [
    "Una lista puede tener cualquier número de elementos, incluso cero:"
   ]
  },
  {
   "cell_type": "code",
   "execution_count": null,
   "id": "439d47d6",
   "metadata": {},
   "outputs": [],
   "source": [
    "lista_vacia = []\n",
    "lista_unitaria = [5]\n",
    "print(lista_vacia)\n",
    "print(lista_unitaria)"
   ]
  },
  {
   "cell_type": "markdown",
   "id": "bc3584ae",
   "metadata": {},
   "source": [
    "Las listas tienen su propio tipo, `list`. Observa que ni el tipo de los elementos ni su número influyen en el tipo:"
   ]
  },
  {
   "cell_type": "code",
   "execution_count": null,
   "id": "7d4e658b",
   "metadata": {},
   "outputs": [],
   "source": [
    "print(type(estaturas))\n",
    "print(type(lenguajes))\n",
    "print(type([1,2,3]))\n",
    "print(type([]))"
   ]
  },
  {
   "cell_type": "markdown",
   "id": "c5f24f66",
   "metadata": {},
   "source": [
    "Las listas pueden incluso mezclar valores de diferentes tipos, aunque no siempre sea lo más recomendable:"
   ]
  },
  {
   "cell_type": "code",
   "execution_count": null,
   "id": "c26fe1ae",
   "metadata": {
    "scrolled": true
   },
   "outputs": [],
   "source": [
    "lista_mixta = [5 * 2, 3.1416, \"python\", 5 > 4]\n",
    "print(type(lista_mixta))\n",
    "print(lista_mixta)"
   ]
  },
  {
   "cell_type": "markdown",
   "id": "e8864865",
   "metadata": {},
   "source": [
    "## Operadores básicos de listas\n",
    "\n",
    "Las listas, al igual que las cadenas (`str`) y los rangos (`range`) son **secuencias**; es decir, son colecciones de datos compuestas por una secuencia (posiblemente vacía) de valores. Cada valor ocupa una posición dentro de la colección (primero, segundo, último, ...). Las posiciones que ocupan los valores se numeran desde cero: el primer valor está en la posición 0, el segundo en la posición 1, etc. A la posición que ocupa un valor se le llama **índice**.\n",
    "\n",
    "Todas las secuencias Python (listas, cadenas y rangos) soportan los siguientes operadores:\n",
    "\n",
    "| Operador     | Significado   |\n",
    "|--------------|---------------|\n",
    "|    `s[i]`    | indexación    |\n",
    "|  `s[i:j:k]`  | _slicing_     |\n",
    "|  `s1 + s2`   | concatenación |\n",
    "|   `n * s`    | replicación   |\n",
    "|  `x in s`    | pertenencia   |\n",
    "| `x not in s` | no pertenencia|\n",
    "\n",
    "**Nota:** Los rangos no soportan ni la contatenación (`+`) ni la replicación (`*`) para evitar valores repetidos."
   ]
  },
  {
   "cell_type": "markdown",
   "id": "82ff318c",
   "metadata": {},
   "source": [
    "### Indexación"
   ]
  },
  {
   "cell_type": "code",
   "execution_count": null,
   "id": "6d1be282",
   "metadata": {},
   "outputs": [],
   "source": [
    "lenguajes[3]"
   ]
  },
  {
   "cell_type": "markdown",
   "id": "2f1a501d",
   "metadata": {},
   "source": [
    "### Indexación negativa"
   ]
  },
  {
   "cell_type": "code",
   "execution_count": null,
   "id": "6c453d71",
   "metadata": {
    "scrolled": true
   },
   "outputs": [],
   "source": [
    "lenguajes[-1]"
   ]
  },
  {
   "cell_type": "markdown",
   "id": "abf43c4e",
   "metadata": {},
   "source": [
    "### Concatenación y replicación"
   ]
  },
  {
   "cell_type": "code",
   "execution_count": null,
   "id": "2933517f",
   "metadata": {},
   "outputs": [],
   "source": [
    "lenguajes + edades"
   ]
  },
  {
   "cell_type": "code",
   "execution_count": null,
   "id": "0558d1b8",
   "metadata": {},
   "outputs": [],
   "source": [
    "2 * lenguajes"
   ]
  },
  {
   "cell_type": "markdown",
   "id": "95316e7e",
   "metadata": {},
   "source": [
    "### Pertenencia a lista"
   ]
  },
  {
   "cell_type": "code",
   "execution_count": null,
   "id": "4e9d7deb",
   "metadata": {},
   "outputs": [],
   "source": [
    "\"python\" in lenguajes  # elemento in lista"
   ]
  },
  {
   "cell_type": "code",
   "execution_count": null,
   "id": "ea9ea7b0",
   "metadata": {},
   "outputs": [],
   "source": [
    "\"th\" in \"python\"  # subcadena in cadena"
   ]
  },
  {
   "cell_type": "markdown",
   "id": "8584ca60",
   "metadata": {},
   "source": [
    "### _Slicing_ básico"
   ]
  },
  {
   "cell_type": "code",
   "execution_count": null,
   "id": "969e0ee6",
   "metadata": {
    "scrolled": true
   },
   "outputs": [],
   "source": [
    "lenguajes[1:3]"
   ]
  },
  {
   "cell_type": "code",
   "execution_count": null,
   "id": "64d889b3",
   "metadata": {},
   "outputs": [],
   "source": [
    "lenguajes[1:]"
   ]
  },
  {
   "cell_type": "code",
   "execution_count": null,
   "id": "86a5ea16",
   "metadata": {},
   "outputs": [],
   "source": [
    "lenguajes[:3]"
   ]
  },
  {
   "cell_type": "code",
   "execution_count": null,
   "id": "e21db670",
   "metadata": {},
   "outputs": [],
   "source": [
    "lenguajes[0:4:3]"
   ]
  },
  {
   "cell_type": "code",
   "execution_count": null,
   "id": "f3f3200b",
   "metadata": {},
   "outputs": [],
   "source": [
    "lenguajes[:]    # toda la lista"
   ]
  },
  {
   "cell_type": "code",
   "execution_count": null,
   "id": "d1afbe26",
   "metadata": {},
   "outputs": [],
   "source": [
    "lenguajes[::-1] # toda la lista, invertida"
   ]
  },
  {
   "cell_type": "code",
   "execution_count": null,
   "id": "5c97fa24",
   "metadata": {},
   "outputs": [],
   "source": [
    "lenguajes[::-2]"
   ]
  },
  {
   "cell_type": "markdown",
   "id": "b25ff841",
   "metadata": {},
   "source": [
    "### Operadores relacionales sobre listas\n",
    "\n",
    "Las listas (al igual que el resto de secuencias) se pueden comparar con los operadores relacionales (`==`, `!=`, `<`, `>`, `<=`, `>=`). Las comparaciones se realizan elemento a elemento, desde el primero al último. La comparación  se resuelve cuando se encuentra la primera discrepancia o cuando alguna de las secuencias se queda sin elementos.\n",
    "\n",
    "**Nota 1:** Los rangos solo soportan `==`y `!=`.\n",
    "\n",
    "**Nota 2:** Para que dos secuencias sean comparables, es necesario que sus valores sean comparables.\n"
   ]
  },
  {
   "cell_type": "code",
   "execution_count": null,
   "id": "f5c07ab7",
   "metadata": {},
   "outputs": [],
   "source": [
    "[1,2,5] > [1,2,3,4]"
   ]
  },
  {
   "cell_type": "code",
   "execution_count": null,
   "id": "ffabc511",
   "metadata": {},
   "outputs": [],
   "source": [
    "[3.14, 12, \"hola\"]  < [\"python\"]"
   ]
  },
  {
   "cell_type": "markdown",
   "id": "be097688",
   "metadata": {},
   "source": [
    "## Funciones sobre listas\n",
    "\n",
    "Las listas, como el resto de secuencias, soportan las siguientes funciones:\n",
    "\n",
    "| Función  | Significado |\n",
    "|----------|-------------|\n",
    "| `len(s)` | longitud    |\n",
    "| `min(s)` | mínimo      |\n",
    "| `max(s)` | máximo      |\n",
    "\n",
    "Además, las listas soportan las siguientes funciones:\n",
    "\n",
    "| Función     | Significado                    |\n",
    "|-------------|--------------------------------|\n",
    "| `sum(s)`    | suma                           |\n",
    "| `any(s)`    | algún elemento es`True`        |\n",
    "| `all(s)`    | todos los elementos son `True` |\n",
    "| `sorted(s)` | devuelve la lista ordenada     |\n",
    "\n"
   ]
  },
  {
   "cell_type": "code",
   "execution_count": null,
   "id": "5e0fa9ea",
   "metadata": {},
   "outputs": [],
   "source": [
    "lista = [6, 7, 1, 12, -56, 34, 1, 12, 7, 0]\n",
    "len(lista)"
   ]
  },
  {
   "cell_type": "code",
   "execution_count": null,
   "id": "53498df1",
   "metadata": {},
   "outputs": [],
   "source": [
    "min(lista)"
   ]
  },
  {
   "cell_type": "code",
   "execution_count": null,
   "id": "9cb675a7",
   "metadata": {},
   "outputs": [],
   "source": [
    "max(lista)"
   ]
  },
  {
   "cell_type": "code",
   "execution_count": null,
   "id": "baa3ed92",
   "metadata": {},
   "outputs": [],
   "source": [
    "sum(lista)"
   ]
  },
  {
   "cell_type": "code",
   "execution_count": null,
   "id": "5191146f",
   "metadata": {},
   "outputs": [],
   "source": [
    "any([ 1 < 2 , \"hola\" == \"ho\", 3 * 5 == 15])"
   ]
  },
  {
   "cell_type": "code",
   "execution_count": null,
   "id": "9fa42c0e",
   "metadata": {},
   "outputs": [],
   "source": [
    "all([ 1 < 2 , \"hola\" == \"ho\", 3 * 5 == 15])"
   ]
  },
  {
   "cell_type": "code",
   "execution_count": null,
   "id": "f75abf2d",
   "metadata": {},
   "outputs": [],
   "source": [
    "sorted(lista) # sorted no modifica la lista"
   ]
  },
  {
   "cell_type": "code",
   "execution_count": null,
   "id": "9a797aec",
   "metadata": {},
   "outputs": [],
   "source": [
    "lista # sorted no modifica la lista"
   ]
  },
  {
   "cell_type": "markdown",
   "id": "56b3091e",
   "metadata": {},
   "source": [
    "## Conversión a tipo lista\n",
    "\n",
    "Podemos convertir ciertos tipos a listas mediante la función de conversión `list`. Esto es especialmente útil con cadenas y rangos:"
   ]
  },
  {
   "cell_type": "code",
   "execution_count": null,
   "id": "016c8768",
   "metadata": {},
   "outputs": [],
   "source": [
    "list(\"hola mundo\")"
   ]
  },
  {
   "cell_type": "code",
   "execution_count": null,
   "id": "27073636",
   "metadata": {},
   "outputs": [],
   "source": [
    "list(range(1,11))"
   ]
  },
  {
   "cell_type": "markdown",
   "id": "4d1716c6",
   "metadata": {},
   "source": [
    "## Las listas son mutables\n",
    "\n",
    "Al contario que las cadenas o los rangos, podemos modificar a voluntad elementos individuales de las listas. Para ello nos referimos al índice o posición del elemento que queremos modificar; es decir, es como la indexación pero aparece al lado izquierdo de una sentencia de asignación:\n",
    "\n",
    "```python\n",
    "   lista[i] = nuevo_valor\n",
    "```"
   ]
  },
  {
   "cell_type": "code",
   "execution_count": null,
   "id": "d3260e9c",
   "metadata": {},
   "outputs": [],
   "source": [
    "otra_lista = list(range(1,16))\n",
    "otra_lista"
   ]
  },
  {
   "cell_type": "code",
   "execution_count": null,
   "id": "2725b231",
   "metadata": {},
   "outputs": [],
   "source": [
    "otra_lista[-1] = 1001\n",
    "otra_lista"
   ]
  },
  {
   "cell_type": "markdown",
   "id": "5b863409",
   "metadata": {},
   "source": [
    "### Las cadenas no son mutables"
   ]
  },
  {
   "cell_type": "code",
   "execution_count": null,
   "id": "f39efb1e",
   "metadata": {},
   "outputs": [],
   "source": [
    "cadena = \"hola\"\n",
    "cadena"
   ]
  },
  {
   "cell_type": "code",
   "execution_count": null,
   "id": "afcb6cb9",
   "metadata": {},
   "outputs": [],
   "source": [
    "cadena[0] = 'H'\n",
    "cadena"
   ]
  },
  {
   "cell_type": "markdown",
   "id": "69b0cd6e",
   "metadata": {},
   "source": [
    "### _Slicing_ y mutabilidad\n",
    "\n",
    "La operación de _slicing_ devuelve una **nueva** lista. Las modificaciones que hagamos sobre la nueva lista no afectan a la original:"
   ]
  },
  {
   "cell_type": "code",
   "execution_count": null,
   "id": "91a326f4",
   "metadata": {},
   "outputs": [],
   "source": [
    "original = [1,2,3,4,5]\n",
    "rebanada = original[::2]\n",
    "print(original)\n",
    "print(rebanada)"
   ]
  },
  {
   "cell_type": "code",
   "execution_count": null,
   "id": "09235ed7",
   "metadata": {},
   "outputs": [],
   "source": [
    "rebanada[1] = 5005\n",
    "print(original)\n",
    "print(rebanada)"
   ]
  },
  {
   "cell_type": "code",
   "execution_count": null,
   "id": "de734af3",
   "metadata": {},
   "outputs": [],
   "source": [
    "toda = original  # alias (son la misma lista)\n",
    "print(original)\n",
    "print(toda)"
   ]
  },
  {
   "cell_type": "code",
   "execution_count": null,
   "id": "328b3118",
   "metadata": {},
   "outputs": [],
   "source": [
    "toda[2] = 3333\n",
    "print(original)\n",
    "print(toda)"
   ]
  },
  {
   "cell_type": "code",
   "execution_count": null,
   "id": "b8503653",
   "metadata": {},
   "outputs": [],
   "source": [
    "copia_de_todas = original[:]  # copia\n",
    "print(original)\n",
    "print(copia_de_todas)"
   ]
  },
  {
   "cell_type": "code",
   "execution_count": null,
   "id": "d2f7203e",
   "metadata": {},
   "outputs": [],
   "source": [
    "copia_de_todas[2] = -4\n",
    "print(original)\n",
    "print(copia_de_todas)"
   ]
  },
  {
   "cell_type": "markdown",
   "id": "ee41a0a0",
   "metadata": {},
   "source": [
    "## Métodos sobre listas\n",
    "\n",
    "Las listas soportan varios métodos. Recuerda que un método es similar a una función, pero la sintaxis para usarlos es diferente:\n",
    "\n",
    "|             | Sintaxis                |\n",
    "|-------------|-------------------------|\n",
    "| **Función** | nombre_de_funcion(dato) |\n",
    "| **Método**  | dato.nombre_de_metodo() |\n",
    "\n",
    "Por supuesto, es posible que tanto la función como el método tomen argumentos adicionales:\n",
    "\n",
    "|             | Sintaxis                      |\n",
    "|-------------|-------------------------------|\n",
    "| **Función** | nombre_de_funcion(dato, args) |\n",
    "| **Método**  | dato.nombre_de_metodo(args)   |\n",
    "\n",
    "Una característica muy importante de los métodos sobre listas es que la aplicación de un método puede **modificar** la lista. Esto se debe a que las listas son **mutables**.\n",
    "\n",
    "**Nota:** Técnicamente, también es posible que una función modifique la lista que le pasamos como parámetro, pero esto es menos habitual y no muy recomendable. En concreto, las funciones anteriores (`len()`, `max()`, `min()`, etc. no modifican la lista).\n",
    "\n",
    "Las listas soportan los siguientes métodos:\n",
    "\n",
    "| Método                 | Significado                                               |\n",
    "|------------------------|-----------------------------------------------------------|\n",
    "| `l.append(x)`          | añade `x`al final de `l`                                  |\n",
    "| `l1.extend(l2)`        | añade todos los elementos de `l2` al final de `l1`        |\n",
    "| `l.insert(i,x)`        | inserta `x`en la posición `i`de `l`                       |\n",
    "| `l.pop()`              | elimina el último elemento de `l`                         |\n",
    "| `l.pop(i)`             | elimina el elemento en la posición `i`de `l`              |\n",
    "| `l.remove(x)`          | elimina la primera aparición de `x` de `l`                |\n",
    "| `l.count(x)`           | devuelve cuántas veces aparece `x`en `l`                  |\n",
    "| `l.index(x)`           | devuelve la posición de la primera aparición de `x`en `l` |\n",
    "| `l.sort()`             | ordena `l`ascendentemente                                 |\n",
    "| `l.sort(reverse=True)` | ordena `l`descendentemente                                |"
   ]
  },
  {
   "cell_type": "code",
   "execution_count": null,
   "id": "15a08131",
   "metadata": {},
   "outputs": [],
   "source": [
    "numeros = list(range(0,17,2))\n",
    "print(numeros)\n",
    "numeros.append(900)\n",
    "numeros"
   ]
  },
  {
   "cell_type": "code",
   "execution_count": null,
   "id": "65dfa967",
   "metadata": {},
   "outputs": [],
   "source": [
    "numeros.extend([-1,-2,-3])\n",
    "numeros"
   ]
  },
  {
   "cell_type": "code",
   "execution_count": null,
   "id": "9194c5c2",
   "metadata": {},
   "outputs": [],
   "source": [
    "numeros.append([100, 200, 300])  # probablemente debería ser append\n",
    "numeros"
   ]
  },
  {
   "cell_type": "code",
   "execution_count": null,
   "id": "58412a3d",
   "metadata": {},
   "outputs": [],
   "source": [
    "numeros = list(range(0,17,2))\n",
    "print(numeros)\n",
    "numeros.insert(4,116)\n",
    "numeros"
   ]
  },
  {
   "cell_type": "code",
   "execution_count": null,
   "id": "70b42f64",
   "metadata": {},
   "outputs": [],
   "source": [
    "numeros = list(range(0,17,2))\n",
    "print(numeros)\n",
    "numeros.pop(0)\n",
    "n = numeros.pop(0)  # elimina y devuelve el eliminado\n",
    "print(n)\n",
    "numeros"
   ]
  },
  {
   "cell_type": "code",
   "execution_count": null,
   "id": "00d5bfcd",
   "metadata": {},
   "outputs": [],
   "source": [
    "numeros = list(range(0,17,2))\n",
    "print(numeros)\n",
    "numeros.remove(10)\n",
    "if 5 in numeros:\n",
    "    numeros.remove(5)  # si el valor a eliminar no está, falla\n",
    "numeros"
   ]
  },
  {
   "cell_type": "code",
   "execution_count": null,
   "id": "ba8a5ea7",
   "metadata": {},
   "outputs": [],
   "source": [
    "ls = [1,4,1,2,3,1,2,4,5,3]\n",
    "ls.count(3)"
   ]
  },
  {
   "cell_type": "code",
   "execution_count": null,
   "id": "af003ca4",
   "metadata": {
    "scrolled": true
   },
   "outputs": [],
   "source": [
    "ls = [1,4,1,2,3,1,2,4,5,3]\n",
    "ls.index(2)"
   ]
  },
  {
   "cell_type": "code",
   "execution_count": null,
   "id": "f0f136c8",
   "metadata": {},
   "outputs": [],
   "source": [
    "ls = [1,4,1,2,3,1,2,4,5,3]\n",
    "ls.sort()\n",
    "ls"
   ]
  },
  {
   "cell_type": "code",
   "execution_count": null,
   "id": "ca015a9d",
   "metadata": {},
   "outputs": [],
   "source": [
    "ls = [1,4,1,2,3,1,2,4,5,3]\n",
    "ls.sort(reverse=True)\n",
    "ls"
   ]
  },
  {
   "cell_type": "code",
   "execution_count": null,
   "id": "b0a96957",
   "metadata": {},
   "outputs": [],
   "source": [
    "help(list.remove)"
   ]
  },
  {
   "cell_type": "markdown",
   "id": "ce7d04d5",
   "metadata": {},
   "source": [
    "## Iteración sobre listas\n",
    "\n",
    "Podemos utilizar bucles para visitar uno a uno los elementos de una lista.\n",
    "\n",
    "Si vamos a visitar exhaustivamente los elementos de la lista, es preferible utilizar un bucle `for` usando la lista como fuente de datos:\n",
    "\n",
    "```python\n",
    "   for x in lista:\n",
    "        procesa elemento x\n",
    "```\n",
    "\n"
   ]
  },
  {
   "cell_type": "code",
   "execution_count": null,
   "id": "c1489aad",
   "metadata": {},
   "outputs": [],
   "source": [
    "numeros = [1, 7, 0, -5, 6, 3, -8, 2]\n",
    "\n",
    "# ¿Cuántos elementos positivos hay en la lista?\n",
    "\n",
    "num_positivos = 0\n",
    "for n in numeros:  # n = 1, 7, 0, -5, 6, 3, -8, 2\n",
    "    if n > 0:\n",
    "        num_positivos += 1\n",
    "\n",
    "num_positivos"
   ]
  },
  {
   "cell_type": "markdown",
   "id": "e5203dd7",
   "metadata": {},
   "source": [
    "Si vamos a visitar solo algunos elementos de la lista porque la iteración se puede detener prematuramente, es preferible utilizar un bucle `while` y acceder por indexación:\n",
    "\n",
    "```python\n",
    "    i = 0\n",
    "    while  i < len(lista) and condición:\n",
    "        procesa elemento lista[i]\n",
    "        i += 1\n",
    "```"
   ]
  },
  {
   "cell_type": "code",
   "execution_count": null,
   "id": "7252539d",
   "metadata": {},
   "outputs": [],
   "source": [
    "# numeros = [1, 7, 0, -5, 6, 3, -8, 2]\n",
    "\n",
    "numeros = [4,1,3,5,4]\n",
    "\n",
    "# ¿tiene algún elemento negativo?\n",
    "\n",
    "i = 0\n",
    "hay_negativo = False\n",
    "while i < len(numeros) and not hay_negativo:\n",
    "    # print(numeros[i])\n",
    "    hay_negativo = numeros[i] < 0\n",
    "    i += 1\n",
    "    \n",
    "if hay_negativo:\n",
    "    print(\"hay algún negativo\")\n",
    "else:\n",
    "    print(\"no hay ningún negativo\")"
   ]
  },
  {
   "cell_type": "markdown",
   "id": "11098944",
   "metadata": {},
   "source": [
    "## Solución del primer ejercicio de paper coding (60)"
   ]
  },
  {
   "cell_type": "code",
   "execution_count": null,
   "id": "5c59e0da",
   "metadata": {},
   "outputs": [],
   "source": [
    "prime_list = [2,3,5,7]\n",
    "print(\"el primer elemento de la lista es\", prime_list[0])"
   ]
  },
  {
   "cell_type": "markdown",
   "id": "6b16abe2",
   "metadata": {},
   "source": [
    "## Solución del segundo ejercicio de paper coding (61)"
   ]
  },
  {
   "cell_type": "code",
   "execution_count": null,
   "id": "c901e965",
   "metadata": {},
   "outputs": [],
   "source": [
    "prime_list = [2,3,5,7]\n",
    "print(\"lista de primos:\", prime_list)\n",
    "prime_list.append(11)\n",
    "print(\"lista de primos tras añadir otro:\", prime_list)"
   ]
  },
  {
   "cell_type": "markdown",
   "id": "2212025a",
   "metadata": {},
   "source": [
    "## Solución del tercer ejercicio de paper coding (62)"
   ]
  },
  {
   "cell_type": "code",
   "execution_count": null,
   "id": "55f8615a",
   "metadata": {},
   "outputs": [],
   "source": [
    "list1 = [3, 5, 7]\n",
    "list2 = [2, 3, 4, 5, 6]\n",
    "\n",
    "for elemento_lista1 in list1: #  elemento_lista1 = 3, 5, 7\n",
    "    for elemento_lista2 in list2: # elemento_lista2 = 2, 3, 4, 5, 6\n",
    "        print(elemento_lista1, \"*\", elemento_lista2, \"=\", elemento_lista1*elemento_lista2)"
   ]
  },
  {
   "cell_type": "markdown",
   "id": "2e20ce5e",
   "metadata": {},
   "source": [
    "## Solución del primer ejercicio de pair programming (85)"
   ]
  },
  {
   "cell_type": "code",
   "execution_count": null,
   "id": "baac3e2b",
   "metadata": {},
   "outputs": [],
   "source": [
    "s_list = [\"abc\", \"bcd\", \"bcdefg\", \"abba\", \"cddc\", \"opq\"]\n",
    "\n",
    "if len(s_list) == 0:\n",
    "    print(\"no está definido\")\n",
    "else:\n",
    "    cadena_mas_corta = s_list[0] # hasta el momento\n",
    "    for cadena in s_list:  # cadena = \"abc\", \"bcd\", \"bcdefg\", \"abba\", \"cddc\", \"opq\"\n",
    "        if len(cadena) < len(cadena_mas_corta):\n",
    "            cadena_mas_corta = cadena\n",
    "\n",
    "    print(\"La primera cadena más corta de la lista es:\", cadena_mas_corta) "
   ]
  },
  {
   "cell_type": "markdown",
   "id": "b5d8cc94",
   "metadata": {},
   "source": [
    "## Solución del segundo ejercicio de pair programming (86)"
   ]
  },
  {
   "cell_type": "code",
   "execution_count": null,
   "id": "90f37703",
   "metadata": {},
   "outputs": [],
   "source": [
    "s_list = [\"abc\", \"bcd\", \"bcdefg\", \"abba\", \"cddc\", \"opq\"]\n",
    "\n",
    "if len(s_list) == 0:\n",
    "    print(\"No está definido.\")\n",
    "else:\n",
    "    largest_string = s_list[0]\n",
    "\n",
    "    for elemento in s_list:\n",
    "        if len(elemento) > len(largest_string):\n",
    "            largest_string = elemento\n",
    "\n",
    "    print(\"The largest string is\", largest_string)"
   ]
  },
  {
   "cell_type": "markdown",
   "id": "00e4f3bf",
   "metadata": {},
   "source": [
    "## Solución del tercer ejercicio de pair programming (87)"
   ]
  },
  {
   "cell_type": "code",
   "execution_count": null,
   "id": "dca3319e",
   "metadata": {},
   "outputs": [],
   "source": [
    "# No utilices el método sort\n",
    "# la solución debe ser la lista [\"abc\", \"bcd\", \"opq\"]\n",
    "\n",
    "s_list = ['abc', 'bcd', 'bcdefg', 'abba', 'cddc', 'opq']\n",
    "\n",
    "if len(s_list) == 0:\n",
    "    print(\"no esta definido\")\n",
    "else: \n",
    "    shortest_length = len(s_list[0])\n",
    "    for s in s_list:\n",
    "        if len(s) < shortest_length:\n",
    "            shortest_length = len(s)\n",
    "\n",
    "    shortest_strings = []\n",
    "    for s in s_list:\n",
    "        if len(s) == shortest_length:\n",
    "            shortest_strings.append(s)\n",
    "\n",
    "print(\"Cadenas con la longitud más pequeña:\", shortest_strings)"
   ]
  },
  {
   "cell_type": "code",
   "execution_count": null,
   "id": "f0d08ad5",
   "metadata": {},
   "outputs": [],
   "source": [
    "s_list = [\"abc\", \"bcd\", \"bcdefg\", \"x\", \"abba\", \"cddc\", \"y\", \"opq\"]\n",
    "\n",
    "if len(s_list) == 0:\n",
    "    print(\"no está definido\") # []\n",
    "else:\n",
    "    long_cadena_corta = len(s_list[0])\n",
    "    lista_cadenas_cortas =[]\n",
    "\n",
    "    for cadena in s_list:\n",
    "        print(lista_cadenas_cortas, long_cadena_corta, cadena)\n",
    "        if len(cadena) == long_cadena_corta:\n",
    "            lista_cadenas_cortas.append(cadena)\n",
    "        elif len(cadena) < long_cadena_corta:\n",
    "            long_cadena_corta = len(cadena)\n",
    "            lista_cadenas_cortas = [cadena]\n",
    "\n",
    "    print(\"La lista de cadenas más cortas es:\", lista_cadenas_cortas) "
   ]
  },
  {
   "cell_type": "markdown",
   "id": "bab85076",
   "metadata": {},
   "source": [
    "## Solución del mission problem (12)"
   ]
  },
  {
   "cell_type": "code",
   "execution_count": null,
   "id": "9f76b075",
   "metadata": {},
   "outputs": [],
   "source": [
    "#         [nombre, edad, género, altura, peso]\n",
    "person1 = ['David Doe', 20, 1, 180.0, 100.0]\n",
    "person2 = ['John Smith', 25, 1, 170.0, 70.0]\n",
    "person3 = ['Jane Carter', 22, 0, 169.0, 60.0]\n",
    "person4 = ['Peter Kelly', 40, 1, 150.0, 50.0]\n",
    "\n",
    "database = [person1, person2, person3, person4]\n",
    "\n",
    "# calcular el promedio de edad\n",
    "\n",
    "database"
   ]
  },
  {
   "cell_type": "markdown",
   "id": "866470e8",
   "metadata": {},
   "source": [
    "## Apéndice: Tuplas\n",
    "\n",
    "Las tuplas son semejantes a las listas, pero son **inmutables**. Una vez creada una tupla, no podemos modificar su contenido: no podemos ni modificar, ni añadir, ni eliminar elementos.\n",
    "\n",
    "La sintaxis de un literal de tupla es:\n",
    "\n",
    "```python\n",
    "   (exp_0, epx_1, exp_2,..., exp_n)\n",
    "```\n",
    "\n",
    "Es decir, aparecen los valores que contiene la lista separados por comas y encerrados entre paréntesis:"
   ]
  },
  {
   "cell_type": "code",
   "execution_count": null,
   "id": "df211cbe",
   "metadata": {},
   "outputs": [],
   "source": [
    "colores_parchis = (\"rojo\", \"azul\", \"amarillo\", \"verde\")\n",
    "ubicacion_tesoro = (23.671, 78.539)\n",
    "\n",
    "print(colores_parchis)\n",
    "print(ubicacion_tesoro)"
   ]
  },
  {
   "cell_type": "markdown",
   "id": "80e84c5e",
   "metadata": {},
   "source": [
    "Las tuplas tienen su propio tipo, `tuple`, que no se ve afectado por el número o tipo de sus elementos:"
   ]
  },
  {
   "cell_type": "code",
   "execution_count": null,
   "id": "2397fa71",
   "metadata": {},
   "outputs": [],
   "source": [
    "print(type(colores_parchis))\n",
    "print(type(ubicacion_tesoro))"
   ]
  },
  {
   "cell_type": "markdown",
   "id": "b632d7de",
   "metadata": {},
   "source": [
    "Las tuplas son **secuencias**, podemos aplicar cualquiera de los operadores o funciones sobre secuencias:\n",
    "\n",
    "\n",
    "| Operador     | Significado   |\n",
    "|--------------|---------------|\n",
    "|    `s[i]`    | indexación    |\n",
    "|  `s[i:j:k]`  | _slicing_     |\n",
    "|  `s1 + s2`   | concatenación |\n",
    "|   `n * s`    | replicación   |\n",
    "|  `x in s`    | pertenencia   |\n",
    "| `x not in s` | no pertenencia|\n",
    "\n",
    "| Función  | Significado |\n",
    "|----------|-------------|\n",
    "| `len(s)` | longitud    |\n",
    "| `min(s)` | mínimo      |\n",
    "| `max(s)` | máximo      |"
   ]
  },
  {
   "cell_type": "code",
   "execution_count": null,
   "id": "84991b54",
   "metadata": {},
   "outputs": [],
   "source": [
    "print(colores_parchis)\n",
    "print(colores_parchis[0])\n",
    "print(colores_parchis[1:3])\n",
    "print(colores_parchis + ubicacion)\n",
    "print(2 * colores_parchis)\n",
    "print(\"azul\" in colores_parchis)\n",
    "print(len(colores_parchis))\n",
    "print(max(colores_parchis))"
   ]
  },
  {
   "cell_type": "markdown",
   "id": "577e0f06",
   "metadata": {},
   "source": [
    "Las tuplas se comparan elemento a elemento, del primero al último:"
   ]
  },
  {
   "cell_type": "code",
   "execution_count": null,
   "id": "95e369f2",
   "metadata": {},
   "outputs": [],
   "source": [
    "(1,2,5) > (1,2,3,4,5)"
   ]
  },
  {
   "cell_type": "markdown",
   "id": "d5a97802",
   "metadata": {},
   "source": [
    "La función de conversión `tuple()`permite convertir una secuencia a una tupla:"
   ]
  },
  {
   "cell_type": "code",
   "execution_count": null,
   "id": "a5fec6a8",
   "metadata": {},
   "outputs": [],
   "source": [
    "print(tuple([\"python\", \"java\", \"C#\"]))\n",
    "print(tuple(range(0,50,5)))"
   ]
  },
  {
   "cell_type": "markdown",
   "id": "127bf8df",
   "metadata": {},
   "source": [
    "Para conocer los métodos sobre tuplas, usa autocompletado y la función `help()`:"
   ]
  },
  {
   "cell_type": "code",
   "execution_count": null,
   "id": "0cba7e16",
   "metadata": {},
   "outputs": [],
   "source": [
    "tupla = (1,2,3)\n",
    "tupla."
   ]
  },
  {
   "cell_type": "markdown",
   "id": "ba600f91",
   "metadata": {},
   "source": [
    "Podemos iterar sobre una lista usando un bucle `for` o `while`:"
   ]
  },
  {
   "cell_type": "code",
   "execution_count": null,
   "id": "600c5db3",
   "metadata": {
    "scrolled": true
   },
   "outputs": [],
   "source": [
    "for color in colores_parchis:\n",
    "    print(color)"
   ]
  },
  {
   "cell_type": "code",
   "execution_count": null,
   "id": "30e1d8b2",
   "metadata": {},
   "outputs": [],
   "source": [
    "i = 0\n",
    "while i < len(colores_parchis):\n",
    "    print(colores_parchis[i])\n",
    "    i += 1"
   ]
  },
  {
   "cell_type": "markdown",
   "id": "123435cc",
   "metadata": {},
   "source": [
    "Las tuplas se usan cuando una función debe devolver varios resultados:"
   ]
  },
  {
   "cell_type": "code",
   "execution_count": null,
   "id": "12f20989",
   "metadata": {},
   "outputs": [],
   "source": [
    "cociente = 73 // 5\n",
    "resto = 73 % 5\n",
    "print(cociente, resto)"
   ]
  },
  {
   "cell_type": "code",
   "execution_count": null,
   "id": "cd3a7e0d",
   "metadata": {},
   "outputs": [],
   "source": [
    "cociente_resto = divmod(73, 5)  # nombramos la tupla\n",
    "print(type(cociente_resto))\n",
    "print(cociente_resto)"
   ]
  },
  {
   "cell_type": "code",
   "execution_count": null,
   "id": "b6b958f0",
   "metadata": {},
   "outputs": [],
   "source": [
    "cociente, resto = divmod(73, 5)  # unpacking: nombramos cada elemento de la tupla\n",
    "print(type(cociente))\n",
    "print(type(resto))\n",
    "print(cociente, resto)"
   ]
  },
  {
   "cell_type": "markdown",
   "id": "3906c9b5",
   "metadata": {},
   "source": [
    "El _unpacking_ permite desempaquetar una tupla en sus componentes individuales:"
   ]
  },
  {
   "cell_type": "code",
   "execution_count": null,
   "id": "cd7620e5",
   "metadata": {},
   "outputs": [],
   "source": [
    "evento = (29, \"junio\", \"16:30\", \"clase de Samsung\")\n",
    "print(evento[0], evento[1], evento[2], evento[3])\n",
    "\n",
    "dia, mes, hora, que = evento # unpacking\n",
    "print(dia, mes, hora, que)"
   ]
  }
 ],
 "metadata": {
  "kernelspec": {
   "display_name": "Python 3 (ipykernel)",
   "language": "python",
   "name": "python3"
  },
  "language_info": {
   "codemirror_mode": {
    "name": "ipython",
    "version": 3
   },
   "file_extension": ".py",
   "mimetype": "text/x-python",
   "name": "python",
   "nbconvert_exporter": "python",
   "pygments_lexer": "ipython3",
   "version": "3.11.3"
  }
 },
 "nbformat": 4,
 "nbformat_minor": 5
}
